{
 "cells": [
  {
   "cell_type": "code",
   "execution_count": 6,
   "id": "e81c1af5",
   "metadata": {},
   "outputs": [],
   "source": [
    "from selenium import webdriver\n",
    "from selenium.webdriver.common.by import By\n",
    "from selenium.webdriver.support.ui import WebDriverWait\n",
    "from selenium.webdriver.support import expected_conditions as EC"
   ]
  },
  {
   "cell_type": "code",
   "execution_count": 10,
   "id": "364507dd",
   "metadata": {},
   "outputs": [],
   "source": [
    "ShopName = []\n",
    "ImageURL = []\n",
    "ProductName = []\n",
    "LastMontSale = []\n",
    "Price = []\n",
    "MRP = []\n",
    "Discount = []"
   ]
  },
  {
   "cell_type": "code",
   "execution_count": null,
   "id": "b72ddbde",
   "metadata": {},
   "outputs": [],
   "source": [
    "div.s-result-item\n",
    "select#searchDropdownBox"
   ]
  },
  {
   "cell_type": "code",
   "execution_count": 7,
   "id": "e1d4bdb7",
   "metadata": {},
   "outputs": [],
   "source": [
    "sellerLink = [\"https://www.amazon.in/s?me=A1JFGLNA2OIZ9D&marketplaceID=A21TJRUUN4KGV\", \"https://www.amazon.in/s?me=AKTXA7AJ89MBZ&marketplaceID=A21TJRUUN4KGV\", \"https://www.amazon.in/s?me=AYWT4GP79X9K0&marketplaceID=A21TJRUUN4KGV\", \"https://www.amazon.in/s?me=A1V6GP6UHBM01Y&marketplaceID=A21TJRUUN4KGV\", \"https://www.amazon.in/s?me=A15APWRK6P7LBV&marketplaceID=A21TJRUUN4KGV\", \"https://www.amazon.in/s?me=A3CDESZ4SN16PC&marketplaceID=A21TJRUUN4KGV\", \"https://www.amazon.in/s?me=A2KRS11OT0VF15&marketplaceID=A21TJRUUN4KGV\",\"https://www.amazon.in/s?me=A1UJGTKG9XY4YH&marketplaceID=A21TJRUUN4KGV\", \"https://www.amazon.in/s?me=A1CK3ESH1W3AY6&marketplaceID=A21TJRUUN4KGV\", \"https://www.amazon.in/s?me=AYULJ62V3PUFP&marketplaceID=A21TJRUUN4KGV\", \"\"]"
   ]
  },
  {
   "cell_type": "code",
   "execution_count": 12,
   "id": "1256add6",
   "metadata": {},
   "outputs": [
    {
     "ename": "NoSuchWindowException",
     "evalue": "Message: no such window: target window already closed\nfrom unknown error: web view not found\n  (Session info: chrome=115.0.5790.171)\n",
     "output_type": "error",
     "traceback": [
      "\u001b[1;31m---------------------------------------------------------------------------\u001b[0m",
      "\u001b[1;31mNoSuchWindowException\u001b[0m                     Traceback (most recent call last)",
      "Input \u001b[1;32mIn [12]\u001b[0m, in \u001b[0;36m<cell line: 2>\u001b[1;34m()\u001b[0m\n\u001b[0;32m     11\u001b[0m \u001b[38;5;28;01mfor\u001b[39;00m product \u001b[38;5;129;01min\u001b[39;00m search_products:\n\u001b[0;32m     12\u001b[0m     ShopName\u001b[38;5;241m.\u001b[39mappend(seller)\n\u001b[1;32m---> 14\u001b[0m     image \u001b[38;5;241m=\u001b[39m \u001b[43mproduct\u001b[49m\u001b[38;5;241;43m.\u001b[39;49m\u001b[43mfind_element\u001b[49m\u001b[43m(\u001b[49m\u001b[43mBy\u001b[49m\u001b[38;5;241;43m.\u001b[39;49m\u001b[43mCSS_SELECTOR\u001b[49m\u001b[43m,\u001b[49m\u001b[43m \u001b[49m\u001b[38;5;124;43m\"\u001b[39;49m\u001b[38;5;124;43mimg.s-image\u001b[39;49m\u001b[38;5;124;43m\"\u001b[39;49m\u001b[43m)\u001b[49m\u001b[38;5;241m.\u001b[39mget_attribute(\u001b[38;5;124m\"\u001b[39m\u001b[38;5;124msrc\u001b[39m\u001b[38;5;124m\"\u001b[39m)\n\u001b[0;32m     15\u001b[0m     ImageURL\u001b[38;5;241m.\u001b[39mappend(image)\n\u001b[0;32m     17\u001b[0m     itemName \u001b[38;5;241m=\u001b[39m product\u001b[38;5;241m.\u001b[39mfind_element(By\u001b[38;5;241m.\u001b[39mCSS_SELECTOR, \u001b[38;5;124m\"\u001b[39m\u001b[38;5;124mh2.s-line-clamp-2\u001b[39m\u001b[38;5;124m\"\u001b[39m)\u001b[38;5;241m.\u001b[39mtext\n",
      "File \u001b[1;32mc:\\users\\thinkpad\\appdata\\local\\programs\\python\\python38\\lib\\site-packages\\selenium\\webdriver\\remote\\webelement.py:658\u001b[0m, in \u001b[0;36mWebElement.find_element\u001b[1;34m(self, by, value)\u001b[0m\n\u001b[0;32m    655\u001b[0m         by \u001b[38;5;241m=\u001b[39m By\u001b[38;5;241m.\u001b[39mCSS_SELECTOR\n\u001b[0;32m    656\u001b[0m         value \u001b[38;5;241m=\u001b[39m \u001b[38;5;124m'\u001b[39m\u001b[38;5;124m[name=\u001b[39m\u001b[38;5;124m\"\u001b[39m\u001b[38;5;132;01m%s\u001b[39;00m\u001b[38;5;124m\"\u001b[39m\u001b[38;5;124m]\u001b[39m\u001b[38;5;124m'\u001b[39m \u001b[38;5;241m%\u001b[39m value\n\u001b[1;32m--> 658\u001b[0m \u001b[38;5;28;01mreturn\u001b[39;00m \u001b[38;5;28;43mself\u001b[39;49m\u001b[38;5;241;43m.\u001b[39;49m\u001b[43m_execute\u001b[49m\u001b[43m(\u001b[49m\u001b[43mCommand\u001b[49m\u001b[38;5;241;43m.\u001b[39;49m\u001b[43mFIND_CHILD_ELEMENT\u001b[49m\u001b[43m,\u001b[49m\n\u001b[0;32m    659\u001b[0m \u001b[43m                     \u001b[49m\u001b[43m{\u001b[49m\u001b[38;5;124;43m\"\u001b[39;49m\u001b[38;5;124;43musing\u001b[39;49m\u001b[38;5;124;43m\"\u001b[39;49m\u001b[43m:\u001b[49m\u001b[43m \u001b[49m\u001b[43mby\u001b[49m\u001b[43m,\u001b[49m\u001b[43m \u001b[49m\u001b[38;5;124;43m\"\u001b[39;49m\u001b[38;5;124;43mvalue\u001b[39;49m\u001b[38;5;124;43m\"\u001b[39;49m\u001b[43m:\u001b[49m\u001b[43m \u001b[49m\u001b[43mvalue\u001b[49m\u001b[43m}\u001b[49m\u001b[43m)\u001b[49m[\u001b[38;5;124m'\u001b[39m\u001b[38;5;124mvalue\u001b[39m\u001b[38;5;124m'\u001b[39m]\n",
      "File \u001b[1;32mc:\\users\\thinkpad\\appdata\\local\\programs\\python\\python38\\lib\\site-packages\\selenium\\webdriver\\remote\\webelement.py:633\u001b[0m, in \u001b[0;36mWebElement._execute\u001b[1;34m(self, command, params)\u001b[0m\n\u001b[0;32m    631\u001b[0m     params \u001b[38;5;241m=\u001b[39m {}\n\u001b[0;32m    632\u001b[0m params[\u001b[38;5;124m'\u001b[39m\u001b[38;5;124mid\u001b[39m\u001b[38;5;124m'\u001b[39m] \u001b[38;5;241m=\u001b[39m \u001b[38;5;28mself\u001b[39m\u001b[38;5;241m.\u001b[39m_id\n\u001b[1;32m--> 633\u001b[0m \u001b[38;5;28;01mreturn\u001b[39;00m \u001b[38;5;28;43mself\u001b[39;49m\u001b[38;5;241;43m.\u001b[39;49m\u001b[43m_parent\u001b[49m\u001b[38;5;241;43m.\u001b[39;49m\u001b[43mexecute\u001b[49m\u001b[43m(\u001b[49m\u001b[43mcommand\u001b[49m\u001b[43m,\u001b[49m\u001b[43m \u001b[49m\u001b[43mparams\u001b[49m\u001b[43m)\u001b[49m\n",
      "File \u001b[1;32mc:\\users\\thinkpad\\appdata\\local\\programs\\python\\python38\\lib\\site-packages\\selenium\\webdriver\\remote\\webdriver.py:321\u001b[0m, in \u001b[0;36mWebDriver.execute\u001b[1;34m(self, driver_command, params)\u001b[0m\n\u001b[0;32m    319\u001b[0m response \u001b[38;5;241m=\u001b[39m \u001b[38;5;28mself\u001b[39m\u001b[38;5;241m.\u001b[39mcommand_executor\u001b[38;5;241m.\u001b[39mexecute(driver_command, params)\n\u001b[0;32m    320\u001b[0m \u001b[38;5;28;01mif\u001b[39;00m response:\n\u001b[1;32m--> 321\u001b[0m     \u001b[38;5;28;43mself\u001b[39;49m\u001b[38;5;241;43m.\u001b[39;49m\u001b[43merror_handler\u001b[49m\u001b[38;5;241;43m.\u001b[39;49m\u001b[43mcheck_response\u001b[49m\u001b[43m(\u001b[49m\u001b[43mresponse\u001b[49m\u001b[43m)\u001b[49m\n\u001b[0;32m    322\u001b[0m     response[\u001b[38;5;124m'\u001b[39m\u001b[38;5;124mvalue\u001b[39m\u001b[38;5;124m'\u001b[39m] \u001b[38;5;241m=\u001b[39m \u001b[38;5;28mself\u001b[39m\u001b[38;5;241m.\u001b[39m_unwrap_value(\n\u001b[0;32m    323\u001b[0m         response\u001b[38;5;241m.\u001b[39mget(\u001b[38;5;124m'\u001b[39m\u001b[38;5;124mvalue\u001b[39m\u001b[38;5;124m'\u001b[39m, \u001b[38;5;28;01mNone\u001b[39;00m))\n\u001b[0;32m    324\u001b[0m     \u001b[38;5;28;01mreturn\u001b[39;00m response\n",
      "File \u001b[1;32mc:\\users\\thinkpad\\appdata\\local\\programs\\python\\python38\\lib\\site-packages\\selenium\\webdriver\\remote\\errorhandler.py:242\u001b[0m, in \u001b[0;36mErrorHandler.check_response\u001b[1;34m(self, response)\u001b[0m\n\u001b[0;32m    240\u001b[0m         alert_text \u001b[38;5;241m=\u001b[39m value[\u001b[38;5;124m'\u001b[39m\u001b[38;5;124malert\u001b[39m\u001b[38;5;124m'\u001b[39m]\u001b[38;5;241m.\u001b[39mget(\u001b[38;5;124m'\u001b[39m\u001b[38;5;124mtext\u001b[39m\u001b[38;5;124m'\u001b[39m)\n\u001b[0;32m    241\u001b[0m     \u001b[38;5;28;01mraise\u001b[39;00m exception_class(message, screen, stacktrace, alert_text)\n\u001b[1;32m--> 242\u001b[0m \u001b[38;5;28;01mraise\u001b[39;00m exception_class(message, screen, stacktrace)\n",
      "\u001b[1;31mNoSuchWindowException\u001b[0m: Message: no such window: target window already closed\nfrom unknown error: web view not found\n  (Session info: chrome=115.0.5790.171)\n"
     ]
    }
   ],
   "source": [
    "#sellerLink = [\"https://www.amazon.in/s?me=A1JFGLNA2OIZ9D&marketplaceID=A21TJRUUN4KGV\", \"https://www.amazon.in/s?me=AKTXA7AJ89MBZ&marketplaceID=A21TJRUUN4KGV\", \"https://www.amazon.in/s?me=AYWT4GP79X9K0&marketplaceID=A21TJRUUN4KGV\", \"https://www.amazon.in/s?me=A1V6GP6UHBM01Y&marketplaceID=A21TJRUUN4KGV\", \"https://www.amazon.in/s?me=A15APWRK6P7LBV&marketplaceID=A21TJRUUN4KGV\", \"https://www.amazon.in/s?me=A3CDESZ4SN16PC&marketplaceID=A21TJRUUN4KGV\", \"https://www.amazon.in/s?me=A2KRS11OT0VF15&marketplaceID=A21TJRUUN4KGV\",\"https://www.amazon.in/s?me=A1UJGTKG9XY4YH&marketplaceID=A21TJRUUN4KGV\", \"https://www.amazon.in/s?me=A1CK3ESH1W3AY6&marketplaceID=A21TJRUUN4KGV\", \"https://www.amazon.in/s?me=AYULJ62V3PUFP&marketplaceID=A21TJRUUN4KGV\", \"\"]\n",
    "for link in sellerLink:\n",
    "    driver = webdriver.Chrome()\n",
    "    driver.get(link)\n",
    "    wait = WebDriverWait(driver, 10)\n",
    "    \n",
    "    seller = wait.until(EC.presence_of_element_located((By.CSS_SELECTOR, \"select#searchDropdownBox\"))).text\n",
    "\n",
    "    search_products = wait.until(EC.presence_of_all_elements_located((By.CSS_SELECTOR, \"div.s-card-border\")))\n",
    "\n",
    "    for product in search_products:\n",
    "        ShopName.append(seller)\n",
    "        \n",
    "        image = product.find_element(By.CSS_SELECTOR, \"img.s-image\").get_attribute(\"src\")\n",
    "        ImageURL.append(image)\n",
    "        \n",
    "        itemName = product.find_element(By.CSS_SELECTOR, \"h2.s-line-clamp-2\").text\n",
    "        ProductName.append(itemName)\n",
    "        \n",
    "        try:\n",
    "            cost = wait.until(EC.visibility_of_element_located((By.CSS_SELECTOR, \"span.a-price-whole\"))).text\n",
    "            Price.append(cost)\n",
    "        except:\n",
    "            Price.append(\"N/A\")\n",
    "        \n",
    "        try:\n",
    "            mprice = wait.until(EC.visibility_of_element_located((By.CSS_SELECTOR, \"span.a-offscreen\"))).text\n",
    "            MRP.append(mprice)\n",
    "        except:\n",
    "            MRP.append(\"N/A\")\n",
    "        \n",
    "        try:\n",
    "            disc = wait.until(EC.visibility_of_element_located((By.CSS_SELECTOR, \"span.a-letter-space\"))).text\n",
    "            Discount.append(disc)\n",
    "        except:\n",
    "            Discount.append(\"N/A\")\n",
    "        \n",
    "    driver.quit()  # Close the current ChromeDriver instance\n",
    "\n",
    "# ... other code ...\n",
    "\n",
    "    \n",
    "data = {\"ShopName\":ShopName, 'Image':ImageURL, \"ProductName\":ProductName, 'ShopPrice':Price, 'MRP':MRP, \"DiscountByShop\":Discount}"
   ]
  },
  {
   "cell_type": "code",
   "execution_count": null,
   "id": "38da40e3",
   "metadata": {},
   "outputs": [],
   "source": []
  }
 ],
 "metadata": {
  "kernelspec": {
   "display_name": "Python 3 (ipykernel)",
   "language": "python",
   "name": "python3"
  },
  "language_info": {
   "codemirror_mode": {
    "name": "ipython",
    "version": 3
   },
   "file_extension": ".py",
   "mimetype": "text/x-python",
   "name": "python",
   "nbconvert_exporter": "python",
   "pygments_lexer": "ipython3",
   "version": "3.8.2rc1"
  }
 },
 "nbformat": 4,
 "nbformat_minor": 5
}
