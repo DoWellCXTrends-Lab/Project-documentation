{
 "cells": [
  {
   "cell_type": "code",
   "execution_count": 18,
   "id": "7b54e10b",
   "metadata": {},
   "outputs": [],
   "source": [
    "# import the necessary libraries\n",
    "import numpy as np\n",
    "import matplotlib.pyplot as plt\n",
    "import seaborn as sns\n",
    "from hmmlearn import hmm\n",
    " \n"
   ]
  },
  {
   "cell_type": "code",
   "execution_count": 2,
   "id": "5d1deb12",
   "metadata": {},
   "outputs": [
    {
     "data": {
      "text/html": [
       "<div>\n",
       "<style scoped>\n",
       "    .dataframe tbody tr th:only-of-type {\n",
       "        vertical-align: middle;\n",
       "    }\n",
       "\n",
       "    .dataframe tbody tr th {\n",
       "        vertical-align: top;\n",
       "    }\n",
       "\n",
       "    .dataframe thead th {\n",
       "        text-align: right;\n",
       "    }\n",
       "</style>\n",
       "<table border=\"1\" class=\"dataframe\">\n",
       "  <thead>\n",
       "    <tr style=\"text-align: right;\">\n",
       "      <th></th>\n",
       "      <th>Keyword</th>\n",
       "      <th>Percentage</th>\n",
       "    </tr>\n",
       "  </thead>\n",
       "  <tbody>\n",
       "    <tr>\n",
       "      <th>0</th>\n",
       "      <td>Instant Food</td>\n",
       "      <td>0.000674</td>\n",
       "    </tr>\n",
       "    <tr>\n",
       "      <th>1</th>\n",
       "      <td>Instant</td>\n",
       "      <td>0.001084</td>\n",
       "    </tr>\n",
       "    <tr>\n",
       "      <th>2</th>\n",
       "      <td>Instant Food online</td>\n",
       "      <td>0.001280</td>\n",
       "    </tr>\n",
       "    <tr>\n",
       "      <th>3</th>\n",
       "      <td>Food</td>\n",
       "      <td>0.001592</td>\n",
       "    </tr>\n",
       "    <tr>\n",
       "      <th>4</th>\n",
       "      <td>Instant Food products</td>\n",
       "      <td>0.001637</td>\n",
       "    </tr>\n",
       "    <tr>\n",
       "      <th>5</th>\n",
       "      <td>online</td>\n",
       "      <td>0.001900</td>\n",
       "    </tr>\n",
       "    <tr>\n",
       "      <th>6</th>\n",
       "      <td>Instant food mixes</td>\n",
       "      <td>0.001941</td>\n",
       "    </tr>\n",
       "    <tr>\n",
       "      <th>7</th>\n",
       "      <td>food products online</td>\n",
       "      <td>0.002019</td>\n",
       "    </tr>\n",
       "    <tr>\n",
       "      <th>8</th>\n",
       "      <td>Instant Noodles</td>\n",
       "      <td>0.002118</td>\n",
       "    </tr>\n",
       "    <tr>\n",
       "      <th>9</th>\n",
       "      <td>Instant Mix Food</td>\n",
       "      <td>0.002185</td>\n",
       "    </tr>\n",
       "    <tr>\n",
       "      <th>10</th>\n",
       "      <td>Buy Instant Food</td>\n",
       "      <td>0.002322</td>\n",
       "    </tr>\n",
       "    <tr>\n",
       "      <th>11</th>\n",
       "      <td>instant Online Food</td>\n",
       "      <td>0.002560</td>\n",
       "    </tr>\n",
       "    <tr>\n",
       "      <th>12</th>\n",
       "      <td>instant mixes online</td>\n",
       "      <td>0.003192</td>\n",
       "    </tr>\n",
       "    <tr>\n",
       "      <th>13</th>\n",
       "      <td>Instant mix products</td>\n",
       "      <td>0.003456</td>\n",
       "    </tr>\n",
       "    <tr>\n",
       "      <th>14</th>\n",
       "      <td>instant mixes</td>\n",
       "      <td>0.003919</td>\n",
       "    </tr>\n",
       "    <tr>\n",
       "      <th>15</th>\n",
       "      <td>food online</td>\n",
       "      <td>0.003986</td>\n",
       "    </tr>\n",
       "    <tr>\n",
       "      <th>16</th>\n",
       "      <td>Food Products</td>\n",
       "      <td>0.004146</td>\n",
       "    </tr>\n",
       "    <tr>\n",
       "      <th>17</th>\n",
       "      <td>Mix Food Products</td>\n",
       "      <td>0.004331</td>\n",
       "    </tr>\n",
       "    <tr>\n",
       "      <th>18</th>\n",
       "      <td>Instant food delivery</td>\n",
       "      <td>0.004658</td>\n",
       "    </tr>\n",
       "    <tr>\n",
       "      <th>19</th>\n",
       "      <td>Buy Instant</td>\n",
       "      <td>0.005117</td>\n",
       "    </tr>\n",
       "  </tbody>\n",
       "</table>\n",
       "</div>"
      ],
      "text/plain": [
       "                  Keyword  Percentage\n",
       "0            Instant Food    0.000674\n",
       "1                 Instant    0.001084\n",
       "2     Instant Food online    0.001280\n",
       "3                    Food    0.001592\n",
       "4   Instant Food products    0.001637\n",
       "5                  online    0.001900\n",
       "6      Instant food mixes    0.001941\n",
       "7    food products online    0.002019\n",
       "8         Instant Noodles    0.002118\n",
       "9        Instant Mix Food    0.002185\n",
       "10       Buy Instant Food    0.002322\n",
       "11    instant Online Food    0.002560\n",
       "12   instant mixes online    0.003192\n",
       "13   Instant mix products    0.003456\n",
       "14          instant mixes    0.003919\n",
       "15            food online    0.003986\n",
       "16          Food Products    0.004146\n",
       "17      Mix Food Products    0.004331\n",
       "18  Instant food delivery    0.004658\n",
       "19            Buy Instant    0.005117"
      ]
     },
     "execution_count": 2,
     "metadata": {},
     "output_type": "execute_result"
    }
   ],
   "source": [
    "nltk_data = pd.read_csv(\"C:/Users/Gazal V/Desktop/Dowell/keywords.csv\")\n",
    "nltk_data"
   ]
  },
  {
   "cell_type": "code",
   "execution_count": 3,
   "id": "d5671ab0",
   "metadata": {},
   "outputs": [],
   "source": [
    "a = list(nltk_data['Keyword'])"
   ]
  },
  {
   "cell_type": "code",
   "execution_count": 4,
   "id": "da1b2942",
   "metadata": {},
   "outputs": [],
   "source": [
    "texts = ' '.join(str(e) for e in a)"
   ]
  },
  {
   "cell_type": "code",
   "execution_count": 5,
   "id": "2a896081",
   "metadata": {},
   "outputs": [
    {
     "name": "stdout",
     "output_type": "stream",
     "text": [
      "        Keyword  Percentage\n",
      "0  Instant Food    0.000674\n",
      "1       Instant    0.001084\n",
      "        Keyword  Percentage\n",
      "0  Instant Food    0.000674\n",
      "1       Instant    0.001084\n",
      "<class 'tuple'>\n"
     ]
    }
   ],
   "source": [
    "#print each word with its respective tag for first two sentences\n",
    "for sent in nltk_data[:2]:\n",
    "  print(nltk_data[:2])\n",
    "print(tuple)"
   ]
  },
  {
   "cell_type": "code",
   "execution_count": 6,
   "id": "609b156d",
   "metadata": {},
   "outputs": [
    {
     "data": {
      "text/plain": [
       "<bound method NDFrame.head of            result_type                        id   status  \\\n",
       "0             metadata  64f05e420f986612e4790c25  Success   \n",
       "1    search_parameters                       NaN      NaN   \n",
       "2              organic                       NaN      NaN   \n",
       "3              organic                       NaN      NaN   \n",
       "4              organic                       NaN      NaN   \n",
       "..                 ...                       ...      ...   \n",
       "381   related_searches                       NaN      NaN   \n",
       "382   related_searches                       NaN      NaN   \n",
       "383   related_searches                       NaN      NaN   \n",
       "384   related_searches                       NaN      NaN   \n",
       "385   related_searches                       NaN      NaN   \n",
       "\n",
       "                                         json_endpoint  \\\n",
       "0    https://serpapi.com/searches/0fe38a9c64a5b7b7/...   \n",
       "1                                                  NaN   \n",
       "2                                                  NaN   \n",
       "3                                                  NaN   \n",
       "4                                                  NaN   \n",
       "..                                                 ...   \n",
       "381                                                NaN   \n",
       "382                                                NaN   \n",
       "383                                                NaN   \n",
       "384                                                NaN   \n",
       "385                                                NaN   \n",
       "\n",
       "                  created_at  processe_at  \\\n",
       "0    2023-08-31 09:32:50 UTC          NaN   \n",
       "1                        NaN          NaN   \n",
       "2                        NaN          NaN   \n",
       "3                        NaN          NaN   \n",
       "4                        NaN          NaN   \n",
       "..                       ...          ...   \n",
       "381                      NaN          NaN   \n",
       "382                      NaN          NaN   \n",
       "383                      NaN          NaN   \n",
       "384                      NaN          NaN   \n",
       "385                      NaN          NaN   \n",
       "\n",
       "                                            google_url  \\\n",
       "0    https://www.google.co.in/search?q=instant+food...   \n",
       "1                                                  NaN   \n",
       "2                                                  NaN   \n",
       "3                                                  NaN   \n",
       "4                                                  NaN   \n",
       "..                                                 ...   \n",
       "381                                                NaN   \n",
       "382                                                NaN   \n",
       "383                                                NaN   \n",
       "384                                                NaN   \n",
       "385                                                NaN   \n",
       "\n",
       "                                         raw_html_file  total_time_taken  \\\n",
       "0    https://serpapi.com/searches/0fe38a9c64a5b7b7/...              2.47   \n",
       "1                                                  NaN               NaN   \n",
       "2                                                  NaN               NaN   \n",
       "3                                                  NaN               NaN   \n",
       "4                                                  NaN               NaN   \n",
       "..                                                 ...               ...   \n",
       "381                                                NaN               NaN   \n",
       "382                                                NaN               NaN   \n",
       "383                                                NaN               NaN   \n",
       "384                                                NaN               NaN   \n",
       "385                                                NaN               NaN   \n",
       "\n",
       "     engine  ...                                               link  \\\n",
       "0       NaN  ...                                                NaN   \n",
       "1    google  ...                                                NaN   \n",
       "2       NaN  ...  https://www.amazon.in/Instant-Food/s?k=Instant...   \n",
       "3       NaN  ...  https://www.flipkart.com/ready-to-eat/pr?sid=e...   \n",
       "4       NaN  ...  https://www.bigbasket.com/pc/snacks-branded-fo...   \n",
       "..      ...  ...                                                ...   \n",
       "381     NaN  ...  https://www.google.co.in/search?sca_esv=561590...   \n",
       "382     NaN  ...  https://www.google.co.in/search?sca_esv=561590...   \n",
       "383     NaN  ...  https://www.google.co.in/search?sca_esv=561590...   \n",
       "384     NaN  ...  https://www.google.co.in/search?sca_esv=561590...   \n",
       "385     NaN  ...  https://www.google.co.in/search?sca_esv=561590...   \n",
       "\n",
       "                                          serpapi_link tracking_link  \\\n",
       "0                                                  NaN           NaN   \n",
       "1                                                  NaN           NaN   \n",
       "2                                                  NaN           NaN   \n",
       "3                                                  NaN           NaN   \n",
       "4                                                  NaN           NaN   \n",
       "..                                                 ...           ...   \n",
       "381  https://serpapi.com/search.json?device=desktop...           NaN   \n",
       "382  https://serpapi.com/search.json?device=desktop...           NaN   \n",
       "383  https://serpapi.com/search.json?device=desktop...           NaN   \n",
       "384  https://serpapi.com/search.json?device=desktop...           NaN   \n",
       "385  https://serpapi.com/search.json?device=desktop...           NaN   \n",
       "\n",
       "    description                                     displayed_link  \\\n",
       "0           NaN                                                NaN   \n",
       "1           NaN                                                NaN   \n",
       "2           NaN  https://www.amazon.in › Instant-Food › k=Insta...   \n",
       "3           NaN            https://www.flipkart.com › ready-to-eat   \n",
       "4           NaN  https://www.bigbasket.com › ... › Ready to coo...   \n",
       "..          ...                                                ...   \n",
       "381         NaN                                                NaN   \n",
       "382         NaN                                                NaN   \n",
       "383         NaN                                                NaN   \n",
       "384         NaN                                                NaN   \n",
       "385         NaN                                                NaN   \n",
       "\n",
       "                                             thumbnail  \\\n",
       "0                                                  NaN   \n",
       "1                                                  NaN   \n",
       "2    https://serpapi.com/searches/64f05e420f986612e...   \n",
       "3    https://serpapi.com/searches/64f05e420f986612e...   \n",
       "4    https://serpapi.com/searches/64f05e420f986612e...   \n",
       "..                                                 ...   \n",
       "381                                                NaN   \n",
       "382                                                NaN   \n",
       "383                                                NaN   \n",
       "384                                                NaN   \n",
       "385                                                NaN   \n",
       "\n",
       "                                               favicon  \\\n",
       "0                                                  NaN   \n",
       "1                                                  NaN   \n",
       "2    https://serpapi.com/searches/64f05e420f986612e...   \n",
       "3    https://serpapi.com/searches/64f05e420f986612e...   \n",
       "4    https://serpapi.com/searches/64f05e420f986612e...   \n",
       "..                                                 ...   \n",
       "381                                                NaN   \n",
       "382                                                NaN   \n",
       "383                                                NaN   \n",
       "384                                                NaN   \n",
       "385                                                NaN   \n",
       "\n",
       "                                               snippet  \\\n",
       "0                                                  NaN   \n",
       "1                                                  NaN   \n",
       "2    Amazon.in: Instant Food. ... FREE Delivery ove...   \n",
       "3    Ready To Eat Meals: Buy Ready to Eat Snacks an...   \n",
       "4    Just order from our ready to eat food online p...   \n",
       "..                                                 ...   \n",
       "381                                                NaN   \n",
       "382                                                NaN   \n",
       "383                                                NaN   \n",
       "384                                                NaN   \n",
       "385                                                NaN   \n",
       "\n",
       "     snippet_highlighted_words     source  \n",
       "0                          NaN        NaN  \n",
       "1                          NaN        NaN  \n",
       "2                          NaN  Amazon.in  \n",
       "3                          NaN   Flipkart  \n",
       "4                          NaN  BigBasket  \n",
       "..                         ...        ...  \n",
       "381                        NaN        NaN  \n",
       "382                        NaN        NaN  \n",
       "383                        NaN        NaN  \n",
       "384                        NaN        NaN  \n",
       "385                        NaN        NaN  \n",
       "\n",
       "[386 rows x 33 columns]>"
      ]
     },
     "execution_count": 6,
     "metadata": {},
     "output_type": "execute_result"
    }
   ],
   "source": [
    "import pandas as pd\n",
    "text= pd.read_csv(\"C:/Users/Gazal V/Desktop/Dowell/all/demo_5.csv\")\n",
    "text.head"
   ]
  },
  {
   "cell_type": "code",
   "execution_count": 7,
   "id": "5ca1abde",
   "metadata": {},
   "outputs": [],
   "source": [
    "text.drop(text.iloc[:, :30], inplace=True, axis=1)"
   ]
  },
  {
   "cell_type": "code",
   "execution_count": 8,
   "id": "f69d620b",
   "metadata": {},
   "outputs": [],
   "source": [
    "text.drop(text.iloc[:, 1:], inplace=True, axis=1)"
   ]
  },
  {
   "cell_type": "code",
   "execution_count": 9,
   "id": "8bc84b5c",
   "metadata": {},
   "outputs": [],
   "source": [
    "text= text.dropna()"
   ]
  },
  {
   "cell_type": "code",
   "execution_count": 10,
   "id": "5ec3f8a8",
   "metadata": {},
   "outputs": [
    {
     "data": {
      "text/html": [
       "<div>\n",
       "<style scoped>\n",
       "    .dataframe tbody tr th:only-of-type {\n",
       "        vertical-align: middle;\n",
       "    }\n",
       "\n",
       "    .dataframe tbody tr th {\n",
       "        vertical-align: top;\n",
       "    }\n",
       "\n",
       "    .dataframe thead th {\n",
       "        text-align: right;\n",
       "    }\n",
       "</style>\n",
       "<table border=\"1\" class=\"dataframe\">\n",
       "  <thead>\n",
       "    <tr style=\"text-align: right;\">\n",
       "      <th></th>\n",
       "      <th>snippet</th>\n",
       "    </tr>\n",
       "  </thead>\n",
       "  <tbody>\n",
       "    <tr>\n",
       "      <th>2</th>\n",
       "      <td>Amazon.in: Instant Food. ... FREE Delivery ove...</td>\n",
       "    </tr>\n",
       "    <tr>\n",
       "      <th>3</th>\n",
       "      <td>Ready To Eat Meals: Buy Ready to Eat Snacks an...</td>\n",
       "    </tr>\n",
       "    <tr>\n",
       "      <th>4</th>\n",
       "      <td>Just order from our ready to eat food online p...</td>\n",
       "    </tr>\n",
       "    <tr>\n",
       "      <th>5</th>\n",
       "      <td>Be the first to know about exciting new flavor...</td>\n",
       "    </tr>\n",
       "    <tr>\n",
       "      <th>6</th>\n",
       "      <td>Discover a wide range of ready meals, instant ...</td>\n",
       "    </tr>\n",
       "  </tbody>\n",
       "</table>\n",
       "</div>"
      ],
      "text/plain": [
       "                                             snippet\n",
       "2  Amazon.in: Instant Food. ... FREE Delivery ove...\n",
       "3  Ready To Eat Meals: Buy Ready to Eat Snacks an...\n",
       "4  Just order from our ready to eat food online p...\n",
       "5  Be the first to know about exciting new flavor...\n",
       "6  Discover a wide range of ready meals, instant ..."
      ]
     },
     "execution_count": 10,
     "metadata": {},
     "output_type": "execute_result"
    }
   ],
   "source": [
    "text.head()"
   ]
  },
  {
   "cell_type": "code",
   "execution_count": 11,
   "id": "9f96da4e",
   "metadata": {},
   "outputs": [],
   "source": [
    "a = list(text['snippet'])"
   ]
  },
  {
   "cell_type": "code",
   "execution_count": 12,
   "id": "7c835b4b",
   "metadata": {},
   "outputs": [],
   "source": [
    "text = ' '.join(str(e) for e in a)"
   ]
  },
  {
   "cell_type": "code",
   "execution_count": 13,
   "id": "e3f8a053",
   "metadata": {},
   "outputs": [
    {
     "data": {
      "text/plain": [
       "\"Amazon.in: Instant Food. ... FREE Delivery over ₹499. Fulfilled by Amazon. ... As fast as 2 hours delivery on orders above ₹ 499 of Fresh items. Ready To Eat Meals: Buy Ready to Eat Snacks and Meals at India's best online shopping store. ✓Genuine Products ✓Best Offers. Just order from our ready to eat food online page at bigbasket and allow us to cater to your food cravings. Right from those chatpata snacks to full spread ... Be the first to know about exciting new flavors and offers, please enter your email address below. Discover a wide range of ready meals, instant mixes, and gourmet foods at Mirchi.com. Enjoy delicious and convenient options for quick meals and snacks. Aashirvaad best healthy instant meals ready in minutes with boiling water and includes Khatta Meetha Poha, Veggie Upma, Suji Halwa with Jaggery, ... India's Largest Traditional Home-made Food Products Global Online Store since 2012. Traditional Bakshanam; Spice Products; Instant ... Shop ready-to-eat food products online. Get your favorite Indian meals ready in a minute. Taste delicious foods at the best price. Order now! Buy Ready to Eat food in India at our online branded foods store. Paytm Mall offers ready to eat food, Instant Meals, Instant Food at the best prices. Buy Ready To Eat Indian Food Online at best price. Choose from wide range of ready to eat foods offered by Desimealz. Order Now! The Taste Company or as we call it TTC, is an Instant Food Brand that is cooked with home-style recipes taken up by a Notch. In simple words, we prepare ... Find a wide variety of ready to eat snacks & meals online at the ITC store. We offer the best prices and fast shipping. Shop Instant Food products online at best price at Smytten. Explore wide range of Instant Food products from top brands in India. Buy online for Instant Noodles at snackstar India, a leading online shopping store. We deliver quality Instant cup Noodles at best prices at your doorstep. Shop Snacks Online. Explore a wide range of Instant Food and Snacks like Health Bars, Crunch Snacks, Candieds, etc at best prices at Fabindia. Buy Instant Mix Food Products Online. Shop wide range of Instant mixes like Upma Mix, Poha, Dhokla and (Payasma) Seviyan Kheer Mix. Noodles Price List ; 2. Maggi Nutri-Licious Masala Veg Atta Noodles, Rs.112 ; 3. Maggi Masala 2 Minutes Instant Noodles - Pack of 2, Rs.112 ; 4. Nestle Maggi Cuppa ... New Arrivals · Knorr Chinese Manchurian Gravy Mix · Shan Shoop Instant Noodles - Masala Flavor · Asian 2 Pm Noodles Hot & Spicy - 5 packs · Native Food Store ... Buy INSTANT FOODS Products online from Graceonline.in at lowest price and get it delivered to your doorstep. Best quality assured. Explore our collection of Instant Food online and enjoy convenient meals at home. Order now from Haldiram's wide range of options. Order now! Buy Ready To Cook & Instant Food online at low prices in India. Shop online wide range of Ready To Cook & Eat products from top brands MTR, ... Popular instant foods in UAE, noodles & pasta. Yummy & easy to cook. Buy noodles & pasta online at Quoodo wide range of Instant foods available at good ... Discover a wide selection of instant meals, ready-to-cook meals, and instant mixes on ... Shipping rates and delivery times may vary based on your location. Instant food mixes - shop instant mixes online in India for little ones. Our instant food mixes include oats kichadi, dates, almond, moong dal. Instant Meals · Misal Curry · Multigrain Uttapam · Pav Bhaji · Poha Delight · Tomato Upma · Upma Delight. Instant mix food products online - Nalamudan.in | Shop Online Sugar Free Low GI Apple Jam | Shop Online Adai Mix | Buy Online Tamarind Rice Mix / Pulikachal ... Maggi brand of packaged instant noodles is the most popular in India, ... also available on the list of online grocery stores like BigBasket in India. Buy Instant Food from Bengkart with best and cheapest price and get home delivery. Wewin Bazaar is online grocery, vegetables shopping & online super market. We provide quality product of daily essential home needs with attractive offers ... Manufacturer / Retailer Grow your business rapidly · Hub A place for earn inside home · Delivery Plece for earn in your free time. Manufacturer / Retailer Grow your business rapidly · Hub A place for earn inside home · Delivery Plece for earn in your free time. Fanchise of RCM Business Group. ::Hemalatha RCM Agencies:: 6-226/5, Opposite Ramayya Temple, K.Kotapadu, Visakhapatnam – 531034. Ph: +91 ... Ready to eat foods, Instant mix products and frozen food product at great price in India. Shop ready to cook food & instant mix products online from Sankalp ... MAGGI 2 Min Noodles Masala ... MAGGI 2-Minute Instant Noodle Chicken 65 Masala ... Food Cupboard, Baking Supplies, Food Colouring Online Grocery Store. Buy Instant Food Online at Best Price and Buy Ready To Eat Food Products Online Online at the best prices on Osiamart Book your order now! Search for a Product / Service · Frozen Food · Noodles & Vermicelli · Ready to Eat Food · Pasta & Soups · French Fries · Instant Mixes · Baby Foods · Breakfast Cereals. Eat Easy Foods is your packed food, meal or snack for students, adventure and business travelers. Healthy, nutritious, inexpensive & easy to cook travel ... We have temporarily disabled online orders on our website. Sorry for the convenience. For Order call: 98077 68077 97279 55855. Buy Instant Food products at best discounts in Kolkata from top brands like Maggi, ... Borges, MTR, Knorr with free shipping, easy returns and cash on delivery. This ready-to-eat and instant dal pack by Kitchens of India is another popular option that you can buy online. It does not contain any ... Bestselling Products · Instant Mixes · Ready Meals · Dairy · Open & Eat · Spice Mixes. Instant Food. Noodles & Soups; Table Spreads; Sauces,Jam,Pickles & Processed Food; Ready Mixes & Papad; Frozen Items; Biscuits & Chocolates; Namkeen ... Try our amazing collection of Instant Food mixes that are great for traveling with your baby. These mixes are all pre-cooked and you just need to add warm ... Indore.Online is an initiative to bring popular food categories, brands from Indore to Mumbai. We have ratlami sev, jeeravan, poha, namkeen, snacks, seasonal ... Order Instant Mixes Online from priya foods. Variety of Instant Mixes are Available - Upma mix, Pesarattu Mix, Dosa mix, Kheer Mix, ... Learn about Leela Foods ... Reviews. Leela Instant Foods ... If you already know what you want, kindly use our online order form to place an order. Breakfast Cereal (10); Choco Flakes (2); Choco Moons & Stars (3); Combo (23); Corn Flakes (2); Insta Range (12); Instant Mixes (8); Muesli (3) ... Get Fresh and Natural Ready to Cook Homemade food - Just Like Maa Used to Make ✓100% Natural ✓No preservatives ✓Premium quality ingredients. This is one of the top best online instant meat delivery company in Bangalore. in this we can buy fresh chemical free fish, antibiotic free chicken, duck and ... This is one of the top best online instant meat delivery company in Bangalore. in this we can buy fresh chemical free fish, antibiotic free chicken, duck and ... Zepto is a 10-min instant grocery delivery app. It has its own digital wallet in Zepto Cash. Zepto coupons and deals are popular in the online grocery space but ... Instant Coffee & Espresso Powder. Davidoff Rich Aroma Instant Coffee 100G Bottle ... Blended Spices. Conscious Food Asafoetida Hing 10G Jar. 1 Pc. MRP ₹393 ... Online Grocery Shopping Store in Coimbatore, We are the leading company for Online Grocery Store & Supermarket that provides 5000+ products and FREE ... Today's generation, no matter its age, is always busy. · If you have reservations about trying online papad and other food mixes, don't be! · Why choose our range ... Yu has crafted a wide range of delicious Instant Meal Bowls that contain ZERO preservatives, additives, artificial flavorings or colors. Order Ready to Eat online ✓ Authentic Indian ✓ Large selection ✓ 75.000 happy customers ... MTR - 200g Sambar Instant Soup Mix EUR 11.45 / kilogram. Delivery of essential products Only. As per current circumstances, we are unable to deliver instant food. We Apologise for the inconvenience caused. Shop Suhana Instant mix products online. A complete range of Instant Mix food products from Instant rice idli, Rava idli, Rava Dosa mix, Vada instant mix ... Shop for Snacks & Branded Foods online at affordable prices in India only at JioMart. ... Maggi 2-Minute Masala Instant Noodles 560 g. ₹87.00 ₹112.00. Thai Instant Food such as Noodles and Congee with no preservative made ... At Thai Snack Online, we offer a variety of flavours representing many Thai ... Find Instant Food stock images in HD and millions of other royalty-free stock photos, ... girl working at home placed an online order for food and received. A Cookbook for Special Days, Special People : From Shivesh With Love - https://amzn.to/3SCaYLf Connect with me online: Instagram ... Order food online from Instant Food House, Saroor Nagar, Hyderabad and get great offers and super-fast delivery on Zomato. Buy Instant and Frozen Food Online At The Best Price From The Swiggy Instamart. Order Now And Get Flat Rs.100 Off And Free Delivery On Your First Order. If you're in a hurry to cook a decent dinner, food items that are instant are your best choice. You can purchase ready-to-eat meals and mix from various brands ... Improve South Indian breakfasts and snacks with Ragala Foods' nutritious millet instant food mixes. Orders placed online can be delivered anywhere in the ... We provide variety of healthy baby foods/snacks online made with ragi, jowar, oats, & millet at the ... Instant Millet Noodles - Yummy Masala & Mild Masala. Authentic taste. Great Quality. Safe Products. From Breakfast to dinner, we've got you covered. Free delivery for orders above Rs 500. Order now! Ready to Eat Healthy Diet Meals Delivery Service in India, Now buy Healthy Diet Food & Meals Online at InstaDiet to Reach your weight, health, and workout ... Much has been written about how instant food and grocery delivery apps like Swiggy and BlinkIt — as part of India's burgeoning and ... Buy Instant Noodles online in Coimbatore. ... Sunfeast Yippee Magic Masala Noodles 4in1 pack Image. Sunfeast Yippee Magic Masala Noodles 4in1 pack. Buy ready to eat meals from our online store. Manna sells natural millet based cereals, infant foods, milk supplements and other everyday food products that provide high nutrition and are diabetic ... Looking for Ready to Eat Food in Germany? Here , fnbbasket offers you best deal on indian and asian instant food of different brands. Instant Rice Khichdi Powder (With Moongdal) Trial Pack [100g] ... Dry Fruits Powder for babies and kids Can be instantly added with any variety of foods ... SITARA FOODS is India's Biggest Online Store for Ordering Best tasting homemade pickles, sweets, snacks, masalas and karam podis. Shop for best quality ... Maggi Masala Noodles 560g · Maggi Masala Noodles 420g · Maggi Masala Noodles 70g · Top Ramen Masala Noodles 420g · Maggi Masala Noodles 140g · Maggi Veg Atta Noodles ... Instant food delivery — food arriving in 60 minutes or less — is an integration of online e-commerce transactions and offline logistics ... Noodles, sauces and instant food: Brands, for example, lays for chips, maggi for noodles, Nutella and bread for sandwiches and Britannia scones are the ... Tax included. Shipping is calculated at checkout. For urgent delivery of products, get in touch with us on WhatsApp: +91 7506704568 Important: Please enter ... EKirana is the most trusted Online Indian Grocery Shop in Europe, operating from the Netherlands. EKirana offers extensive range of fresh vegetables, ... INSTANT FOOD FROM JAPAN · Instant noodles set · Instant miso soup pack · Donbe kitsune udon · UFO Yakisoba noodles · Orignal Cup Noodles · Umaka Chan ... Get great deals on spices online and enhance every meal you make, or shop for ready to eat meals online for some instant goodness. More and more consumers will choose instant foods that carry local features, are endorsed by online celebrities, or are produced in small ... Pasta & Soups & Noodles, Sauces & Instant Food Online advertising. Off By RetailMarketing ... Nowadays everyone prefers food and beverages marketing . Shop Tops instant Noodles - 56g. Pouch online in India @ best price. Choose from exclusive range of delicious & tasty Noodles. Free shipping available. Vkshop: Buy Grocery Online | Daily Needs Supermarket. Search. My Cart 0. Home · About Us · Shop · Categories ... Home / Noodles, Sauces & Instant Food ... Microplastics have penetrated the food chain and are seeping into edible food for humans. Experts break down how plastic debris is entering ... Buy INSTANT FOOD & SNACK, BEETROOT PAPAD 100gm, GARLIC PAPAD 100gm, CUMIN PAPAD 100gm online at best prices. Get discounts on INSTANT FOOD & SNACK at ... Zomato says it will launch its 10-minute 'Instant' food delivery service in Gurugram from April 2022 · Claims it is not an April Fool's Day prank. Food deliveries; Online food aggregator Zomato recently said that it plans to deliver food to its customers in 10 minutes, a model. Find instant food manufacturers, suppliers, dealers & latest prices from top companies in India. Shop online from a wide range of instant food. Find & Download Free Graphic Resources for Instant Food. 94000+ Vectors, Stock Photos & PSD files. ✓ Free for commercial use ✓ High Quality Images. Willing to take your instant food business on ONDC network? ... of India (GoI) to facilitate ease of online selling to small Indian sellers. Order Instant Mixes Online from Ramdev Store. Variety of Instant Mixes, Instant Food Products are Available - Gulab Jamun, Khaman, Dhosa, Dahiwada, Idli, ... Under the new quick food delivery service, Zomato claims to deliver your food order in just 10 minutes, but there's a catch. Not all your food ... Packaging: Select instant Online Food In Train that are easily transportable in single servings or sealed containers. As a result, the risk of spoilage is ... Instant noodles, frozen dumplings, wontons and glutinous rice balls are ... The company said it has seen rapidly increasing demand of online ... 777 Dried Vathals, Bajji Bonda Mix, Dhideer® (Instant) Rice Paste Instant Rasam Paste,Thokku / Chutney,Dhideer® , Instant Mixes,Instant Culinary Pastes ... Packaging: Select instant Online Food In Train that are easily transportable in single servings or sealed containers. As a result, the risk of spoilage is ... Instant noodles, frozen dumplings, wontons and glutinous rice balls are ... The company said it has seen rapidly increasing demand of online ... 777 Dried Vathals, Bajji Bonda Mix, Dhideer® (Instant) Rice Paste Instant Rasam Paste,Thokku / Chutney,Dhideer® , Instant Mixes,Instant Culinary Pastes ... The Taste Company retails ready-to-eat instant meals like Prawn Rice, Dal Khichdi, Hyderabadi Chicken Rice and more. Know more and Shop On LBB! New Delhi: Food aggregator Zomato on Monday announced that the company is looking to rebrand its 10-minutes delivery service, Zomato Instant ... Each year, the internet meal delivery sector rises by 150%. Market Potential and Marketing Issues. As the younger population works and has ... Use Dunzo and get free home delivery in New Delhi order from restaurants nearby, groceries, buy online medicine, purchase meat online, book bike taxi and ... Here, you can easily buy ready to cook food online. Here is the list of some of the items you can pick to relish: Instant quinoa Dalia Mix:. Following the footsteps of instant grocery delivery firms, Online food delivery service provider Zomato will soon launch a 10-minute food ... Love ordering on online food delivery apps? ... They also offer instant package delivery service and is known as Swiggy Genie. Bengaluru: Ordinary instant noodles, pastas etc can be extremely ... Sell Waste Directly to Recyclers Online 4 Trio Help 50000 Deaf Persons ... Instant noodles are steeped in more than just hot water and seasoning. ... All were available for online order or delivery when we tested, ... When you pre-book from our exclusive menu at 15% off, every food item we carry on-board is ... Hot meals and hot beverages are not available on ATR flights. Zepto is your next-door quick commerce app, delivering online groceries,fruits,vegetables, personal care, electronics & much ... Frozen Food & Ice Creams. Blue Tribe Foods is a pioneer in plant-based meat products. Our mission is to provide delicious, sustainable food for everyone by using best natural ... Buy Instant Ready To Eat Meals online at the best price in India. Select from a large collection of Organic Products and shop online at Purely Natural. Shop online for Woolworths great range of Canned Food & Instant Meals. Delivered straight to your door or Pick up from your local store. McCain Foods Limited is a Canadian multinational frozen food company established in 1957 in Florenceville, New Brunswick, Canada. It is the world's largest ... Order online farm-fresh fruits, veggies, dairy products (milk, bread, eggs), groceries & more on Otipy. Order by 12:00 AM & get delivery by morning 08:00 AM ... Instant food delivery — food arriving in 60 minutes or less — is an integration of online e-commerce transactions and offline logistics ... The best instant noodles flood the body with warmth and comfort. ... in a red package with the iconic little delivery boy hard at work. Online Grocery Store in Delhi NCR: Modernbazaar.online is an online grocery store. Shop online for Groceries, fresh Fruits & Vegetables, Meat, eggs, fish, ... Shop authentic South Indian filter coffee, instant coffee and wholesome snacks at ... snacks were plentiful, and the simplest of foods were full of flavour. At Soulfull you can buy Ragi Bites, Millet Muesli, Smoothix, Instant Dosa Mix, Ragi Flakes at best price. Soulfull provides a wide range of natural and ... Order meat online in just a few clicks. Licious offers 100% fresh & best quality Chicken, Fish/Prawns and Mutton products online. Use code NEW20 and avail ... Order same-day delivery or pickup from more than 300 retailers and grocers. Download the Instacart app or start shopping online now with Instacart to get ... 競輪ソフト・スナイパークラブエディション特別買目完成記念10台限定販売 価格88000円永久ライセンス付き. 1 · 2 · 3 · 次へ. メルカリについて. Order food from restaurants or groceries from shops across Thailand with foodpanda ✓ Curated selection of dishes and items ✓ Safe and easy payment ... We make delicious and healthy Zero Preservatives, Zero Bad Fat Snacks (and more). Get authentic Sankethi Snacks and Ready-to-cook items delivered right at ... Food items brought into Australia need to be declared on your Incoming Passenger Card if you come by plane, or on the parcels you mail. FRUITS & VEGETABLES பழங்கள் மற்றும் காய்கறிகள். Image. STAPLESதானியங்கள். Image. PACKAGED FOODதொகுக்கப்பட்ட உணவு. There are so many reasons to love your multicooker, like all these mouthwatering Instant Pot recipes from Food Network—made just for the ... Buy Fresh Fish, Seafood, Prawns, Antibiotic free Chicken, Duck, Mutton, Goat, Kebab, Egg, Sausage, Momos online. Home delivered in Bangalore, Delhi, Mumbai, ... Instant® is a well-known brand of kitchen and home appliances. Find pressure cookers, air purifiers, air fryers & cookware. Ships to USA and Canada. Remarkable frozen ready meals, prepared by our own chefs and delivered to your door via our nationwide delivery service. Or discover your local COOK shop! Panda Express prepares American Chinese food fresh from the wok, from our signature Orange Chicken to bold ... Order Panda Express for pickup or delivery today! Nandus - One stop shop for buying fresh chicken, mutton and fish online. ... 2023 Nandus Foods Pvt. Ltd. All Rights Reserved. Get the Nandus App. Axis Bank's Grab Deals section gives you exciting online offers and deals for shopping, hotel & flight booking, medicine, lifestyle, and many more. Avail exciting instant discount at Croma stores using your Federal Bank Cards. ... holders on your Online Booking from Duty Free stores at Selected Airports ... Adyar Ananda Bhavan brings you delicious vegetarian food using fresh, quality ingredients catering to a ... Select Delivery Location ... Instant (28) ... Save-On-Foods is Western Canada's online grocery store. Our temperature controlled vans will deliver to your door. Order groceries for delivery or curbside ... Swiggy Money E-Gift Card(Instant Voucher) ... Swiggy is one of India's largest online food ordering platform. Order your favourite cuisines from restaurants ... Shop for Regular Grocery Items Online from Spencers. Buy Fruits & Vegetables, Meat & Fish, Household & Personal care items & more at attractive prices ... Learn how to get nutritious food for yourself and your family through SNAP (food stamps), D-SNAP, and WIC for women, infants, and children. Exciting Bank Offers Across Various Brands · 12% instant discount up to Rs.1200, Minimum booking Rs.5000 · iPhone Credit Card Offer · Everyday Delights Trendy ... Zipline is the world's largest autonomous delivery system, specializing in on-demand drone delivery and instant logistics. Sheng Siong Online is an online supermarket operated by Sheng Siong in Singapore. Discover our wide range of quality products including fresh produce, ... A credit card is a financial instrument to help you make instant credit based ... Get 15% Cashback on Food and Beverages at PVR; Get 5% Cashback on Movie ... You can also find many locally run food banks online or on social media. You need a referral to use a food bank. You can get one from:. Online recharge and bill payment made easy with MobiKwik. Now do mobile, dth & data card recharge, pay your electricity, gas, water, and landline bills ... Buy Instant Hot Snacks online at ASDA Groceries including instant noodles, microwavable rice and more. The same great prices as in store. Eating fish, poultry, beans, nuts, and vegetable oils. Many of these recommended foods can be found in the meal delivery kits, which deliver pre ... Shop our ready to eat meals range online or in-store. Enjoy our everyday low prices and fast delivery to your door. Our delivery logistics solutions are trusted by businesses because of ... Best in class logistics provider helping us in delivering food across the country. Online Offers. Top. All Offers; Offers This Week; Convert To EMI ... Up to 22.5% Instant Discount ... 10% Instant Discount at www.thewhitewillow.in. Get fast, convenient and instant express loans upto ₹5 Lakhs today. ... Use your LazyPay Credit offline and online - across millions of merchants. Natu Kodi Pickle (NO Abroad delivery). ₹460.00 ₹400.00 ... We work to make your every meal special with our pickles and spices. Aside from the tech specs, Instant Pots magically make meals that taste ... weeknight staple that you can now make faster than delivery. Get a Co-op delivery in under two hours from 99p and a £15 minimum spend. ... Premium lunch meal deal · Dinner for tonight · Ice cream parlour. Order again. The Key is Ingredients. We use the best quality ingredients in out products, that has made us win many hearts! FEATURED PRODUCT. anyone adds food or liquid to the pot without first checking if the inner pot is in ... Instant Potfs online store sells both clear and colored varieties . THE RULES FOR ONLINE DATING 62 privacy issues and making it difficult for Rules ... food, no one knew except your close girlfriends and the delivery guy. Online Shopping For All Kinds Of Packed Foods at Lowest Prices. Shop From a Wide Variety of Foods. Top Brands & Quality Products ✓COD✓FREE SHIPPING. Ready to eat meals. Just have boiled water with you and our packet and you are ready with your food within 5 minutes.\""
      ]
     },
     "execution_count": 13,
     "metadata": {},
     "output_type": "execute_result"
    }
   ],
   "source": [
    "text"
   ]
  },
  {
   "cell_type": "code",
   "execution_count": 14,
   "id": "c0004649",
   "metadata": {},
   "outputs": [
    {
     "name": "stdout",
     "output_type": "stream",
     "text": [
      "Number of hidden states : 318\n",
      "Number of observations  : 23814\n"
     ]
    }
   ],
   "source": [
    "# Define the state space\n",
    "#texts = [\"Sunny\", \"Rainy\"]\n",
    "n_texts = len(texts)\n",
    "print('Number of hidden states :',n_texts)\n",
    "# Define the observation space\n",
    "#observations = [\"Dry\", \"Wet\"]\n",
    "n_observations = len(text)\n",
    "print('Number of observations  :',n_observations)"
   ]
  },
  {
   "cell_type": "code",
   "execution_count": 16,
   "id": "6c1a34c6",
   "metadata": {},
   "outputs": [
    {
     "name": "stdout",
     "output_type": "stream",
     "text": [
      "State probability:  [0.6 0.4]\n",
      "\n",
      "Transition probability:\n",
      " [[0.7 0.3]\n",
      " [0.3 0.7]]\n",
      "\n",
      "Emission probability:\n",
      " [[0.9 0.1]\n",
      " [0.2 0.8]]\n"
     ]
    }
   ],
   "source": [
    "# Define the initial state distribution\n",
    "state_probability = np.array([0.6, 0.4])\n",
    "print(\"State probability: \", state_probability)\n",
    "  \n",
    "# Define the state transition probabilities\n",
    "transition_probability = np.array([[0.7, 0.3],\n",
    "                                   [0.3, 0.7]])\n",
    "print(\"\\nTransition probability:\\n\", transition_probability)\n",
    "# Define the observation likelihoods\n",
    "emission_probability= np.array([[0.9, 0.1],\n",
    "                                 [0.2, 0.8]])\n",
    "print(\"\\nEmission probability:\\n\", emission_probability)"
   ]
  },
  {
   "cell_type": "code",
   "execution_count": 20,
   "id": "9da43b66",
   "metadata": {},
   "outputs": [],
   "source": [
    "model = hmm.CategoricalHMM(n_components=n_texts)\n",
    "model.startprob_ = state_probability\n",
    "model.transmat_ = transition_probability\n",
    "model.emissionprob_ = emission_probability"
   ]
  },
  {
   "cell_type": "code",
   "execution_count": 21,
   "id": "6e5c649b",
   "metadata": {},
   "outputs": [
    {
     "data": {
      "text/plain": [
       "array([[0],\n",
       "       [1],\n",
       "       [0],\n",
       "       [1],\n",
       "       [0],\n",
       "       [0]])"
      ]
     },
     "execution_count": 21,
     "metadata": {},
     "output_type": "execute_result"
    }
   ],
   "source": [
    "# Define the sequence of observations\n",
    "observations_sequence = np.array([0, 1, 0, 1, 0, 0]).reshape(-1, 1)\n",
    "observations_sequence"
   ]
  },
  {
   "cell_type": "code",
   "execution_count": 22,
   "id": "fc7a914c",
   "metadata": {},
   "outputs": [
    {
     "ename": "ValueError",
     "evalue": "startprob_ must have length n_components",
     "output_type": "error",
     "traceback": [
      "\u001b[1;31m---------------------------------------------------------------------------\u001b[0m",
      "\u001b[1;31mValueError\u001b[0m                                Traceback (most recent call last)",
      "Cell \u001b[1;32mIn[22], line 2\u001b[0m\n\u001b[0;32m      1\u001b[0m \u001b[38;5;66;03m# Predict the most likely sequence of hidden states\u001b[39;00m\n\u001b[1;32m----> 2\u001b[0m hidden_states \u001b[38;5;241m=\u001b[39m \u001b[43mmodel\u001b[49m\u001b[38;5;241;43m.\u001b[39;49m\u001b[43mpredict\u001b[49m\u001b[43m(\u001b[49m\u001b[43mobservations_sequence\u001b[49m\u001b[43m)\u001b[49m\n\u001b[0;32m      3\u001b[0m \u001b[38;5;28mprint\u001b[39m(\u001b[38;5;124m\"\u001b[39m\u001b[38;5;124mMost likely hidden states:\u001b[39m\u001b[38;5;124m\"\u001b[39m, hidden_states)\n",
      "File \u001b[1;32m~\\Anaconda\\lib\\site-packages\\hmmlearn\\_emissions.py:27\u001b[0m, in \u001b[0;36m_make_wrapper.<locals>.<lambda>\u001b[1;34m(*args, **kwargs)\u001b[0m\n\u001b[0;32m     26\u001b[0m \u001b[38;5;28;01mdef\u001b[39;00m \u001b[38;5;21m_make_wrapper\u001b[39m(func):\n\u001b[1;32m---> 27\u001b[0m     \u001b[38;5;28;01mreturn\u001b[39;00m functools\u001b[38;5;241m.\u001b[39mwraps(func)(\u001b[38;5;28;01mlambda\u001b[39;00m \u001b[38;5;241m*\u001b[39margs, \u001b[38;5;241m*\u001b[39m\u001b[38;5;241m*\u001b[39mkwargs: func(\u001b[38;5;241m*\u001b[39margs, \u001b[38;5;241m*\u001b[39m\u001b[38;5;241m*\u001b[39mkwargs))\n",
      "File \u001b[1;32m~\\Anaconda\\lib\\site-packages\\hmmlearn\\base.py:363\u001b[0m, in \u001b[0;36m_AbstractHMM.predict\u001b[1;34m(self, X, lengths)\u001b[0m\n\u001b[0;32m    346\u001b[0m \u001b[38;5;28;01mdef\u001b[39;00m \u001b[38;5;21mpredict\u001b[39m(\u001b[38;5;28mself\u001b[39m, X, lengths\u001b[38;5;241m=\u001b[39m\u001b[38;5;28;01mNone\u001b[39;00m):\n\u001b[0;32m    347\u001b[0m \u001b[38;5;250m    \u001b[39m\u001b[38;5;124;03m\"\"\"\u001b[39;00m\n\u001b[0;32m    348\u001b[0m \u001b[38;5;124;03m    Find most likely state sequence corresponding to ``X``.\u001b[39;00m\n\u001b[0;32m    349\u001b[0m \n\u001b[1;32m   (...)\u001b[0m\n\u001b[0;32m    361\u001b[0m \u001b[38;5;124;03m        Labels for each sample from ``X``.\u001b[39;00m\n\u001b[0;32m    362\u001b[0m \u001b[38;5;124;03m    \"\"\"\u001b[39;00m\n\u001b[1;32m--> 363\u001b[0m     _, state_sequence \u001b[38;5;241m=\u001b[39m \u001b[38;5;28;43mself\u001b[39;49m\u001b[38;5;241;43m.\u001b[39;49m\u001b[43mdecode\u001b[49m\u001b[43m(\u001b[49m\u001b[43mX\u001b[49m\u001b[43m,\u001b[49m\u001b[43m \u001b[49m\u001b[43mlengths\u001b[49m\u001b[43m)\u001b[49m\n\u001b[0;32m    364\u001b[0m     \u001b[38;5;28;01mreturn\u001b[39;00m state_sequence\n",
      "File \u001b[1;32m~\\Anaconda\\lib\\site-packages\\hmmlearn\\_emissions.py:27\u001b[0m, in \u001b[0;36m_make_wrapper.<locals>.<lambda>\u001b[1;34m(*args, **kwargs)\u001b[0m\n\u001b[0;32m     26\u001b[0m \u001b[38;5;28;01mdef\u001b[39;00m \u001b[38;5;21m_make_wrapper\u001b[39m(func):\n\u001b[1;32m---> 27\u001b[0m     \u001b[38;5;28;01mreturn\u001b[39;00m functools\u001b[38;5;241m.\u001b[39mwraps(func)(\u001b[38;5;28;01mlambda\u001b[39;00m \u001b[38;5;241m*\u001b[39margs, \u001b[38;5;241m*\u001b[39m\u001b[38;5;241m*\u001b[39mkwargs: func(\u001b[38;5;241m*\u001b[39margs, \u001b[38;5;241m*\u001b[39m\u001b[38;5;241m*\u001b[39mkwargs))\n",
      "File \u001b[1;32m~\\Anaconda\\lib\\site-packages\\hmmlearn\\base.py:324\u001b[0m, in \u001b[0;36m_AbstractHMM.decode\u001b[1;34m(self, X, lengths, algorithm)\u001b[0m\n\u001b[0;32m    295\u001b[0m \u001b[38;5;250m\u001b[39m\u001b[38;5;124;03m\"\"\"\u001b[39;00m\n\u001b[0;32m    296\u001b[0m \u001b[38;5;124;03mFind most likely state sequence corresponding to ``X``.\u001b[39;00m\n\u001b[0;32m    297\u001b[0m \n\u001b[1;32m   (...)\u001b[0m\n\u001b[0;32m    321\u001b[0m \u001b[38;5;124;03mscore : Compute the log probability under the model.\u001b[39;00m\n\u001b[0;32m    322\u001b[0m \u001b[38;5;124;03m\"\"\"\u001b[39;00m\n\u001b[0;32m    323\u001b[0m check_is_fitted(\u001b[38;5;28mself\u001b[39m, \u001b[38;5;124m\"\u001b[39m\u001b[38;5;124mstartprob_\u001b[39m\u001b[38;5;124m\"\u001b[39m)\n\u001b[1;32m--> 324\u001b[0m \u001b[38;5;28;43mself\u001b[39;49m\u001b[38;5;241;43m.\u001b[39;49m\u001b[43m_check\u001b[49m\u001b[43m(\u001b[49m\u001b[43m)\u001b[49m\n\u001b[0;32m    326\u001b[0m algorithm \u001b[38;5;241m=\u001b[39m algorithm \u001b[38;5;129;01mor\u001b[39;00m \u001b[38;5;28mself\u001b[39m\u001b[38;5;241m.\u001b[39malgorithm\n\u001b[0;32m    327\u001b[0m \u001b[38;5;28;01mif\u001b[39;00m algorithm \u001b[38;5;129;01mnot\u001b[39;00m \u001b[38;5;129;01min\u001b[39;00m DECODER_ALGORITHMS:\n",
      "File \u001b[1;32m~\\Anaconda\\lib\\site-packages\\hmmlearn\\hmm.py:133\u001b[0m, in \u001b[0;36mCategoricalHMM._check\u001b[1;34m(self)\u001b[0m\n\u001b[0;32m    132\u001b[0m \u001b[38;5;28;01mdef\u001b[39;00m \u001b[38;5;21m_check\u001b[39m(\u001b[38;5;28mself\u001b[39m):\n\u001b[1;32m--> 133\u001b[0m     \u001b[38;5;28;43msuper\u001b[39;49m\u001b[43m(\u001b[49m\u001b[43m)\u001b[49m\u001b[38;5;241;43m.\u001b[39;49m\u001b[43m_check\u001b[49m\u001b[43m(\u001b[49m\u001b[43m)\u001b[49m\n\u001b[0;32m    135\u001b[0m     \u001b[38;5;28mself\u001b[39m\u001b[38;5;241m.\u001b[39memissionprob_ \u001b[38;5;241m=\u001b[39m np\u001b[38;5;241m.\u001b[39matleast_2d(\u001b[38;5;28mself\u001b[39m\u001b[38;5;241m.\u001b[39memissionprob_)\n\u001b[0;32m    136\u001b[0m     \u001b[38;5;28;01mif\u001b[39;00m \u001b[38;5;28mself\u001b[39m\u001b[38;5;241m.\u001b[39mn_features \u001b[38;5;129;01mis\u001b[39;00m \u001b[38;5;28;01mNone\u001b[39;00m:\n",
      "File \u001b[1;32m~\\Anaconda\\lib\\site-packages\\hmmlearn\\base.py:948\u001b[0m, in \u001b[0;36mBaseHMM._check\u001b[1;34m(self)\u001b[0m\n\u001b[0;32m    946\u001b[0m \u001b[38;5;28mself\u001b[39m\u001b[38;5;241m.\u001b[39mstartprob_ \u001b[38;5;241m=\u001b[39m np\u001b[38;5;241m.\u001b[39masarray(\u001b[38;5;28mself\u001b[39m\u001b[38;5;241m.\u001b[39mstartprob_)\n\u001b[0;32m    947\u001b[0m \u001b[38;5;28;01mif\u001b[39;00m \u001b[38;5;28mlen\u001b[39m(\u001b[38;5;28mself\u001b[39m\u001b[38;5;241m.\u001b[39mstartprob_) \u001b[38;5;241m!=\u001b[39m \u001b[38;5;28mself\u001b[39m\u001b[38;5;241m.\u001b[39mn_components:\n\u001b[1;32m--> 948\u001b[0m     \u001b[38;5;28;01mraise\u001b[39;00m \u001b[38;5;167;01mValueError\u001b[39;00m(\u001b[38;5;124m\"\u001b[39m\u001b[38;5;124mstartprob_ must have length n_components\u001b[39m\u001b[38;5;124m\"\u001b[39m)\n\u001b[0;32m    949\u001b[0m \u001b[38;5;28mself\u001b[39m\u001b[38;5;241m.\u001b[39m_check_sum_1(\u001b[38;5;124m\"\u001b[39m\u001b[38;5;124mstartprob_\u001b[39m\u001b[38;5;124m\"\u001b[39m)\n\u001b[0;32m    951\u001b[0m \u001b[38;5;28mself\u001b[39m\u001b[38;5;241m.\u001b[39mtransmat_ \u001b[38;5;241m=\u001b[39m np\u001b[38;5;241m.\u001b[39masarray(\u001b[38;5;28mself\u001b[39m\u001b[38;5;241m.\u001b[39mtransmat_)\n",
      "\u001b[1;31mValueError\u001b[0m: startprob_ must have length n_components"
     ]
    }
   ],
   "source": [
    "# Predict the most likely sequence of hidden states\n",
    "hidden_states = model.predict(observations_sequence)\n",
    "print(\"Most likely hidden states:\", hidden_states)"
   ]
  },
  {
   "cell_type": "code",
   "execution_count": 23,
   "id": "05c1c498",
   "metadata": {},
   "outputs": [
    {
     "ename": "ValueError",
     "evalue": "startprob_ must have length n_components",
     "output_type": "error",
     "traceback": [
      "\u001b[1;31m---------------------------------------------------------------------------\u001b[0m",
      "\u001b[1;31mValueError\u001b[0m                                Traceback (most recent call last)",
      "Cell \u001b[1;32mIn[23], line 1\u001b[0m\n\u001b[1;32m----> 1\u001b[0m log_probability, hidden_states \u001b[38;5;241m=\u001b[39m \u001b[43mmodel\u001b[49m\u001b[38;5;241;43m.\u001b[39;49m\u001b[43mdecode\u001b[49m\u001b[43m(\u001b[49m\u001b[43mobservations_sequence\u001b[49m\u001b[43m,\u001b[49m\n\u001b[0;32m      2\u001b[0m \u001b[43m                                              \u001b[49m\u001b[43mlengths\u001b[49m\u001b[43m \u001b[49m\u001b[38;5;241;43m=\u001b[39;49m\u001b[43m \u001b[49m\u001b[38;5;28;43mlen\u001b[39;49m\u001b[43m(\u001b[49m\u001b[43mobservations_sequence\u001b[49m\u001b[43m)\u001b[49m\u001b[43m,\u001b[49m\n\u001b[0;32m      3\u001b[0m \u001b[43m                                              \u001b[49m\u001b[43malgorithm\u001b[49m\u001b[43m \u001b[49m\u001b[38;5;241;43m=\u001b[39;49m\u001b[38;5;124;43m'\u001b[39;49m\u001b[38;5;124;43mviterbi\u001b[39;49m\u001b[38;5;124;43m'\u001b[39;49m\u001b[43m \u001b[49m\u001b[43m)\u001b[49m\n\u001b[0;32m      5\u001b[0m \u001b[38;5;28mprint\u001b[39m(\u001b[38;5;124m'\u001b[39m\u001b[38;5;124mLog Probability :\u001b[39m\u001b[38;5;124m'\u001b[39m,log_probability)\n\u001b[0;32m      6\u001b[0m \u001b[38;5;28mprint\u001b[39m(\u001b[38;5;124m\"\u001b[39m\u001b[38;5;124mMost likely hidden states:\u001b[39m\u001b[38;5;124m\"\u001b[39m, hidden_states)\n",
      "File \u001b[1;32m~\\Anaconda\\lib\\site-packages\\hmmlearn\\_emissions.py:27\u001b[0m, in \u001b[0;36m_make_wrapper.<locals>.<lambda>\u001b[1;34m(*args, **kwargs)\u001b[0m\n\u001b[0;32m     26\u001b[0m \u001b[38;5;28;01mdef\u001b[39;00m \u001b[38;5;21m_make_wrapper\u001b[39m(func):\n\u001b[1;32m---> 27\u001b[0m     \u001b[38;5;28;01mreturn\u001b[39;00m functools\u001b[38;5;241m.\u001b[39mwraps(func)(\u001b[38;5;28;01mlambda\u001b[39;00m \u001b[38;5;241m*\u001b[39margs, \u001b[38;5;241m*\u001b[39m\u001b[38;5;241m*\u001b[39mkwargs: func(\u001b[38;5;241m*\u001b[39margs, \u001b[38;5;241m*\u001b[39m\u001b[38;5;241m*\u001b[39mkwargs))\n",
      "File \u001b[1;32m~\\Anaconda\\lib\\site-packages\\hmmlearn\\base.py:324\u001b[0m, in \u001b[0;36m_AbstractHMM.decode\u001b[1;34m(self, X, lengths, algorithm)\u001b[0m\n\u001b[0;32m    295\u001b[0m \u001b[38;5;250m\u001b[39m\u001b[38;5;124;03m\"\"\"\u001b[39;00m\n\u001b[0;32m    296\u001b[0m \u001b[38;5;124;03mFind most likely state sequence corresponding to ``X``.\u001b[39;00m\n\u001b[0;32m    297\u001b[0m \n\u001b[1;32m   (...)\u001b[0m\n\u001b[0;32m    321\u001b[0m \u001b[38;5;124;03mscore : Compute the log probability under the model.\u001b[39;00m\n\u001b[0;32m    322\u001b[0m \u001b[38;5;124;03m\"\"\"\u001b[39;00m\n\u001b[0;32m    323\u001b[0m check_is_fitted(\u001b[38;5;28mself\u001b[39m, \u001b[38;5;124m\"\u001b[39m\u001b[38;5;124mstartprob_\u001b[39m\u001b[38;5;124m\"\u001b[39m)\n\u001b[1;32m--> 324\u001b[0m \u001b[38;5;28;43mself\u001b[39;49m\u001b[38;5;241;43m.\u001b[39;49m\u001b[43m_check\u001b[49m\u001b[43m(\u001b[49m\u001b[43m)\u001b[49m\n\u001b[0;32m    326\u001b[0m algorithm \u001b[38;5;241m=\u001b[39m algorithm \u001b[38;5;129;01mor\u001b[39;00m \u001b[38;5;28mself\u001b[39m\u001b[38;5;241m.\u001b[39malgorithm\n\u001b[0;32m    327\u001b[0m \u001b[38;5;28;01mif\u001b[39;00m algorithm \u001b[38;5;129;01mnot\u001b[39;00m \u001b[38;5;129;01min\u001b[39;00m DECODER_ALGORITHMS:\n",
      "File \u001b[1;32m~\\Anaconda\\lib\\site-packages\\hmmlearn\\hmm.py:133\u001b[0m, in \u001b[0;36mCategoricalHMM._check\u001b[1;34m(self)\u001b[0m\n\u001b[0;32m    132\u001b[0m \u001b[38;5;28;01mdef\u001b[39;00m \u001b[38;5;21m_check\u001b[39m(\u001b[38;5;28mself\u001b[39m):\n\u001b[1;32m--> 133\u001b[0m     \u001b[38;5;28;43msuper\u001b[39;49m\u001b[43m(\u001b[49m\u001b[43m)\u001b[49m\u001b[38;5;241;43m.\u001b[39;49m\u001b[43m_check\u001b[49m\u001b[43m(\u001b[49m\u001b[43m)\u001b[49m\n\u001b[0;32m    135\u001b[0m     \u001b[38;5;28mself\u001b[39m\u001b[38;5;241m.\u001b[39memissionprob_ \u001b[38;5;241m=\u001b[39m np\u001b[38;5;241m.\u001b[39matleast_2d(\u001b[38;5;28mself\u001b[39m\u001b[38;5;241m.\u001b[39memissionprob_)\n\u001b[0;32m    136\u001b[0m     \u001b[38;5;28;01mif\u001b[39;00m \u001b[38;5;28mself\u001b[39m\u001b[38;5;241m.\u001b[39mn_features \u001b[38;5;129;01mis\u001b[39;00m \u001b[38;5;28;01mNone\u001b[39;00m:\n",
      "File \u001b[1;32m~\\Anaconda\\lib\\site-packages\\hmmlearn\\base.py:948\u001b[0m, in \u001b[0;36mBaseHMM._check\u001b[1;34m(self)\u001b[0m\n\u001b[0;32m    946\u001b[0m \u001b[38;5;28mself\u001b[39m\u001b[38;5;241m.\u001b[39mstartprob_ \u001b[38;5;241m=\u001b[39m np\u001b[38;5;241m.\u001b[39masarray(\u001b[38;5;28mself\u001b[39m\u001b[38;5;241m.\u001b[39mstartprob_)\n\u001b[0;32m    947\u001b[0m \u001b[38;5;28;01mif\u001b[39;00m \u001b[38;5;28mlen\u001b[39m(\u001b[38;5;28mself\u001b[39m\u001b[38;5;241m.\u001b[39mstartprob_) \u001b[38;5;241m!=\u001b[39m \u001b[38;5;28mself\u001b[39m\u001b[38;5;241m.\u001b[39mn_components:\n\u001b[1;32m--> 948\u001b[0m     \u001b[38;5;28;01mraise\u001b[39;00m \u001b[38;5;167;01mValueError\u001b[39;00m(\u001b[38;5;124m\"\u001b[39m\u001b[38;5;124mstartprob_ must have length n_components\u001b[39m\u001b[38;5;124m\"\u001b[39m)\n\u001b[0;32m    949\u001b[0m \u001b[38;5;28mself\u001b[39m\u001b[38;5;241m.\u001b[39m_check_sum_1(\u001b[38;5;124m\"\u001b[39m\u001b[38;5;124mstartprob_\u001b[39m\u001b[38;5;124m\"\u001b[39m)\n\u001b[0;32m    951\u001b[0m \u001b[38;5;28mself\u001b[39m\u001b[38;5;241m.\u001b[39mtransmat_ \u001b[38;5;241m=\u001b[39m np\u001b[38;5;241m.\u001b[39masarray(\u001b[38;5;28mself\u001b[39m\u001b[38;5;241m.\u001b[39mtransmat_)\n",
      "\u001b[1;31mValueError\u001b[0m: startprob_ must have length n_components"
     ]
    }
   ],
   "source": [
    "log_probability, hidden_states = model.decode(observations_sequence,\n",
    "                                              lengths = len(observations_sequence),\n",
    "                                              algorithm ='viterbi' )\n",
    "  \n",
    "print('Log Probability :',log_probability)\n",
    "print(\"Most likely hidden states:\", hidden_states)"
   ]
  },
  {
   "cell_type": "code",
   "execution_count": 24,
   "id": "fe18d6b7",
   "metadata": {},
   "outputs": [
    {
     "ename": "NameError",
     "evalue": "name 'hidden_states' is not defined",
     "output_type": "error",
     "traceback": [
      "\u001b[1;31m---------------------------------------------------------------------------\u001b[0m",
      "\u001b[1;31mNameError\u001b[0m                                 Traceback (most recent call last)",
      "Cell \u001b[1;32mIn[24], line 3\u001b[0m\n\u001b[0;32m      1\u001b[0m \u001b[38;5;66;03m# Plot the results\u001b[39;00m\n\u001b[0;32m      2\u001b[0m sns\u001b[38;5;241m.\u001b[39mset_style(\u001b[38;5;124m\"\u001b[39m\u001b[38;5;124mwhitegrid\u001b[39m\u001b[38;5;124m\"\u001b[39m)\n\u001b[1;32m----> 3\u001b[0m plt\u001b[38;5;241m.\u001b[39mplot(\u001b[43mhidden_states\u001b[49m, \u001b[38;5;124m'\u001b[39m\u001b[38;5;124m-o\u001b[39m\u001b[38;5;124m'\u001b[39m, label\u001b[38;5;241m=\u001b[39m\u001b[38;5;124m\"\u001b[39m\u001b[38;5;124mHidden State\u001b[39m\u001b[38;5;124m\"\u001b[39m)\n\u001b[0;32m      4\u001b[0m plt\u001b[38;5;241m.\u001b[39mxlabel(\u001b[38;5;124m'\u001b[39m\u001b[38;5;124mTime step\u001b[39m\u001b[38;5;124m'\u001b[39m)\n\u001b[0;32m      5\u001b[0m plt\u001b[38;5;241m.\u001b[39mylabel(\u001b[38;5;124m'\u001b[39m\u001b[38;5;124mMost Likely Hidden State\u001b[39m\u001b[38;5;124m'\u001b[39m)\n",
      "\u001b[1;31mNameError\u001b[0m: name 'hidden_states' is not defined"
     ]
    }
   ],
   "source": [
    "# Plot the results\n",
    "sns.set_style(\"whitegrid\")\n",
    "plt.plot(hidden_states, '-o', label=\"Hidden State\")\n",
    "plt.xlabel('Time step')\n",
    "plt.ylabel('Most Likely Hidden State')\n",
    "plt.title(\"Sunny or Rainy\")\n",
    "plt.legend()\n",
    "plt.show()"
   ]
  },
  {
   "cell_type": "code",
   "execution_count": null,
   "id": "8c2d43cd",
   "metadata": {},
   "outputs": [],
   "source": []
  },
  {
   "cell_type": "code",
   "execution_count": null,
   "id": "da34aeaf",
   "metadata": {},
   "outputs": [],
   "source": []
  },
  {
   "cell_type": "code",
   "execution_count": null,
   "id": "f155d118",
   "metadata": {},
   "outputs": [],
   "source": []
  },
  {
   "cell_type": "code",
   "execution_count": null,
   "id": "5a30b502",
   "metadata": {},
   "outputs": [],
   "source": []
  },
  {
   "cell_type": "code",
   "execution_count": null,
   "id": "d801d9b6",
   "metadata": {},
   "outputs": [],
   "source": []
  },
  {
   "cell_type": "code",
   "execution_count": null,
   "id": "2175c9b4",
   "metadata": {},
   "outputs": [],
   "source": []
  },
  {
   "cell_type": "code",
   "execution_count": null,
   "id": "7065e812",
   "metadata": {},
   "outputs": [],
   "source": [
    "#"
   ]
  },
  {
   "cell_type": "code",
   "execution_count": null,
   "id": "c3149af6",
   "metadata": {},
   "outputs": [],
   "source": [
    "#"
   ]
  },
  {
   "cell_type": "code",
   "execution_count": null,
   "id": "39b0703b",
   "metadata": {},
   "outputs": [],
   "source": []
  },
  {
   "cell_type": "code",
   "execution_count": null,
   "id": "7c55e439",
   "metadata": {},
   "outputs": [],
   "source": []
  },
  {
   "cell_type": "code",
   "execution_count": null,
   "id": "fb3f7fff",
   "metadata": {},
   "outputs": [],
   "source": []
  },
  {
   "cell_type": "code",
   "execution_count": null,
   "id": "ddccbf98",
   "metadata": {},
   "outputs": [],
   "source": []
  },
  {
   "cell_type": "code",
   "execution_count": null,
   "id": "fa54b13a",
   "metadata": {},
   "outputs": [],
   "source": []
  },
  {
   "cell_type": "code",
   "execution_count": null,
   "id": "b6cce5d2",
   "metadata": {},
   "outputs": [],
   "source": [
    "\n"
   ]
  },
  {
   "cell_type": "code",
   "execution_count": null,
   "id": "31f8b5b1",
   "metadata": {},
   "outputs": [],
   "source": []
  },
  {
   "cell_type": "code",
   "execution_count": null,
   "id": "d2a2f1c5",
   "metadata": {},
   "outputs": [],
   "source": []
  },
  {
   "cell_type": "code",
   "execution_count": null,
   "id": "456d93b8",
   "metadata": {},
   "outputs": [],
   "source": []
  },
  {
   "cell_type": "code",
   "execution_count": null,
   "id": "1af93ada",
   "metadata": {},
   "outputs": [],
   "source": []
  },
  {
   "cell_type": "code",
   "execution_count": null,
   "id": "70cb8de0",
   "metadata": {},
   "outputs": [],
   "source": []
  },
  {
   "cell_type": "code",
   "execution_count": null,
   "id": "066b11af",
   "metadata": {},
   "outputs": [],
   "source": []
  },
  {
   "cell_type": "code",
   "execution_count": null,
   "id": "89e04527",
   "metadata": {},
   "outputs": [],
   "source": []
  }
 ],
 "metadata": {
  "kernelspec": {
   "display_name": "Python 3 (ipykernel)",
   "language": "python",
   "name": "python3"
  },
  "language_info": {
   "codemirror_mode": {
    "name": "ipython",
    "version": 3
   },
   "file_extension": ".py",
   "mimetype": "text/x-python",
   "name": "python",
   "nbconvert_exporter": "python",
   "pygments_lexer": "ipython3",
   "version": "3.10.9"
  }
 },
 "nbformat": 4,
 "nbformat_minor": 5
}
