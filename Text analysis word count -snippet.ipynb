{
 "cells": [
  {
   "cell_type": "markdown",
   "id": "4340dabf",
   "metadata": {},
   "source": [
    "https://thecleverprogrammer.com/2022/06/22/count-number-of-words-in-a-column-using-python/"
   ]
  },
  {
   "cell_type": "code",
   "execution_count": 6,
   "id": "70776304",
   "metadata": {},
   "outputs": [
    {
     "data": {
      "text/plain": [
       "<bound method NDFrame.head of            result_type                        id   status  \\\n",
       "0             metadata  64f05e420f986612e4790c25  Success   \n",
       "1    search_parameters                       NaN      NaN   \n",
       "2              organic                       NaN      NaN   \n",
       "3              organic                       NaN      NaN   \n",
       "4              organic                       NaN      NaN   \n",
       "..                 ...                       ...      ...   \n",
       "381   related_searches                       NaN      NaN   \n",
       "382   related_searches                       NaN      NaN   \n",
       "383   related_searches                       NaN      NaN   \n",
       "384   related_searches                       NaN      NaN   \n",
       "385   related_searches                       NaN      NaN   \n",
       "\n",
       "                                         json_endpoint  \\\n",
       "0    https://serpapi.com/searches/0fe38a9c64a5b7b7/...   \n",
       "1                                                  NaN   \n",
       "2                                                  NaN   \n",
       "3                                                  NaN   \n",
       "4                                                  NaN   \n",
       "..                                                 ...   \n",
       "381                                                NaN   \n",
       "382                                                NaN   \n",
       "383                                                NaN   \n",
       "384                                                NaN   \n",
       "385                                                NaN   \n",
       "\n",
       "                  created_at  processe_at  \\\n",
       "0    2023-08-31 09:32:50 UTC          NaN   \n",
       "1                        NaN          NaN   \n",
       "2                        NaN          NaN   \n",
       "3                        NaN          NaN   \n",
       "4                        NaN          NaN   \n",
       "..                       ...          ...   \n",
       "381                      NaN          NaN   \n",
       "382                      NaN          NaN   \n",
       "383                      NaN          NaN   \n",
       "384                      NaN          NaN   \n",
       "385                      NaN          NaN   \n",
       "\n",
       "                                            google_url  \\\n",
       "0    https://www.google.co.in/search?q=instant+food...   \n",
       "1                                                  NaN   \n",
       "2                                                  NaN   \n",
       "3                                                  NaN   \n",
       "4                                                  NaN   \n",
       "..                                                 ...   \n",
       "381                                                NaN   \n",
       "382                                                NaN   \n",
       "383                                                NaN   \n",
       "384                                                NaN   \n",
       "385                                                NaN   \n",
       "\n",
       "                                         raw_html_file  total_time_taken  \\\n",
       "0    https://serpapi.com/searches/0fe38a9c64a5b7b7/...              2.47   \n",
       "1                                                  NaN               NaN   \n",
       "2                                                  NaN               NaN   \n",
       "3                                                  NaN               NaN   \n",
       "4                                                  NaN               NaN   \n",
       "..                                                 ...               ...   \n",
       "381                                                NaN               NaN   \n",
       "382                                                NaN               NaN   \n",
       "383                                                NaN               NaN   \n",
       "384                                                NaN               NaN   \n",
       "385                                                NaN               NaN   \n",
       "\n",
       "     engine  ...                                               link  \\\n",
       "0       NaN  ...                                                NaN   \n",
       "1    google  ...                                                NaN   \n",
       "2       NaN  ...  https://www.amazon.in/Instant-Food/s?k=Instant...   \n",
       "3       NaN  ...  https://www.flipkart.com/ready-to-eat/pr?sid=e...   \n",
       "4       NaN  ...  https://www.bigbasket.com/pc/snacks-branded-fo...   \n",
       "..      ...  ...                                                ...   \n",
       "381     NaN  ...  https://www.google.co.in/search?sca_esv=561590...   \n",
       "382     NaN  ...  https://www.google.co.in/search?sca_esv=561590...   \n",
       "383     NaN  ...  https://www.google.co.in/search?sca_esv=561590...   \n",
       "384     NaN  ...  https://www.google.co.in/search?sca_esv=561590...   \n",
       "385     NaN  ...  https://www.google.co.in/search?sca_esv=561590...   \n",
       "\n",
       "                                          serpapi_link tracking_link  \\\n",
       "0                                                  NaN           NaN   \n",
       "1                                                  NaN           NaN   \n",
       "2                                                  NaN           NaN   \n",
       "3                                                  NaN           NaN   \n",
       "4                                                  NaN           NaN   \n",
       "..                                                 ...           ...   \n",
       "381  https://serpapi.com/search.json?device=desktop...           NaN   \n",
       "382  https://serpapi.com/search.json?device=desktop...           NaN   \n",
       "383  https://serpapi.com/search.json?device=desktop...           NaN   \n",
       "384  https://serpapi.com/search.json?device=desktop...           NaN   \n",
       "385  https://serpapi.com/search.json?device=desktop...           NaN   \n",
       "\n",
       "    description                                     displayed_link  \\\n",
       "0           NaN                                                NaN   \n",
       "1           NaN                                                NaN   \n",
       "2           NaN  https://www.amazon.in › Instant-Food › k=Insta...   \n",
       "3           NaN            https://www.flipkart.com › ready-to-eat   \n",
       "4           NaN  https://www.bigbasket.com › ... › Ready to coo...   \n",
       "..          ...                                                ...   \n",
       "381         NaN                                                NaN   \n",
       "382         NaN                                                NaN   \n",
       "383         NaN                                                NaN   \n",
       "384         NaN                                                NaN   \n",
       "385         NaN                                                NaN   \n",
       "\n",
       "                                             thumbnail  \\\n",
       "0                                                  NaN   \n",
       "1                                                  NaN   \n",
       "2    https://serpapi.com/searches/64f05e420f986612e...   \n",
       "3    https://serpapi.com/searches/64f05e420f986612e...   \n",
       "4    https://serpapi.com/searches/64f05e420f986612e...   \n",
       "..                                                 ...   \n",
       "381                                                NaN   \n",
       "382                                                NaN   \n",
       "383                                                NaN   \n",
       "384                                                NaN   \n",
       "385                                                NaN   \n",
       "\n",
       "                                               favicon  \\\n",
       "0                                                  NaN   \n",
       "1                                                  NaN   \n",
       "2    https://serpapi.com/searches/64f05e420f986612e...   \n",
       "3    https://serpapi.com/searches/64f05e420f986612e...   \n",
       "4    https://serpapi.com/searches/64f05e420f986612e...   \n",
       "..                                                 ...   \n",
       "381                                                NaN   \n",
       "382                                                NaN   \n",
       "383                                                NaN   \n",
       "384                                                NaN   \n",
       "385                                                NaN   \n",
       "\n",
       "                                               snippet  \\\n",
       "0                                                  NaN   \n",
       "1                                                  NaN   \n",
       "2    Amazon.in: Instant Food. ... FREE Delivery ove...   \n",
       "3    Ready To Eat Meals: Buy Ready to Eat Snacks an...   \n",
       "4    Just order from our ready to eat food online p...   \n",
       "..                                                 ...   \n",
       "381                                                NaN   \n",
       "382                                                NaN   \n",
       "383                                                NaN   \n",
       "384                                                NaN   \n",
       "385                                                NaN   \n",
       "\n",
       "     snippet_highlighted_words     source  \n",
       "0                          NaN        NaN  \n",
       "1                          NaN        NaN  \n",
       "2                          NaN  Amazon.in  \n",
       "3                          NaN   Flipkart  \n",
       "4                          NaN  BigBasket  \n",
       "..                         ...        ...  \n",
       "381                        NaN        NaN  \n",
       "382                        NaN        NaN  \n",
       "383                        NaN        NaN  \n",
       "384                        NaN        NaN  \n",
       "385                        NaN        NaN  \n",
       "\n",
       "[386 rows x 33 columns]>"
      ]
     },
     "execution_count": 6,
     "metadata": {},
     "output_type": "execute_result"
    }
   ],
   "source": [
    "import pandas as pd\n",
    "df = pd.read_csv(\"C:/Users/Gazal V/Desktop/Dowell/all/demo_5.csv\")\n",
    "df.head"
   ]
  },
  {
   "cell_type": "code",
   "execution_count": 7,
   "id": "5d2ffb36",
   "metadata": {},
   "outputs": [],
   "source": [
    "df.drop(df.iloc[:, :30], inplace=True, axis=1)"
   ]
  },
  {
   "cell_type": "code",
   "execution_count": 8,
   "id": "a7db499a",
   "metadata": {},
   "outputs": [],
   "source": [
    "df.drop(df.iloc[:, 1:], inplace=True, axis=1)"
   ]
  },
  {
   "cell_type": "code",
   "execution_count": 9,
   "id": "a5b51227",
   "metadata": {},
   "outputs": [],
   "source": [
    "df= df.dropna()"
   ]
  },
  {
   "cell_type": "code",
   "execution_count": 10,
   "id": "8c880247",
   "metadata": {},
   "outputs": [
    {
     "data": {
      "text/html": [
       "<div>\n",
       "<style scoped>\n",
       "    .dataframe tbody tr th:only-of-type {\n",
       "        vertical-align: middle;\n",
       "    }\n",
       "\n",
       "    .dataframe tbody tr th {\n",
       "        vertical-align: top;\n",
       "    }\n",
       "\n",
       "    .dataframe thead th {\n",
       "        text-align: right;\n",
       "    }\n",
       "</style>\n",
       "<table border=\"1\" class=\"dataframe\">\n",
       "  <thead>\n",
       "    <tr style=\"text-align: right;\">\n",
       "      <th></th>\n",
       "      <th>snippet</th>\n",
       "    </tr>\n",
       "  </thead>\n",
       "  <tbody>\n",
       "    <tr>\n",
       "      <th>2</th>\n",
       "      <td>Amazon.in: Instant Food. ... FREE Delivery ove...</td>\n",
       "    </tr>\n",
       "    <tr>\n",
       "      <th>3</th>\n",
       "      <td>Ready To Eat Meals: Buy Ready to Eat Snacks an...</td>\n",
       "    </tr>\n",
       "    <tr>\n",
       "      <th>4</th>\n",
       "      <td>Just order from our ready to eat food online p...</td>\n",
       "    </tr>\n",
       "    <tr>\n",
       "      <th>5</th>\n",
       "      <td>Be the first to know about exciting new flavor...</td>\n",
       "    </tr>\n",
       "  </tbody>\n",
       "</table>\n",
       "</div>"
      ],
      "text/plain": [
       "                                             snippet\n",
       "2  Amazon.in: Instant Food. ... FREE Delivery ove...\n",
       "3  Ready To Eat Meals: Buy Ready to Eat Snacks an...\n",
       "4  Just order from our ready to eat food online p...\n",
       "5  Be the first to know about exciting new flavor..."
      ]
     },
     "execution_count": 10,
     "metadata": {},
     "output_type": "execute_result"
    }
   ],
   "source": [
    "df.head(4)"
   ]
  },
  {
   "cell_type": "code",
   "execution_count": 11,
   "id": "3bcd64d2",
   "metadata": {},
   "outputs": [
    {
     "name": "stdout",
     "output_type": "stream",
     "text": [
      "                                             snippet  Number of Words\n",
      "2  Amazon.in: Instant Food. ... FREE Delivery ove...               26\n",
      "3  Ready To Eat Meals: Buy Ready to Eat Snacks an...               21\n",
      "4  Just order from our ready to eat food online p...               30\n",
      "5  Be the first to know about exciting new flavor...               17\n",
      "6  Discover a wide range of ready meals, instant ...               24\n"
     ]
    },
    {
     "name": "stderr",
     "output_type": "stream",
     "text": [
      "C:\\Users\\Gazal V\\AppData\\Local\\Temp\\ipykernel_15616\\1471303186.py:1: SettingWithCopyWarning: \n",
      "A value is trying to be set on a copy of a slice from a DataFrame.\n",
      "Try using .loc[row_indexer,col_indexer] = value instead\n",
      "\n",
      "See the caveats in the documentation: https://pandas.pydata.org/pandas-docs/stable/user_guide/indexing.html#returning-a-view-versus-a-copy\n",
      "  df[\"Number of Words\"] = df[\"snippet\"].apply(lambda n: len(n.split()))\n"
     ]
    }
   ],
   "source": [
    "df[\"Number of Words\"] = df[\"snippet\"].apply(lambda n: len(n.split()))\n",
    "print(df.head())"
   ]
  },
  {
   "cell_type": "code",
   "execution_count": 12,
   "id": "05e6cf4b",
   "metadata": {},
   "outputs": [
    {
     "data": {
      "text/html": [
       "<a download=\"df.csv\" href=\"data:text/csv;base64,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\" target=\"_blank\">Download CSV file</a>"
      ],
      "text/plain": [
       "<IPython.core.display.HTML object>"
      ]
     },
     "execution_count": 12,
     "metadata": {},
     "output_type": "execute_result"
    }
   ],
   "source": [
    "from IPython.display import HTML\n",
    "import base64 \n",
    "def create_download_link( loancsv, title = \"Download CSV file\", filename = \"df.csv\"):  \n",
    "    csv = df.to_csv()\n",
    "    b64 = base64.b64encode(csv.encode())\n",
    "    payload = b64.decode()\n",
    "    html = '<a download=\"{filename}\" href=\"data:text/csv;base64,{payload}\" target=\"_blank\">{title}</a>'\n",
    "    html = html.format(payload=payload,title=title,filename=filename)\n",
    "    return HTML(html)\n",
    "\n",
    "create_download_link(df)"
   ]
  },
  {
   "cell_type": "code",
   "execution_count": null,
   "id": "9c58e00c",
   "metadata": {},
   "outputs": [],
   "source": []
  },
  {
   "cell_type": "markdown",
   "id": "6253300f",
   "metadata": {},
   "source": [
    "# counts word frequency\n",
    "def count_words(text):                  \n",
    "    skips = [\".\", \", \", \":\", \";\", \"'\", '\"'] \n",
    "    for ch in skips: \n",
    "        text = text.replace(ch, \"\") \n",
    "    word_counts = {} \n",
    "    for word in text.split(\" \"): \n",
    "        if word in word_counts: \n",
    "            word_counts[word]+= 1 \n",
    "        else: \n",
    "            word_counts[word]= 1 \n",
    "    return word_counts "
   ]
  },
  {
   "cell_type": "markdown",
   "id": "9d5997ba",
   "metadata": {},
   "source": [
    "    # >>>count_words(text) You can check the function \n",
    "  \n",
    "# counts word frequency using\n",
    "# Counter from collections \n",
    "def count_words_fast(text):     \n",
    "    text = text.lower() \n",
    "    skips = [\".\", \", \", \":\", \";\", \"'\", '\"'] \n",
    "    for ch in skips: \n",
    "        text = text.replace(ch, \"\") \n",
    "    word_counts = Counter(text.split(\" \")) \n",
    "    return word_counts \n",
    "  \n",
    "    # >>>count_words_fast(text) You can check the function "
   ]
  },
  {
   "cell_type": "markdown",
   "id": "5d15c046",
   "metadata": {},
   "source": [
    "import os \n",
    "import pandas as pd \n",
    "  \n",
    "book_dir = \"./Books\"\n",
    "os.listdir(book_dir) \n",
    "  \n",
    "stats = pd.DataFrame(columns =(\"language\",\n",
    "                               \"author\",\n",
    "                               \"title\",\n",
    "                               \"length\",\n",
    "                               \"unique\"))"
   ]
  },
  {
   "cell_type": "markdown",
   "id": "3e251004",
   "metadata": {},
   "source": [
    "# check >>>stats \n",
    "title_num = 1\n",
    "for language in os.listdir(book_dir): \n",
    "    for author in os.listdir(book_dir+\"/\"+language): \n",
    "        for title in os.listdir(book_dir+\"/\"+language+\"/\"+author):\n",
    "              \n",
    "            inputfile = book_dir+\"/\"+language+\"/\"+author+\"/\"+title \n",
    "            print(inputfile) \n",
    "            text = read_book(inputfile) \n",
    "            (num_unique, counts) = word_stats(count_words_fast(text)) \n",
    "            stats.loc[title_num]= language,\n",
    "            author.capitalize(),\n",
    "            title.replace(\".txt\", \"\"), \n",
    "            sum(counts), num_unique \n",
    "            title_num+= 1"
   ]
  },
  {
   "cell_type": "markdown",
   "id": "85324032",
   "metadata": {},
   "source": [
    "plt.legend() \n",
    "plt.xlabel(\"Book Length\") \n",
    "plt.ylabel(\"Number of Unique words\") \n",
    "plt.savefig(\"fig.pdf\") \n",
    "plt.show() "
   ]
  },
  {
   "cell_type": "code",
   "execution_count": null,
   "id": "407acc37",
   "metadata": {},
   "outputs": [],
   "source": []
  },
  {
   "cell_type": "code",
   "execution_count": null,
   "id": "b3866939",
   "metadata": {},
   "outputs": [],
   "source": []
  }
 ],
 "metadata": {
  "kernelspec": {
   "display_name": "Python 3 (ipykernel)",
   "language": "python",
   "name": "python3"
  },
  "language_info": {
   "codemirror_mode": {
    "name": "ipython",
    "version": 3
   },
   "file_extension": ".py",
   "mimetype": "text/x-python",
   "name": "python",
   "nbconvert_exporter": "python",
   "pygments_lexer": "ipython3",
   "version": "3.10.9"
  }
 },
 "nbformat": 4,
 "nbformat_minor": 5
}
