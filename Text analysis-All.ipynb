{
 "cells": [
  {
   "cell_type": "code",
   "execution_count": 1,
   "id": "2750d7ad",
   "metadata": {},
   "outputs": [],
   "source": [
    "import nltk\n",
    "import numpy as np"
   ]
  },
  {
   "cell_type": "code",
   "execution_count": 2,
   "id": "9d709bd8",
   "metadata": {},
   "outputs": [
    {
     "data": {
      "text/plain": [
       "<bound method NDFrame.head of            result_type                        id   status  \\\n",
       "0             metadata  64f05e420f986612e4790c25  Success   \n",
       "1    search_parameters                       NaN      NaN   \n",
       "2              organic                       NaN      NaN   \n",
       "3              organic                       NaN      NaN   \n",
       "4              organic                       NaN      NaN   \n",
       "..                 ...                       ...      ...   \n",
       "381   related_searches                       NaN      NaN   \n",
       "382   related_searches                       NaN      NaN   \n",
       "383   related_searches                       NaN      NaN   \n",
       "384   related_searches                       NaN      NaN   \n",
       "385   related_searches                       NaN      NaN   \n",
       "\n",
       "                                         json_endpoint  \\\n",
       "0    https://serpapi.com/searches/0fe38a9c64a5b7b7/...   \n",
       "1                                                  NaN   \n",
       "2                                                  NaN   \n",
       "3                                                  NaN   \n",
       "4                                                  NaN   \n",
       "..                                                 ...   \n",
       "381                                                NaN   \n",
       "382                                                NaN   \n",
       "383                                                NaN   \n",
       "384                                                NaN   \n",
       "385                                                NaN   \n",
       "\n",
       "                  created_at  processe_at  \\\n",
       "0    2023-08-31 09:32:50 UTC          NaN   \n",
       "1                        NaN          NaN   \n",
       "2                        NaN          NaN   \n",
       "3                        NaN          NaN   \n",
       "4                        NaN          NaN   \n",
       "..                       ...          ...   \n",
       "381                      NaN          NaN   \n",
       "382                      NaN          NaN   \n",
       "383                      NaN          NaN   \n",
       "384                      NaN          NaN   \n",
       "385                      NaN          NaN   \n",
       "\n",
       "                                            google_url  \\\n",
       "0    https://www.google.co.in/search?q=instant+food...   \n",
       "1                                                  NaN   \n",
       "2                                                  NaN   \n",
       "3                                                  NaN   \n",
       "4                                                  NaN   \n",
       "..                                                 ...   \n",
       "381                                                NaN   \n",
       "382                                                NaN   \n",
       "383                                                NaN   \n",
       "384                                                NaN   \n",
       "385                                                NaN   \n",
       "\n",
       "                                         raw_html_file  total_time_taken  \\\n",
       "0    https://serpapi.com/searches/0fe38a9c64a5b7b7/...              2.47   \n",
       "1                                                  NaN               NaN   \n",
       "2                                                  NaN               NaN   \n",
       "3                                                  NaN               NaN   \n",
       "4                                                  NaN               NaN   \n",
       "..                                                 ...               ...   \n",
       "381                                                NaN               NaN   \n",
       "382                                                NaN               NaN   \n",
       "383                                                NaN               NaN   \n",
       "384                                                NaN               NaN   \n",
       "385                                                NaN               NaN   \n",
       "\n",
       "     engine  ...                                               link  \\\n",
       "0       NaN  ...                                                NaN   \n",
       "1    google  ...                                                NaN   \n",
       "2       NaN  ...  https://www.amazon.in/Instant-Food/s?k=Instant...   \n",
       "3       NaN  ...  https://www.flipkart.com/ready-to-eat/pr?sid=e...   \n",
       "4       NaN  ...  https://www.bigbasket.com/pc/snacks-branded-fo...   \n",
       "..      ...  ...                                                ...   \n",
       "381     NaN  ...  https://www.google.co.in/search?sca_esv=561590...   \n",
       "382     NaN  ...  https://www.google.co.in/search?sca_esv=561590...   \n",
       "383     NaN  ...  https://www.google.co.in/search?sca_esv=561590...   \n",
       "384     NaN  ...  https://www.google.co.in/search?sca_esv=561590...   \n",
       "385     NaN  ...  https://www.google.co.in/search?sca_esv=561590...   \n",
       "\n",
       "                                          serpapi_link tracking_link  \\\n",
       "0                                                  NaN           NaN   \n",
       "1                                                  NaN           NaN   \n",
       "2                                                  NaN           NaN   \n",
       "3                                                  NaN           NaN   \n",
       "4                                                  NaN           NaN   \n",
       "..                                                 ...           ...   \n",
       "381  https://serpapi.com/search.json?device=desktop...           NaN   \n",
       "382  https://serpapi.com/search.json?device=desktop...           NaN   \n",
       "383  https://serpapi.com/search.json?device=desktop...           NaN   \n",
       "384  https://serpapi.com/search.json?device=desktop...           NaN   \n",
       "385  https://serpapi.com/search.json?device=desktop...           NaN   \n",
       "\n",
       "    description                                     displayed_link  \\\n",
       "0           NaN                                                NaN   \n",
       "1           NaN                                                NaN   \n",
       "2           NaN  https://www.amazon.in › Instant-Food › k=Insta...   \n",
       "3           NaN            https://www.flipkart.com › ready-to-eat   \n",
       "4           NaN  https://www.bigbasket.com › ... › Ready to coo...   \n",
       "..          ...                                                ...   \n",
       "381         NaN                                                NaN   \n",
       "382         NaN                                                NaN   \n",
       "383         NaN                                                NaN   \n",
       "384         NaN                                                NaN   \n",
       "385         NaN                                                NaN   \n",
       "\n",
       "                                             thumbnail  \\\n",
       "0                                                  NaN   \n",
       "1                                                  NaN   \n",
       "2    https://serpapi.com/searches/64f05e420f986612e...   \n",
       "3    https://serpapi.com/searches/64f05e420f986612e...   \n",
       "4    https://serpapi.com/searches/64f05e420f986612e...   \n",
       "..                                                 ...   \n",
       "381                                                NaN   \n",
       "382                                                NaN   \n",
       "383                                                NaN   \n",
       "384                                                NaN   \n",
       "385                                                NaN   \n",
       "\n",
       "                                               favicon  \\\n",
       "0                                                  NaN   \n",
       "1                                                  NaN   \n",
       "2    https://serpapi.com/searches/64f05e420f986612e...   \n",
       "3    https://serpapi.com/searches/64f05e420f986612e...   \n",
       "4    https://serpapi.com/searches/64f05e420f986612e...   \n",
       "..                                                 ...   \n",
       "381                                                NaN   \n",
       "382                                                NaN   \n",
       "383                                                NaN   \n",
       "384                                                NaN   \n",
       "385                                                NaN   \n",
       "\n",
       "                                               snippet  \\\n",
       "0                                                  NaN   \n",
       "1                                                  NaN   \n",
       "2    Amazon.in: Instant Food. ... FREE Delivery ove...   \n",
       "3    Ready To Eat Meals: Buy Ready to Eat Snacks an...   \n",
       "4    Just order from our ready to eat food online p...   \n",
       "..                                                 ...   \n",
       "381                                                NaN   \n",
       "382                                                NaN   \n",
       "383                                                NaN   \n",
       "384                                                NaN   \n",
       "385                                                NaN   \n",
       "\n",
       "     snippet_highlighted_words     source  \n",
       "0                          NaN        NaN  \n",
       "1                          NaN        NaN  \n",
       "2                          NaN  Amazon.in  \n",
       "3                          NaN   Flipkart  \n",
       "4                          NaN  BigBasket  \n",
       "..                         ...        ...  \n",
       "381                        NaN        NaN  \n",
       "382                        NaN        NaN  \n",
       "383                        NaN        NaN  \n",
       "384                        NaN        NaN  \n",
       "385                        NaN        NaN  \n",
       "\n",
       "[386 rows x 33 columns]>"
      ]
     },
     "execution_count": 2,
     "metadata": {},
     "output_type": "execute_result"
    }
   ],
   "source": [
    "import pandas as pd\n",
    "text= pd.read_csv(\"C:/Users/Gazal V/Desktop/Dowell/all/demo_5.csv\")\n",
    "text.head"
   ]
  },
  {
   "cell_type": "code",
   "execution_count": 3,
   "id": "5a8e3f2d",
   "metadata": {},
   "outputs": [],
   "source": [
    "text.drop(text.iloc[:, :30], inplace=True, axis=1)"
   ]
  },
  {
   "cell_type": "code",
   "execution_count": 4,
   "id": "e92f2fc0",
   "metadata": {},
   "outputs": [],
   "source": [
    "text.drop(text.iloc[:, 1:], inplace=True, axis=1)"
   ]
  },
  {
   "cell_type": "code",
   "execution_count": 5,
   "id": "0c8d141b",
   "metadata": {},
   "outputs": [],
   "source": [
    "text= text.dropna()"
   ]
  },
  {
   "cell_type": "code",
   "execution_count": 6,
   "id": "4f333a99",
   "metadata": {},
   "outputs": [
    {
     "data": {
      "text/html": [
       "<div>\n",
       "<style scoped>\n",
       "    .dataframe tbody tr th:only-of-type {\n",
       "        vertical-align: middle;\n",
       "    }\n",
       "\n",
       "    .dataframe tbody tr th {\n",
       "        vertical-align: top;\n",
       "    }\n",
       "\n",
       "    .dataframe thead th {\n",
       "        text-align: right;\n",
       "    }\n",
       "</style>\n",
       "<table border=\"1\" class=\"dataframe\">\n",
       "  <thead>\n",
       "    <tr style=\"text-align: right;\">\n",
       "      <th></th>\n",
       "      <th>snippet</th>\n",
       "    </tr>\n",
       "  </thead>\n",
       "  <tbody>\n",
       "    <tr>\n",
       "      <th>2</th>\n",
       "      <td>Amazon.in: Instant Food. ... FREE Delivery ove...</td>\n",
       "    </tr>\n",
       "    <tr>\n",
       "      <th>3</th>\n",
       "      <td>Ready To Eat Meals: Buy Ready to Eat Snacks an...</td>\n",
       "    </tr>\n",
       "    <tr>\n",
       "      <th>4</th>\n",
       "      <td>Just order from our ready to eat food online p...</td>\n",
       "    </tr>\n",
       "    <tr>\n",
       "      <th>5</th>\n",
       "      <td>Be the first to know about exciting new flavor...</td>\n",
       "    </tr>\n",
       "    <tr>\n",
       "      <th>6</th>\n",
       "      <td>Discover a wide range of ready meals, instant ...</td>\n",
       "    </tr>\n",
       "  </tbody>\n",
       "</table>\n",
       "</div>"
      ],
      "text/plain": [
       "                                             snippet\n",
       "2  Amazon.in: Instant Food. ... FREE Delivery ove...\n",
       "3  Ready To Eat Meals: Buy Ready to Eat Snacks an...\n",
       "4  Just order from our ready to eat food online p...\n",
       "5  Be the first to know about exciting new flavor...\n",
       "6  Discover a wide range of ready meals, instant ..."
      ]
     },
     "execution_count": 6,
     "metadata": {},
     "output_type": "execute_result"
    }
   ],
   "source": [
    "text.head()"
   ]
  },
  {
   "cell_type": "markdown",
   "id": "d79c2421",
   "metadata": {},
   "source": [
    "# 1. Basic Feature Extraction"
   ]
  },
  {
   "cell_type": "markdown",
   "id": "333dd0dd",
   "metadata": {},
   "source": [
    "word Count"
   ]
  },
  {
   "cell_type": "code",
   "execution_count": 7,
   "id": "1521201a",
   "metadata": {},
   "outputs": [
    {
     "name": "stderr",
     "output_type": "stream",
     "text": [
      "C:\\Users\\Gazal V\\AppData\\Local\\Temp\\ipykernel_21800\\1910540914.py:1: SettingWithCopyWarning: \n",
      "A value is trying to be set on a copy of a slice from a DataFrame.\n",
      "Try using .loc[row_indexer,col_indexer] = value instead\n",
      "\n",
      "See the caveats in the documentation: https://pandas.pydata.org/pandas-docs/stable/user_guide/indexing.html#returning-a-view-versus-a-copy\n",
      "  text['word_count'] = text['snippet'].apply(lambda x: len(str(x).split(\" \")))\n"
     ]
    },
    {
     "data": {
      "text/html": [
       "<div>\n",
       "<style scoped>\n",
       "    .dataframe tbody tr th:only-of-type {\n",
       "        vertical-align: middle;\n",
       "    }\n",
       "\n",
       "    .dataframe tbody tr th {\n",
       "        vertical-align: top;\n",
       "    }\n",
       "\n",
       "    .dataframe thead th {\n",
       "        text-align: right;\n",
       "    }\n",
       "</style>\n",
       "<table border=\"1\" class=\"dataframe\">\n",
       "  <thead>\n",
       "    <tr style=\"text-align: right;\">\n",
       "      <th></th>\n",
       "      <th>snippet</th>\n",
       "      <th>word_count</th>\n",
       "    </tr>\n",
       "  </thead>\n",
       "  <tbody>\n",
       "    <tr>\n",
       "      <th>2</th>\n",
       "      <td>Amazon.in: Instant Food. ... FREE Delivery ove...</td>\n",
       "      <td>26</td>\n",
       "    </tr>\n",
       "    <tr>\n",
       "      <th>3</th>\n",
       "      <td>Ready To Eat Meals: Buy Ready to Eat Snacks an...</td>\n",
       "      <td>21</td>\n",
       "    </tr>\n",
       "    <tr>\n",
       "      <th>4</th>\n",
       "      <td>Just order from our ready to eat food online p...</td>\n",
       "      <td>30</td>\n",
       "    </tr>\n",
       "    <tr>\n",
       "      <th>5</th>\n",
       "      <td>Be the first to know about exciting new flavor...</td>\n",
       "      <td>17</td>\n",
       "    </tr>\n",
       "    <tr>\n",
       "      <th>6</th>\n",
       "      <td>Discover a wide range of ready meals, instant ...</td>\n",
       "      <td>24</td>\n",
       "    </tr>\n",
       "  </tbody>\n",
       "</table>\n",
       "</div>"
      ],
      "text/plain": [
       "                                             snippet  word_count\n",
       "2  Amazon.in: Instant Food. ... FREE Delivery ove...          26\n",
       "3  Ready To Eat Meals: Buy Ready to Eat Snacks an...          21\n",
       "4  Just order from our ready to eat food online p...          30\n",
       "5  Be the first to know about exciting new flavor...          17\n",
       "6  Discover a wide range of ready meals, instant ...          24"
      ]
     },
     "execution_count": 7,
     "metadata": {},
     "output_type": "execute_result"
    }
   ],
   "source": [
    "text['word_count'] = text['snippet'].apply(lambda x: len(str(x).split(\" \")))\n",
    "text[['snippet','word_count']].head()\n"
   ]
  },
  {
   "cell_type": "markdown",
   "id": "27bba9ba",
   "metadata": {},
   "source": [
    "Number Of Characters"
   ]
  },
  {
   "cell_type": "code",
   "execution_count": 8,
   "id": "d0d6eee4",
   "metadata": {},
   "outputs": [
    {
     "name": "stderr",
     "output_type": "stream",
     "text": [
      "C:\\Users\\Gazal V\\AppData\\Local\\Temp\\ipykernel_21800\\1038257379.py:1: SettingWithCopyWarning: \n",
      "A value is trying to be set on a copy of a slice from a DataFrame.\n",
      "Try using .loc[row_indexer,col_indexer] = value instead\n",
      "\n",
      "See the caveats in the documentation: https://pandas.pydata.org/pandas-docs/stable/user_guide/indexing.html#returning-a-view-versus-a-copy\n",
      "  text['char_count'] = text['snippet'].str.len() ## this also includes spaces\n"
     ]
    },
    {
     "data": {
      "text/html": [
       "<div>\n",
       "<style scoped>\n",
       "    .dataframe tbody tr th:only-of-type {\n",
       "        vertical-align: middle;\n",
       "    }\n",
       "\n",
       "    .dataframe tbody tr th {\n",
       "        vertical-align: top;\n",
       "    }\n",
       "\n",
       "    .dataframe thead th {\n",
       "        text-align: right;\n",
       "    }\n",
       "</style>\n",
       "<table border=\"1\" class=\"dataframe\">\n",
       "  <thead>\n",
       "    <tr style=\"text-align: right;\">\n",
       "      <th></th>\n",
       "      <th>snippet</th>\n",
       "      <th>word_count</th>\n",
       "      <th>char_count</th>\n",
       "    </tr>\n",
       "  </thead>\n",
       "  <tbody>\n",
       "    <tr>\n",
       "      <th>2</th>\n",
       "      <td>Amazon.in: Instant Food. ... FREE Delivery ove...</td>\n",
       "      <td>26</td>\n",
       "      <td>144</td>\n",
       "    </tr>\n",
       "    <tr>\n",
       "      <th>3</th>\n",
       "      <td>Ready To Eat Meals: Buy Ready to Eat Snacks an...</td>\n",
       "      <td>21</td>\n",
       "      <td>124</td>\n",
       "    </tr>\n",
       "    <tr>\n",
       "      <th>4</th>\n",
       "      <td>Just order from our ready to eat food online p...</td>\n",
       "      <td>30</td>\n",
       "      <td>159</td>\n",
       "    </tr>\n",
       "    <tr>\n",
       "      <th>5</th>\n",
       "      <td>Be the first to know about exciting new flavor...</td>\n",
       "      <td>17</td>\n",
       "      <td>98</td>\n",
       "    </tr>\n",
       "    <tr>\n",
       "      <th>6</th>\n",
       "      <td>Discover a wide range of ready meals, instant ...</td>\n",
       "      <td>24</td>\n",
       "      <td>152</td>\n",
       "    </tr>\n",
       "  </tbody>\n",
       "</table>\n",
       "</div>"
      ],
      "text/plain": [
       "                                             snippet  word_count  char_count\n",
       "2  Amazon.in: Instant Food. ... FREE Delivery ove...          26         144\n",
       "3  Ready To Eat Meals: Buy Ready to Eat Snacks an...          21         124\n",
       "4  Just order from our ready to eat food online p...          30         159\n",
       "5  Be the first to know about exciting new flavor...          17          98\n",
       "6  Discover a wide range of ready meals, instant ...          24         152"
      ]
     },
     "execution_count": 8,
     "metadata": {},
     "output_type": "execute_result"
    }
   ],
   "source": [
    "text['char_count'] = text['snippet'].str.len() ## this also includes spaces\n",
    "text[['snippet','word_count','char_count']].head()"
   ]
  },
  {
   "cell_type": "markdown",
   "id": "5bcadf5b",
   "metadata": {},
   "source": [
    "Average Word Length"
   ]
  },
  {
   "cell_type": "code",
   "execution_count": 9,
   "id": "0ddfd3d6",
   "metadata": {},
   "outputs": [
    {
     "name": "stderr",
     "output_type": "stream",
     "text": [
      "C:\\Users\\Gazal V\\AppData\\Local\\Temp\\ipykernel_21800\\1015672435.py:5: SettingWithCopyWarning: \n",
      "A value is trying to be set on a copy of a slice from a DataFrame.\n",
      "Try using .loc[row_indexer,col_indexer] = value instead\n",
      "\n",
      "See the caveats in the documentation: https://pandas.pydata.org/pandas-docs/stable/user_guide/indexing.html#returning-a-view-versus-a-copy\n",
      "  text['avg_word'] = text['snippet'].apply(lambda x: avg_word(x))\n"
     ]
    },
    {
     "data": {
      "text/html": [
       "<div>\n",
       "<style scoped>\n",
       "    .dataframe tbody tr th:only-of-type {\n",
       "        vertical-align: middle;\n",
       "    }\n",
       "\n",
       "    .dataframe tbody tr th {\n",
       "        vertical-align: top;\n",
       "    }\n",
       "\n",
       "    .dataframe thead th {\n",
       "        text-align: right;\n",
       "    }\n",
       "</style>\n",
       "<table border=\"1\" class=\"dataframe\">\n",
       "  <thead>\n",
       "    <tr style=\"text-align: right;\">\n",
       "      <th></th>\n",
       "      <th>snippet</th>\n",
       "      <th>avg_word</th>\n",
       "      <th>word_count</th>\n",
       "      <th>char_count</th>\n",
       "    </tr>\n",
       "  </thead>\n",
       "  <tbody>\n",
       "    <tr>\n",
       "      <th>2</th>\n",
       "      <td>Amazon.in: Instant Food. ... FREE Delivery ove...</td>\n",
       "      <td>4.576923</td>\n",
       "      <td>26</td>\n",
       "      <td>144</td>\n",
       "    </tr>\n",
       "    <tr>\n",
       "      <th>3</th>\n",
       "      <td>Ready To Eat Meals: Buy Ready to Eat Snacks an...</td>\n",
       "      <td>4.952381</td>\n",
       "      <td>21</td>\n",
       "      <td>124</td>\n",
       "    </tr>\n",
       "    <tr>\n",
       "      <th>4</th>\n",
       "      <td>Just order from our ready to eat food online p...</td>\n",
       "      <td>4.333333</td>\n",
       "      <td>30</td>\n",
       "      <td>159</td>\n",
       "    </tr>\n",
       "    <tr>\n",
       "      <th>5</th>\n",
       "      <td>Be the first to know about exciting new flavor...</td>\n",
       "      <td>4.823529</td>\n",
       "      <td>17</td>\n",
       "      <td>98</td>\n",
       "    </tr>\n",
       "    <tr>\n",
       "      <th>6</th>\n",
       "      <td>Discover a wide range of ready meals, instant ...</td>\n",
       "      <td>5.375000</td>\n",
       "      <td>24</td>\n",
       "      <td>152</td>\n",
       "    </tr>\n",
       "  </tbody>\n",
       "</table>\n",
       "</div>"
      ],
      "text/plain": [
       "                                             snippet  avg_word  word_count  \\\n",
       "2  Amazon.in: Instant Food. ... FREE Delivery ove...  4.576923          26   \n",
       "3  Ready To Eat Meals: Buy Ready to Eat Snacks an...  4.952381          21   \n",
       "4  Just order from our ready to eat food online p...  4.333333          30   \n",
       "5  Be the first to know about exciting new flavor...  4.823529          17   \n",
       "6  Discover a wide range of ready meals, instant ...  5.375000          24   \n",
       "\n",
       "   char_count  \n",
       "2         144  \n",
       "3         124  \n",
       "4         159  \n",
       "5          98  \n",
       "6         152  "
      ]
     },
     "execution_count": 9,
     "metadata": {},
     "output_type": "execute_result"
    }
   ],
   "source": [
    "def avg_word(sentence):\n",
    "  words = sentence.split()\n",
    "  return (sum(len(word) for word in words)/len(words))\n",
    "\n",
    "text['avg_word'] = text['snippet'].apply(lambda x: avg_word(x))\n",
    "text[['snippet','avg_word','word_count','char_count']].head()"
   ]
  },
  {
   "cell_type": "markdown",
   "id": "e993f71b",
   "metadata": {},
   "source": [
    "Number of stopwords"
   ]
  },
  {
   "cell_type": "code",
   "execution_count": 10,
   "id": "573ec858",
   "metadata": {},
   "outputs": [
    {
     "name": "stderr",
     "output_type": "stream",
     "text": [
      "C:\\Users\\Gazal V\\AppData\\Local\\Temp\\ipykernel_21800\\2521824737.py:4: SettingWithCopyWarning: \n",
      "A value is trying to be set on a copy of a slice from a DataFrame.\n",
      "Try using .loc[row_indexer,col_indexer] = value instead\n",
      "\n",
      "See the caveats in the documentation: https://pandas.pydata.org/pandas-docs/stable/user_guide/indexing.html#returning-a-view-versus-a-copy\n",
      "  text['stopwords'] = text['snippet'].apply(lambda x: len([x for x in x.split() if x in stop]))\n"
     ]
    },
    {
     "data": {
      "text/html": [
       "<div>\n",
       "<style scoped>\n",
       "    .dataframe tbody tr th:only-of-type {\n",
       "        vertical-align: middle;\n",
       "    }\n",
       "\n",
       "    .dataframe tbody tr th {\n",
       "        vertical-align: top;\n",
       "    }\n",
       "\n",
       "    .dataframe thead th {\n",
       "        text-align: right;\n",
       "    }\n",
       "</style>\n",
       "<table border=\"1\" class=\"dataframe\">\n",
       "  <thead>\n",
       "    <tr style=\"text-align: right;\">\n",
       "      <th></th>\n",
       "      <th>snippet</th>\n",
       "      <th>stopwords</th>\n",
       "      <th>avg_word</th>\n",
       "      <th>word_count</th>\n",
       "      <th>char_count</th>\n",
       "    </tr>\n",
       "  </thead>\n",
       "  <tbody>\n",
       "    <tr>\n",
       "      <th>2</th>\n",
       "      <td>Amazon.in: Instant Food. ... FREE Delivery ove...</td>\n",
       "      <td>6</td>\n",
       "      <td>4.576923</td>\n",
       "      <td>26</td>\n",
       "      <td>144</td>\n",
       "    </tr>\n",
       "    <tr>\n",
       "      <th>3</th>\n",
       "      <td>Ready To Eat Meals: Buy Ready to Eat Snacks an...</td>\n",
       "      <td>3</td>\n",
       "      <td>4.952381</td>\n",
       "      <td>21</td>\n",
       "      <td>124</td>\n",
       "    </tr>\n",
       "    <tr>\n",
       "      <th>4</th>\n",
       "      <td>Just order from our ready to eat food online p...</td>\n",
       "      <td>11</td>\n",
       "      <td>4.333333</td>\n",
       "      <td>30</td>\n",
       "      <td>159</td>\n",
       "    </tr>\n",
       "    <tr>\n",
       "      <th>5</th>\n",
       "      <td>Be the first to know about exciting new flavor...</td>\n",
       "      <td>5</td>\n",
       "      <td>4.823529</td>\n",
       "      <td>17</td>\n",
       "      <td>98</td>\n",
       "    </tr>\n",
       "    <tr>\n",
       "      <th>6</th>\n",
       "      <td>Discover a wide range of ready meals, instant ...</td>\n",
       "      <td>7</td>\n",
       "      <td>5.375000</td>\n",
       "      <td>24</td>\n",
       "      <td>152</td>\n",
       "    </tr>\n",
       "  </tbody>\n",
       "</table>\n",
       "</div>"
      ],
      "text/plain": [
       "                                             snippet  stopwords  avg_word  \\\n",
       "2  Amazon.in: Instant Food. ... FREE Delivery ove...          6  4.576923   \n",
       "3  Ready To Eat Meals: Buy Ready to Eat Snacks an...          3  4.952381   \n",
       "4  Just order from our ready to eat food online p...         11  4.333333   \n",
       "5  Be the first to know about exciting new flavor...          5  4.823529   \n",
       "6  Discover a wide range of ready meals, instant ...          7  5.375000   \n",
       "\n",
       "   word_count  char_count  \n",
       "2          26         144  \n",
       "3          21         124  \n",
       "4          30         159  \n",
       "5          17          98  \n",
       "6          24         152  "
      ]
     },
     "execution_count": 10,
     "metadata": {},
     "output_type": "execute_result"
    }
   ],
   "source": [
    "from nltk.corpus import stopwords\n",
    "stop = stopwords.words('english')\n",
    "\n",
    "text['stopwords'] = text['snippet'].apply(lambda x: len([x for x in x.split() if x in stop]))\n",
    "text[['snippet','stopwords','avg_word','word_count','char_count']].head()"
   ]
  },
  {
   "cell_type": "markdown",
   "id": "875e520c",
   "metadata": {},
   "source": [
    "Number of special characters"
   ]
  },
  {
   "cell_type": "code",
   "execution_count": 11,
   "id": "0d95b8a8",
   "metadata": {},
   "outputs": [
    {
     "name": "stderr",
     "output_type": "stream",
     "text": [
      "C:\\Users\\Gazal V\\AppData\\Local\\Temp\\ipykernel_21800\\1827914868.py:1: SettingWithCopyWarning: \n",
      "A value is trying to be set on a copy of a slice from a DataFrame.\n",
      "Try using .loc[row_indexer,col_indexer] = value instead\n",
      "\n",
      "See the caveats in the documentation: https://pandas.pydata.org/pandas-docs/stable/user_guide/indexing.html#returning-a-view-versus-a-copy\n",
      "  text['hastags'] = text['snippet'].apply(lambda x: len([x for x in x.split() if x.startswith('#')]))\n"
     ]
    },
    {
     "data": {
      "text/html": [
       "<div>\n",
       "<style scoped>\n",
       "    .dataframe tbody tr th:only-of-type {\n",
       "        vertical-align: middle;\n",
       "    }\n",
       "\n",
       "    .dataframe tbody tr th {\n",
       "        vertical-align: top;\n",
       "    }\n",
       "\n",
       "    .dataframe thead th {\n",
       "        text-align: right;\n",
       "    }\n",
       "</style>\n",
       "<table border=\"1\" class=\"dataframe\">\n",
       "  <thead>\n",
       "    <tr style=\"text-align: right;\">\n",
       "      <th></th>\n",
       "      <th>snippet</th>\n",
       "      <th>hastags</th>\n",
       "      <th>stopwords</th>\n",
       "      <th>avg_word</th>\n",
       "      <th>word_count</th>\n",
       "      <th>char_count</th>\n",
       "    </tr>\n",
       "  </thead>\n",
       "  <tbody>\n",
       "    <tr>\n",
       "      <th>2</th>\n",
       "      <td>Amazon.in: Instant Food. ... FREE Delivery ove...</td>\n",
       "      <td>0</td>\n",
       "      <td>6</td>\n",
       "      <td>4.576923</td>\n",
       "      <td>26</td>\n",
       "      <td>144</td>\n",
       "    </tr>\n",
       "    <tr>\n",
       "      <th>3</th>\n",
       "      <td>Ready To Eat Meals: Buy Ready to Eat Snacks an...</td>\n",
       "      <td>0</td>\n",
       "      <td>3</td>\n",
       "      <td>4.952381</td>\n",
       "      <td>21</td>\n",
       "      <td>124</td>\n",
       "    </tr>\n",
       "    <tr>\n",
       "      <th>4</th>\n",
       "      <td>Just order from our ready to eat food online p...</td>\n",
       "      <td>0</td>\n",
       "      <td>11</td>\n",
       "      <td>4.333333</td>\n",
       "      <td>30</td>\n",
       "      <td>159</td>\n",
       "    </tr>\n",
       "    <tr>\n",
       "      <th>5</th>\n",
       "      <td>Be the first to know about exciting new flavor...</td>\n",
       "      <td>0</td>\n",
       "      <td>5</td>\n",
       "      <td>4.823529</td>\n",
       "      <td>17</td>\n",
       "      <td>98</td>\n",
       "    </tr>\n",
       "    <tr>\n",
       "      <th>6</th>\n",
       "      <td>Discover a wide range of ready meals, instant ...</td>\n",
       "      <td>0</td>\n",
       "      <td>7</td>\n",
       "      <td>5.375000</td>\n",
       "      <td>24</td>\n",
       "      <td>152</td>\n",
       "    </tr>\n",
       "  </tbody>\n",
       "</table>\n",
       "</div>"
      ],
      "text/plain": [
       "                                             snippet  hastags  stopwords  \\\n",
       "2  Amazon.in: Instant Food. ... FREE Delivery ove...        0          6   \n",
       "3  Ready To Eat Meals: Buy Ready to Eat Snacks an...        0          3   \n",
       "4  Just order from our ready to eat food online p...        0         11   \n",
       "5  Be the first to know about exciting new flavor...        0          5   \n",
       "6  Discover a wide range of ready meals, instant ...        0          7   \n",
       "\n",
       "   avg_word  word_count  char_count  \n",
       "2  4.576923          26         144  \n",
       "3  4.952381          21         124  \n",
       "4  4.333333          30         159  \n",
       "5  4.823529          17          98  \n",
       "6  5.375000          24         152  "
      ]
     },
     "execution_count": 11,
     "metadata": {},
     "output_type": "execute_result"
    }
   ],
   "source": [
    "text['hastags'] = text['snippet'].apply(lambda x: len([x for x in x.split() if x.startswith('#')]))\n",
    "text[['snippet','hastags','stopwords','avg_word','word_count','char_count']].head()"
   ]
  },
  {
   "cell_type": "markdown",
   "id": "d0a0caa1",
   "metadata": {},
   "source": [
    "Number of numerics"
   ]
  },
  {
   "cell_type": "code",
   "execution_count": 12,
   "id": "2cc7541a",
   "metadata": {},
   "outputs": [
    {
     "name": "stderr",
     "output_type": "stream",
     "text": [
      "C:\\Users\\Gazal V\\AppData\\Local\\Temp\\ipykernel_21800\\4177922440.py:1: SettingWithCopyWarning: \n",
      "A value is trying to be set on a copy of a slice from a DataFrame.\n",
      "Try using .loc[row_indexer,col_indexer] = value instead\n",
      "\n",
      "See the caveats in the documentation: https://pandas.pydata.org/pandas-docs/stable/user_guide/indexing.html#returning-a-view-versus-a-copy\n",
      "  text['numerics'] = text['snippet'].apply(lambda x: len([x for x in x.split() if x.isdigit()]))\n"
     ]
    },
    {
     "data": {
      "text/html": [
       "<div>\n",
       "<style scoped>\n",
       "    .dataframe tbody tr th:only-of-type {\n",
       "        vertical-align: middle;\n",
       "    }\n",
       "\n",
       "    .dataframe tbody tr th {\n",
       "        vertical-align: top;\n",
       "    }\n",
       "\n",
       "    .dataframe thead th {\n",
       "        text-align: right;\n",
       "    }\n",
       "</style>\n",
       "<table border=\"1\" class=\"dataframe\">\n",
       "  <thead>\n",
       "    <tr style=\"text-align: right;\">\n",
       "      <th></th>\n",
       "      <th>snippet</th>\n",
       "      <th>numerics</th>\n",
       "      <th>hastags</th>\n",
       "      <th>stopwords</th>\n",
       "      <th>avg_word</th>\n",
       "      <th>word_count</th>\n",
       "      <th>char_count</th>\n",
       "    </tr>\n",
       "  </thead>\n",
       "  <tbody>\n",
       "    <tr>\n",
       "      <th>2</th>\n",
       "      <td>Amazon.in: Instant Food. ... FREE Delivery ove...</td>\n",
       "      <td>2</td>\n",
       "      <td>0</td>\n",
       "      <td>6</td>\n",
       "      <td>4.576923</td>\n",
       "      <td>26</td>\n",
       "      <td>144</td>\n",
       "    </tr>\n",
       "    <tr>\n",
       "      <th>3</th>\n",
       "      <td>Ready To Eat Meals: Buy Ready to Eat Snacks an...</td>\n",
       "      <td>0</td>\n",
       "      <td>0</td>\n",
       "      <td>3</td>\n",
       "      <td>4.952381</td>\n",
       "      <td>21</td>\n",
       "      <td>124</td>\n",
       "    </tr>\n",
       "    <tr>\n",
       "      <th>4</th>\n",
       "      <td>Just order from our ready to eat food online p...</td>\n",
       "      <td>0</td>\n",
       "      <td>0</td>\n",
       "      <td>11</td>\n",
       "      <td>4.333333</td>\n",
       "      <td>30</td>\n",
       "      <td>159</td>\n",
       "    </tr>\n",
       "    <tr>\n",
       "      <th>5</th>\n",
       "      <td>Be the first to know about exciting new flavor...</td>\n",
       "      <td>0</td>\n",
       "      <td>0</td>\n",
       "      <td>5</td>\n",
       "      <td>4.823529</td>\n",
       "      <td>17</td>\n",
       "      <td>98</td>\n",
       "    </tr>\n",
       "    <tr>\n",
       "      <th>6</th>\n",
       "      <td>Discover a wide range of ready meals, instant ...</td>\n",
       "      <td>0</td>\n",
       "      <td>0</td>\n",
       "      <td>7</td>\n",
       "      <td>5.375000</td>\n",
       "      <td>24</td>\n",
       "      <td>152</td>\n",
       "    </tr>\n",
       "  </tbody>\n",
       "</table>\n",
       "</div>"
      ],
      "text/plain": [
       "                                             snippet  numerics  hastags  \\\n",
       "2  Amazon.in: Instant Food. ... FREE Delivery ove...         2        0   \n",
       "3  Ready To Eat Meals: Buy Ready to Eat Snacks an...         0        0   \n",
       "4  Just order from our ready to eat food online p...         0        0   \n",
       "5  Be the first to know about exciting new flavor...         0        0   \n",
       "6  Discover a wide range of ready meals, instant ...         0        0   \n",
       "\n",
       "   stopwords  avg_word  word_count  char_count  \n",
       "2          6  4.576923          26         144  \n",
       "3          3  4.952381          21         124  \n",
       "4         11  4.333333          30         159  \n",
       "5          5  4.823529          17          98  \n",
       "6          7  5.375000          24         152  "
      ]
     },
     "execution_count": 12,
     "metadata": {},
     "output_type": "execute_result"
    }
   ],
   "source": [
    "text['numerics'] = text['snippet'].apply(lambda x: len([x for x in x.split() if x.isdigit()]))\n",
    "text[['snippet','numerics','hastags','stopwords','avg_word','word_count','char_count']].head()"
   ]
  },
  {
   "cell_type": "markdown",
   "id": "96bbf866",
   "metadata": {},
   "source": [
    "Number of Uppercase words"
   ]
  },
  {
   "cell_type": "code",
   "execution_count": 13,
   "id": "6454b966",
   "metadata": {},
   "outputs": [
    {
     "name": "stderr",
     "output_type": "stream",
     "text": [
      "C:\\Users\\Gazal V\\AppData\\Local\\Temp\\ipykernel_21800\\3533225029.py:1: SettingWithCopyWarning: \n",
      "A value is trying to be set on a copy of a slice from a DataFrame.\n",
      "Try using .loc[row_indexer,col_indexer] = value instead\n",
      "\n",
      "See the caveats in the documentation: https://pandas.pydata.org/pandas-docs/stable/user_guide/indexing.html#returning-a-view-versus-a-copy\n",
      "  text['upper'] = text['snippet'].apply(lambda x: len([x for x in x.split() if x.isupper()]))\n"
     ]
    },
    {
     "data": {
      "text/html": [
       "<div>\n",
       "<style scoped>\n",
       "    .dataframe tbody tr th:only-of-type {\n",
       "        vertical-align: middle;\n",
       "    }\n",
       "\n",
       "    .dataframe tbody tr th {\n",
       "        vertical-align: top;\n",
       "    }\n",
       "\n",
       "    .dataframe thead th {\n",
       "        text-align: right;\n",
       "    }\n",
       "</style>\n",
       "<table border=\"1\" class=\"dataframe\">\n",
       "  <thead>\n",
       "    <tr style=\"text-align: right;\">\n",
       "      <th></th>\n",
       "      <th>snippet</th>\n",
       "      <th>upper</th>\n",
       "      <th>numerics</th>\n",
       "      <th>hastags</th>\n",
       "      <th>stopwords</th>\n",
       "      <th>avg_word</th>\n",
       "      <th>word_count</th>\n",
       "      <th>char_count</th>\n",
       "    </tr>\n",
       "  </thead>\n",
       "  <tbody>\n",
       "    <tr>\n",
       "      <th>2</th>\n",
       "      <td>Amazon.in: Instant Food. ... FREE Delivery ove...</td>\n",
       "      <td>1</td>\n",
       "      <td>2</td>\n",
       "      <td>0</td>\n",
       "      <td>6</td>\n",
       "      <td>4.576923</td>\n",
       "      <td>26</td>\n",
       "      <td>144</td>\n",
       "    </tr>\n",
       "    <tr>\n",
       "      <th>3</th>\n",
       "      <td>Ready To Eat Meals: Buy Ready to Eat Snacks an...</td>\n",
       "      <td>0</td>\n",
       "      <td>0</td>\n",
       "      <td>0</td>\n",
       "      <td>3</td>\n",
       "      <td>4.952381</td>\n",
       "      <td>21</td>\n",
       "      <td>124</td>\n",
       "    </tr>\n",
       "    <tr>\n",
       "      <th>4</th>\n",
       "      <td>Just order from our ready to eat food online p...</td>\n",
       "      <td>0</td>\n",
       "      <td>0</td>\n",
       "      <td>0</td>\n",
       "      <td>11</td>\n",
       "      <td>4.333333</td>\n",
       "      <td>30</td>\n",
       "      <td>159</td>\n",
       "    </tr>\n",
       "    <tr>\n",
       "      <th>5</th>\n",
       "      <td>Be the first to know about exciting new flavor...</td>\n",
       "      <td>0</td>\n",
       "      <td>0</td>\n",
       "      <td>0</td>\n",
       "      <td>5</td>\n",
       "      <td>4.823529</td>\n",
       "      <td>17</td>\n",
       "      <td>98</td>\n",
       "    </tr>\n",
       "    <tr>\n",
       "      <th>6</th>\n",
       "      <td>Discover a wide range of ready meals, instant ...</td>\n",
       "      <td>0</td>\n",
       "      <td>0</td>\n",
       "      <td>0</td>\n",
       "      <td>7</td>\n",
       "      <td>5.375000</td>\n",
       "      <td>24</td>\n",
       "      <td>152</td>\n",
       "    </tr>\n",
       "  </tbody>\n",
       "</table>\n",
       "</div>"
      ],
      "text/plain": [
       "                                             snippet  upper  numerics  \\\n",
       "2  Amazon.in: Instant Food. ... FREE Delivery ove...      1         2   \n",
       "3  Ready To Eat Meals: Buy Ready to Eat Snacks an...      0         0   \n",
       "4  Just order from our ready to eat food online p...      0         0   \n",
       "5  Be the first to know about exciting new flavor...      0         0   \n",
       "6  Discover a wide range of ready meals, instant ...      0         0   \n",
       "\n",
       "   hastags  stopwords  avg_word  word_count  char_count  \n",
       "2        0          6  4.576923          26         144  \n",
       "3        0          3  4.952381          21         124  \n",
       "4        0         11  4.333333          30         159  \n",
       "5        0          5  4.823529          17          98  \n",
       "6        0          7  5.375000          24         152  "
      ]
     },
     "execution_count": 13,
     "metadata": {},
     "output_type": "execute_result"
    }
   ],
   "source": [
    "text['upper'] = text['snippet'].apply(lambda x: len([x for x in x.split() if x.isupper()]))\n",
    "text[['snippet','upper','numerics','hastags','stopwords','avg_word','word_count','char_count']].head()"
   ]
  },
  {
   "cell_type": "markdown",
   "id": "83df9abe",
   "metadata": {},
   "source": [
    "# 2. Basic Pre-processing"
   ]
  },
  {
   "cell_type": "code",
   "execution_count": 14,
   "id": "99081c30",
   "metadata": {},
   "outputs": [
    {
     "name": "stderr",
     "output_type": "stream",
     "text": [
      "C:\\Users\\Gazal V\\AppData\\Local\\Temp\\ipykernel_21800\\2165346652.py:1: SettingWithCopyWarning: \n",
      "A value is trying to be set on a copy of a slice from a DataFrame.\n",
      "Try using .loc[row_indexer,col_indexer] = value instead\n",
      "\n",
      "See the caveats in the documentation: https://pandas.pydata.org/pandas-docs/stable/user_guide/indexing.html#returning-a-view-versus-a-copy\n",
      "  text['snippet'] = text['snippet'].apply(lambda x: \" \".join(x.lower() for x in x.split()))\n"
     ]
    },
    {
     "data": {
      "text/plain": [
       "2    amazon.in: instant food. ... free delivery ove...\n",
       "3    ready to eat meals: buy ready to eat snacks an...\n",
       "4    just order from our ready to eat food online p...\n",
       "5    be the first to know about exciting new flavor...\n",
       "6    discover a wide range of ready meals, instant ...\n",
       "Name: snippet, dtype: object"
      ]
     },
     "execution_count": 14,
     "metadata": {},
     "output_type": "execute_result"
    }
   ],
   "source": [
    "text['snippet'] = text['snippet'].apply(lambda x: \" \".join(x.lower() for x in x.split()))\n",
    "text['snippet'].head()"
   ]
  },
  {
   "cell_type": "markdown",
   "id": "e19df5ea",
   "metadata": {},
   "source": [
    "Removing Punctuation"
   ]
  },
  {
   "cell_type": "code",
   "execution_count": 15,
   "id": "b6cce604",
   "metadata": {},
   "outputs": [
    {
     "name": "stderr",
     "output_type": "stream",
     "text": [
      "C:\\Users\\Gazal V\\AppData\\Local\\Temp\\ipykernel_21800\\1011311796.py:1: FutureWarning: The default value of regex will change from True to False in a future version.\n",
      "  text['snippet'] = text['snippet'].str.replace('[^\\w\\s]','')\n",
      "C:\\Users\\Gazal V\\AppData\\Local\\Temp\\ipykernel_21800\\1011311796.py:1: SettingWithCopyWarning: \n",
      "A value is trying to be set on a copy of a slice from a DataFrame.\n",
      "Try using .loc[row_indexer,col_indexer] = value instead\n",
      "\n",
      "See the caveats in the documentation: https://pandas.pydata.org/pandas-docs/stable/user_guide/indexing.html#returning-a-view-versus-a-copy\n",
      "  text['snippet'] = text['snippet'].str.replace('[^\\w\\s]','')\n"
     ]
    },
    {
     "data": {
      "text/plain": [
       "2    amazonin instant food  free delivery over 499 ...\n",
       "3    ready to eat meals buy ready to eat snacks and...\n",
       "4    just order from our ready to eat food online p...\n",
       "5    be the first to know about exciting new flavor...\n",
       "6    discover a wide range of ready meals instant m...\n",
       "Name: snippet, dtype: object"
      ]
     },
     "execution_count": 15,
     "metadata": {},
     "output_type": "execute_result"
    }
   ],
   "source": [
    "text['snippet'] = text['snippet'].str.replace('[^\\w\\s]','')\n",
    "text['snippet'].head()"
   ]
  },
  {
   "cell_type": "markdown",
   "id": "433ca48a",
   "metadata": {},
   "source": [
    " Removal of Stop Words"
   ]
  },
  {
   "cell_type": "code",
   "execution_count": 16,
   "id": "d7e6bd44",
   "metadata": {},
   "outputs": [
    {
     "name": "stderr",
     "output_type": "stream",
     "text": [
      "C:\\Users\\Gazal V\\AppData\\Local\\Temp\\ipykernel_21800\\2536666901.py:3: SettingWithCopyWarning: \n",
      "A value is trying to be set on a copy of a slice from a DataFrame.\n",
      "Try using .loc[row_indexer,col_indexer] = value instead\n",
      "\n",
      "See the caveats in the documentation: https://pandas.pydata.org/pandas-docs/stable/user_guide/indexing.html#returning-a-view-versus-a-copy\n",
      "  text['snippet'] = text['snippet'].apply(lambda x: \" \".join(x for x in x.split() if x not in stop))\n"
     ]
    },
    {
     "data": {
      "text/plain": [
       "2    amazonin instant food free delivery 499 fulfil...\n",
       "3    ready eat meals buy ready eat snacks meals ind...\n",
       "4    order ready eat food online page bigbasket all...\n",
       "5    first know exciting new flavors offers please ...\n",
       "6    discover wide range ready meals instant mixes ...\n",
       "Name: snippet, dtype: object"
      ]
     },
     "execution_count": 16,
     "metadata": {},
     "output_type": "execute_result"
    }
   ],
   "source": [
    "from nltk.corpus import stopwords\n",
    "stop = stopwords.words('english')\n",
    "text['snippet'] = text['snippet'].apply(lambda x: \" \".join(x for x in x.split() if x not in stop))\n",
    "text['snippet'].head()"
   ]
  },
  {
   "cell_type": "markdown",
   "id": "418d7140",
   "metadata": {},
   "source": [
    "Common word removal"
   ]
  },
  {
   "cell_type": "code",
   "execution_count": 17,
   "id": "70429767",
   "metadata": {},
   "outputs": [
    {
     "data": {
      "text/plain": [
       "instant     125\n",
       "online      108\n",
       "food        105\n",
       "delivery     45\n",
       "noodles      40\n",
       "best         31\n",
       "ready        31\n",
       "products     30\n",
       "buy          29\n",
       "order        29\n",
       "dtype: int64"
      ]
     },
     "execution_count": 17,
     "metadata": {},
     "output_type": "execute_result"
    }
   ],
   "source": [
    "freq = pd.Series(' '.join(text['snippet']).split()).value_counts()[:10]\n",
    "freq"
   ]
  },
  {
   "cell_type": "code",
   "execution_count": 18,
   "id": "bd60398f",
   "metadata": {},
   "outputs": [
    {
     "name": "stderr",
     "output_type": "stream",
     "text": [
      "C:\\Users\\Gazal V\\AppData\\Local\\Temp\\ipykernel_21800\\1702252452.py:2: SettingWithCopyWarning: \n",
      "A value is trying to be set on a copy of a slice from a DataFrame.\n",
      "Try using .loc[row_indexer,col_indexer] = value instead\n",
      "\n",
      "See the caveats in the documentation: https://pandas.pydata.org/pandas-docs/stable/user_guide/indexing.html#returning-a-view-versus-a-copy\n",
      "  text['snippet'] = text['snippet'].apply(lambda x: \" \".join(x for x in x.split() if x not in freq))\n"
     ]
    },
    {
     "data": {
      "text/plain": [
       "2    amazonin free 499 fulfilled amazon fast 2 hour...\n",
       "3    eat meals eat snacks meals indias shopping sto...\n",
       "4    eat page bigbasket allow us cater cravings rig...\n",
       "5    first know exciting new flavors offers please ...\n",
       "6    discover wide range meals mixes gourmet foods ...\n",
       "Name: snippet, dtype: object"
      ]
     },
     "execution_count": 18,
     "metadata": {},
     "output_type": "execute_result"
    }
   ],
   "source": [
    "freq = list(freq.index)\n",
    "text['snippet'] = text['snippet'].apply(lambda x: \" \".join(x for x in x.split() if x not in freq))\n",
    "text['snippet'].head()"
   ]
  },
  {
   "cell_type": "markdown",
   "id": "e9b0acef",
   "metadata": {},
   "source": [
    "Rare words removal"
   ]
  },
  {
   "cell_type": "code",
   "execution_count": 19,
   "id": "01f105fb",
   "metadata": {},
   "outputs": [
    {
     "data": {
      "text/plain": [
       "ragala         1\n",
       "anywhere       1\n",
       "foodssnacks    1\n",
       "jowar          1\n",
       "mild           1\n",
       "weve           1\n",
       "got            1\n",
       "covered        1\n",
       "rs             1\n",
       "within         1\n",
       "dtype: int64"
      ]
     },
     "execution_count": 19,
     "metadata": {},
     "output_type": "execute_result"
    }
   ],
   "source": [
    "freq = pd.Series(' '.join(text['snippet']).split()).value_counts()[-10:]\n",
    "freq"
   ]
  },
  {
   "cell_type": "code",
   "execution_count": 20,
   "id": "169700c5",
   "metadata": {},
   "outputs": [
    {
     "name": "stderr",
     "output_type": "stream",
     "text": [
      "C:\\Users\\Gazal V\\AppData\\Local\\Temp\\ipykernel_21800\\1702252452.py:2: SettingWithCopyWarning: \n",
      "A value is trying to be set on a copy of a slice from a DataFrame.\n",
      "Try using .loc[row_indexer,col_indexer] = value instead\n",
      "\n",
      "See the caveats in the documentation: https://pandas.pydata.org/pandas-docs/stable/user_guide/indexing.html#returning-a-view-versus-a-copy\n",
      "  text['snippet'] = text['snippet'].apply(lambda x: \" \".join(x for x in x.split() if x not in freq))\n"
     ]
    },
    {
     "data": {
      "text/plain": [
       "2    amazonin free 499 fulfilled amazon fast 2 hour...\n",
       "3    eat meals eat snacks meals indias shopping sto...\n",
       "4    eat page bigbasket allow us cater cravings rig...\n",
       "5    first know exciting new flavors offers please ...\n",
       "6    discover wide range meals mixes gourmet foods ...\n",
       "Name: snippet, dtype: object"
      ]
     },
     "execution_count": 20,
     "metadata": {},
     "output_type": "execute_result"
    }
   ],
   "source": [
    "freq = list(freq.index)\n",
    "text['snippet'] = text['snippet'].apply(lambda x: \" \".join(x for x in x.split() if x not in freq))\n",
    "text['snippet'].head()"
   ]
  },
  {
   "cell_type": "markdown",
   "id": "d41346e3",
   "metadata": {},
   "source": [
    "Spelling correction"
   ]
  },
  {
   "cell_type": "code",
   "execution_count": 21,
   "id": "5d7ac5d7",
   "metadata": {},
   "outputs": [
    {
     "name": "stdout",
     "output_type": "stream",
     "text": [
      "Requirement already satisfied: textblob in c:\\users\\gazal v\\anaconda\\lib\\site-packages (0.17.1)\n",
      "Requirement already satisfied: nltk>=3.1 in c:\\users\\gazal v\\anaconda\\lib\\site-packages (from textblob) (3.7)\n",
      "Requirement already satisfied: tqdm in c:\\users\\gazal v\\anaconda\\lib\\site-packages (from nltk>=3.1->textblob) (4.64.1)\n",
      "Requirement already satisfied: regex>=2021.8.3 in c:\\users\\gazal v\\anaconda\\lib\\site-packages (from nltk>=3.1->textblob) (2022.7.9)\n",
      "Requirement already satisfied: click in c:\\users\\gazal v\\anaconda\\lib\\site-packages (from nltk>=3.1->textblob) (8.0.4)\n",
      "Requirement already satisfied: joblib in c:\\users\\gazal v\\anaconda\\lib\\site-packages (from nltk>=3.1->textblob) (1.1.1)\n",
      "Requirement already satisfied: colorama in c:\\users\\gazal v\\anaconda\\lib\\site-packages (from click->nltk>=3.1->textblob) (0.4.6)\n",
      "Note: you may need to restart the kernel to use updated packages.\n"
     ]
    },
    {
     "name": "stderr",
     "output_type": "stream",
     "text": [
      "WARNING: Ignoring invalid distribution -cipy (c:\\users\\gazal v\\anaconda\\lib\\site-packages)\n",
      "WARNING: Ignoring invalid distribution -cipy (c:\\users\\gazal v\\anaconda\\lib\\site-packages)\n",
      "WARNING: Ignoring invalid distribution -cipy (c:\\users\\gazal v\\anaconda\\lib\\site-packages)\n",
      "WARNING: Ignoring invalid distribution -cipy (c:\\users\\gazal v\\anaconda\\lib\\site-packages)\n",
      "WARNING: Ignoring invalid distribution -cipy (c:\\users\\gazal v\\anaconda\\lib\\site-packages)\n",
      "WARNING: Ignoring invalid distribution -cipy (c:\\users\\gazal v\\anaconda\\lib\\site-packages)\n"
     ]
    }
   ],
   "source": [
    "pip install textblob"
   ]
  },
  {
   "cell_type": "code",
   "execution_count": 22,
   "id": "f41d01de",
   "metadata": {},
   "outputs": [],
   "source": [
    "from textblob import TextBlob"
   ]
  },
  {
   "cell_type": "code",
   "execution_count": 23,
   "id": "650abd17",
   "metadata": {},
   "outputs": [
    {
     "data": {
      "text/plain": [
       "2    amazon free 499 fulfilled amazon fast 2 hours ...\n",
       "3    eat meals eat snacks meals indians shopping st...\n",
       "4    eat page bigbasket allow us cater craving righ...\n",
       "5    first know exciting new favors offers please e...\n",
       "6    discover wide range meals miles gourmet foods ...\n",
       "Name: snippet, dtype: object"
      ]
     },
     "execution_count": 23,
     "metadata": {},
     "output_type": "execute_result"
    }
   ],
   "source": [
    "text['snippet'][:5].apply(lambda x: str(TextBlob(x).correct()))"
   ]
  },
  {
   "cell_type": "markdown",
   "id": "58aeb152",
   "metadata": {},
   "source": [
    "Tokenization"
   ]
  },
  {
   "cell_type": "code",
   "execution_count": 24,
   "id": "e518e6bc",
   "metadata": {},
   "outputs": [
    {
     "data": {
      "text/plain": [
       "pandas.core.frame.DataFrame"
      ]
     },
     "execution_count": 24,
     "metadata": {},
     "output_type": "execute_result"
    }
   ],
   "source": [
    "type(text)"
   ]
  },
  {
   "cell_type": "code",
   "execution_count": 25,
   "id": "d7ede120",
   "metadata": {},
   "outputs": [],
   "source": [
    "Text = text['snippet']"
   ]
  },
  {
   "cell_type": "code",
   "execution_count": 26,
   "id": "16fc2330",
   "metadata": {},
   "outputs": [
    {
     "data": {
      "text/plain": [
       "2    [amazonin, free, 499, fulfilled, amazon, fast,...\n",
       "3    [eat, meals, eat, snacks, meals, indias, shopp...\n",
       "4    [eat, page, bigbasket, allow, us, cater, cravi...\n",
       "5    [first, know, exciting, new, flavors, offers, ...\n",
       "6    [discover, wide, range, meals, mixes, gourmet,...\n",
       "Name: snippet, dtype: object"
      ]
     },
     "execution_count": 26,
     "metadata": {},
     "output_type": "execute_result"
    }
   ],
   "source": [
    "from nltk.tokenize import word_tokenize\n",
    "Text = Text.apply(word_tokenize)\n",
    "Text.head()"
   ]
  },
  {
   "cell_type": "code",
   "execution_count": 27,
   "id": "e3fc0f50",
   "metadata": {},
   "outputs": [],
   "source": [
    "#TextBlob(text['snippet'][1]).words"
   ]
  },
  {
   "cell_type": "markdown",
   "id": "ba4f6bef",
   "metadata": {},
   "source": [
    "Stemming"
   ]
  },
  {
   "cell_type": "code",
   "execution_count": 28,
   "id": "4f46e44f",
   "metadata": {},
   "outputs": [
    {
     "data": {
      "text/plain": [
       "2    amazonin free 499 fulfil amazon fast 2 hour or...\n",
       "3    eat meal eat snack meal india shop store genui...\n",
       "4    eat page bigbasket allow us cater crave right ...\n",
       "5    first know excit new flavor offer pleas enter ...\n",
       "6    discov wide rang meal mix gourmet food mirchic...\n",
       "Name: snippet, dtype: object"
      ]
     },
     "execution_count": 28,
     "metadata": {},
     "output_type": "execute_result"
    }
   ],
   "source": [
    "from nltk.stem import PorterStemmer\n",
    "st = PorterStemmer()\n",
    "text['snippet'][:5].apply(lambda x: \" \".join([st.stem(word) for word in x.split()]))"
   ]
  },
  {
   "cell_type": "markdown",
   "id": "3338a6bc",
   "metadata": {},
   "source": [
    " Lemmatization"
   ]
  },
  {
   "cell_type": "code",
   "execution_count": 29,
   "id": "7161f9e4",
   "metadata": {},
   "outputs": [
    {
     "name": "stderr",
     "output_type": "stream",
     "text": [
      "C:\\Users\\Gazal V\\AppData\\Local\\Temp\\ipykernel_21800\\192768673.py:2: SettingWithCopyWarning: \n",
      "A value is trying to be set on a copy of a slice from a DataFrame.\n",
      "Try using .loc[row_indexer,col_indexer] = value instead\n",
      "\n",
      "See the caveats in the documentation: https://pandas.pydata.org/pandas-docs/stable/user_guide/indexing.html#returning-a-view-versus-a-copy\n",
      "  text['snippet'] = text['snippet'].apply(lambda x: \" \".join([Word(word).lemmatize() for word in x.split()]))\n"
     ]
    },
    {
     "data": {
      "text/plain": [
       "2    amazonin free 499 fulfilled amazon fast 2 hour...\n",
       "3    eat meal eat snack meal india shopping store g...\n",
       "4    eat page bigbasket allow u cater craving right...\n",
       "5    first know exciting new flavor offer please en...\n",
       "6    discover wide range meal mix gourmet food mirc...\n",
       "Name: snippet, dtype: object"
      ]
     },
     "execution_count": 29,
     "metadata": {},
     "output_type": "execute_result"
    }
   ],
   "source": [
    "from textblob import Word\n",
    "text['snippet'] = text['snippet'].apply(lambda x: \" \".join([Word(word).lemmatize() for word in x.split()]))\n",
    "text['snippet'].head()"
   ]
  },
  {
   "cell_type": "markdown",
   "id": "e1139b77",
   "metadata": {},
   "source": [
    "# Advance Text Processing"
   ]
  },
  {
   "cell_type": "markdown",
   "id": "ad77b90c",
   "metadata": {},
   "source": [
    "N-grams"
   ]
  },
  {
   "cell_type": "code",
   "execution_count": 30,
   "id": "ed386b54",
   "metadata": {},
   "outputs": [
    {
     "data": {
      "text/html": [
       "<div>\n",
       "<style scoped>\n",
       "    .dataframe tbody tr th:only-of-type {\n",
       "        vertical-align: middle;\n",
       "    }\n",
       "\n",
       "    .dataframe tbody tr th {\n",
       "        vertical-align: top;\n",
       "    }\n",
       "\n",
       "    .dataframe thead th {\n",
       "        text-align: right;\n",
       "    }\n",
       "</style>\n",
       "<table border=\"1\" class=\"dataframe\">\n",
       "  <thead>\n",
       "    <tr style=\"text-align: right;\">\n",
       "      <th></th>\n",
       "      <th>snippet</th>\n",
       "      <th>word_count</th>\n",
       "      <th>char_count</th>\n",
       "      <th>avg_word</th>\n",
       "      <th>stopwords</th>\n",
       "      <th>hastags</th>\n",
       "      <th>numerics</th>\n",
       "      <th>upper</th>\n",
       "    </tr>\n",
       "  </thead>\n",
       "  <tbody>\n",
       "    <tr>\n",
       "      <th>2</th>\n",
       "      <td>amazonin free 499 fulfilled amazon fast 2 hour...</td>\n",
       "      <td>26</td>\n",
       "      <td>144</td>\n",
       "      <td>4.576923</td>\n",
       "      <td>6</td>\n",
       "      <td>0</td>\n",
       "      <td>2</td>\n",
       "      <td>1</td>\n",
       "    </tr>\n",
       "    <tr>\n",
       "      <th>3</th>\n",
       "      <td>eat meal eat snack meal india shopping store g...</td>\n",
       "      <td>21</td>\n",
       "      <td>124</td>\n",
       "      <td>4.952381</td>\n",
       "      <td>3</td>\n",
       "      <td>0</td>\n",
       "      <td>0</td>\n",
       "      <td>0</td>\n",
       "    </tr>\n",
       "    <tr>\n",
       "      <th>4</th>\n",
       "      <td>eat page bigbasket allow u cater craving right...</td>\n",
       "      <td>30</td>\n",
       "      <td>159</td>\n",
       "      <td>4.333333</td>\n",
       "      <td>11</td>\n",
       "      <td>0</td>\n",
       "      <td>0</td>\n",
       "      <td>0</td>\n",
       "    </tr>\n",
       "    <tr>\n",
       "      <th>5</th>\n",
       "      <td>first know exciting new flavor offer please en...</td>\n",
       "      <td>17</td>\n",
       "      <td>98</td>\n",
       "      <td>4.823529</td>\n",
       "      <td>5</td>\n",
       "      <td>0</td>\n",
       "      <td>0</td>\n",
       "      <td>0</td>\n",
       "    </tr>\n",
       "    <tr>\n",
       "      <th>6</th>\n",
       "      <td>discover wide range meal mix gourmet food mirc...</td>\n",
       "      <td>24</td>\n",
       "      <td>152</td>\n",
       "      <td>5.375000</td>\n",
       "      <td>7</td>\n",
       "      <td>0</td>\n",
       "      <td>0</td>\n",
       "      <td>0</td>\n",
       "    </tr>\n",
       "  </tbody>\n",
       "</table>\n",
       "</div>"
      ],
      "text/plain": [
       "                                             snippet  word_count  char_count  \\\n",
       "2  amazonin free 499 fulfilled amazon fast 2 hour...          26         144   \n",
       "3  eat meal eat snack meal india shopping store g...          21         124   \n",
       "4  eat page bigbasket allow u cater craving right...          30         159   \n",
       "5  first know exciting new flavor offer please en...          17          98   \n",
       "6  discover wide range meal mix gourmet food mirc...          24         152   \n",
       "\n",
       "   avg_word  stopwords  hastags  numerics  upper  \n",
       "2  4.576923          6        0         2      1  \n",
       "3  4.952381          3        0         0      0  \n",
       "4  4.333333         11        0         0      0  \n",
       "5  4.823529          5        0         0      0  \n",
       "6  5.375000          7        0         0      0  "
      ]
     },
     "execution_count": 30,
     "metadata": {},
     "output_type": "execute_result"
    }
   ],
   "source": [
    "text.head()"
   ]
  },
  {
   "cell_type": "code",
   "execution_count": 31,
   "id": "c6a7d16a",
   "metadata": {},
   "outputs": [],
   "source": [
    "from nltk import ngrams"
   ]
  },
  {
   "cell_type": "code",
   "execution_count": 32,
   "id": "743227c8",
   "metadata": {},
   "outputs": [],
   "source": [
    "ngram_text = text['snippet'][:5].apply(lambda x: str(TextBlob(x).correct()))"
   ]
  },
  {
   "cell_type": "code",
   "execution_count": 33,
   "id": "ae0bd360",
   "metadata": {},
   "outputs": [
    {
     "data": {
      "text/plain": [
       "2    amazon free 499 fulfilled amazon fast 2 hour o...\n",
       "3    eat meal eat snack meal india shopping store g...\n",
       "4    eat page bigbasket allow u cater craving right...\n",
       "5    first know exciting new flavor offer please en...\n",
       "6    discover wide range meal mix gourmet food mirc...\n",
       "Name: snippet, dtype: object"
      ]
     },
     "execution_count": 33,
     "metadata": {},
     "output_type": "execute_result"
    }
   ],
   "source": [
    "ngram_text"
   ]
  },
  {
   "cell_type": "code",
   "execution_count": 34,
   "id": "612e5202",
   "metadata": {},
   "outputs": [],
   "source": [
    "#ngram_text.values.tolist()"
   ]
  },
  {
   "cell_type": "code",
   "execution_count": 35,
   "id": "601dbe9d",
   "metadata": {},
   "outputs": [],
   "source": [
    "# = ' '.join([str(elem) for elem in ngram_text])"
   ]
  },
  {
   "cell_type": "code",
   "execution_count": 36,
   "id": "87c976e3",
   "metadata": {},
   "outputs": [],
   "source": [
    "#print(listToStr)"
   ]
  },
  {
   "cell_type": "code",
   "execution_count": 37,
   "id": "c4d0a784",
   "metadata": {},
   "outputs": [
    {
     "ename": "AttributeError",
     "evalue": "'Series' object has no attribute 'ngrams'",
     "output_type": "error",
     "traceback": [
      "\u001b[1;31m---------------------------------------------------------------------------\u001b[0m",
      "\u001b[1;31mAttributeError\u001b[0m                            Traceback (most recent call last)",
      "Cell \u001b[1;32mIn[37], line 1\u001b[0m\n\u001b[1;32m----> 1\u001b[0m ngrams\u001b[38;5;241m=\u001b[39m \u001b[43mngram_text\u001b[49m\u001b[38;5;241;43m.\u001b[39;49m\u001b[43mngrams\u001b[49m(n\u001b[38;5;241m=\u001b[39m\u001b[38;5;241m2\u001b[39m)\n",
      "File \u001b[1;32m~\\Anaconda\\lib\\site-packages\\pandas\\core\\generic.py:5902\u001b[0m, in \u001b[0;36mNDFrame.__getattr__\u001b[1;34m(self, name)\u001b[0m\n\u001b[0;32m   5895\u001b[0m \u001b[38;5;28;01mif\u001b[39;00m (\n\u001b[0;32m   5896\u001b[0m     name \u001b[38;5;129;01mnot\u001b[39;00m \u001b[38;5;129;01min\u001b[39;00m \u001b[38;5;28mself\u001b[39m\u001b[38;5;241m.\u001b[39m_internal_names_set\n\u001b[0;32m   5897\u001b[0m     \u001b[38;5;129;01mand\u001b[39;00m name \u001b[38;5;129;01mnot\u001b[39;00m \u001b[38;5;129;01min\u001b[39;00m \u001b[38;5;28mself\u001b[39m\u001b[38;5;241m.\u001b[39m_metadata\n\u001b[0;32m   5898\u001b[0m     \u001b[38;5;129;01mand\u001b[39;00m name \u001b[38;5;129;01mnot\u001b[39;00m \u001b[38;5;129;01min\u001b[39;00m \u001b[38;5;28mself\u001b[39m\u001b[38;5;241m.\u001b[39m_accessors\n\u001b[0;32m   5899\u001b[0m     \u001b[38;5;129;01mand\u001b[39;00m \u001b[38;5;28mself\u001b[39m\u001b[38;5;241m.\u001b[39m_info_axis\u001b[38;5;241m.\u001b[39m_can_hold_identifiers_and_holds_name(name)\n\u001b[0;32m   5900\u001b[0m ):\n\u001b[0;32m   5901\u001b[0m     \u001b[38;5;28;01mreturn\u001b[39;00m \u001b[38;5;28mself\u001b[39m[name]\n\u001b[1;32m-> 5902\u001b[0m \u001b[38;5;28;01mreturn\u001b[39;00m \u001b[38;5;28;43mobject\u001b[39;49m\u001b[38;5;241;43m.\u001b[39;49m\u001b[38;5;21;43m__getattribute__\u001b[39;49m\u001b[43m(\u001b[49m\u001b[38;5;28;43mself\u001b[39;49m\u001b[43m,\u001b[49m\u001b[43m \u001b[49m\u001b[43mname\u001b[49m\u001b[43m)\u001b[49m\n",
      "\u001b[1;31mAttributeError\u001b[0m: 'Series' object has no attribute 'ngrams'"
     ]
    }
   ],
   "source": [
    "ngrams= ngram_text.ngrams(n=2)"
   ]
  },
  {
   "cell_type": "code",
   "execution_count": null,
   "id": "3b05439f",
   "metadata": {},
   "outputs": [],
   "source": [
    "#print(ngram_text)"
   ]
  },
  {
   "cell_type": "code",
   "execution_count": 38,
   "id": "4b89e54e",
   "metadata": {},
   "outputs": [
    {
     "ename": "KeyError",
     "evalue": "0",
     "output_type": "error",
     "traceback": [
      "\u001b[1;31m---------------------------------------------------------------------------\u001b[0m",
      "\u001b[1;31mKeyError\u001b[0m                                  Traceback (most recent call last)",
      "File \u001b[1;32m~\\Anaconda\\lib\\site-packages\\pandas\\core\\indexes\\base.py:3802\u001b[0m, in \u001b[0;36mIndex.get_loc\u001b[1;34m(self, key, method, tolerance)\u001b[0m\n\u001b[0;32m   3801\u001b[0m \u001b[38;5;28;01mtry\u001b[39;00m:\n\u001b[1;32m-> 3802\u001b[0m     \u001b[38;5;28;01mreturn\u001b[39;00m \u001b[38;5;28;43mself\u001b[39;49m\u001b[38;5;241;43m.\u001b[39;49m\u001b[43m_engine\u001b[49m\u001b[38;5;241;43m.\u001b[39;49m\u001b[43mget_loc\u001b[49m\u001b[43m(\u001b[49m\u001b[43mcasted_key\u001b[49m\u001b[43m)\u001b[49m\n\u001b[0;32m   3803\u001b[0m \u001b[38;5;28;01mexcept\u001b[39;00m \u001b[38;5;167;01mKeyError\u001b[39;00m \u001b[38;5;28;01mas\u001b[39;00m err:\n",
      "File \u001b[1;32m~\\Anaconda\\lib\\site-packages\\pandas\\_libs\\index.pyx:138\u001b[0m, in \u001b[0;36mpandas._libs.index.IndexEngine.get_loc\u001b[1;34m()\u001b[0m\n",
      "File \u001b[1;32m~\\Anaconda\\lib\\site-packages\\pandas\\_libs\\index.pyx:165\u001b[0m, in \u001b[0;36mpandas._libs.index.IndexEngine.get_loc\u001b[1;34m()\u001b[0m\n",
      "File \u001b[1;32mpandas\\_libs\\hashtable_class_helper.pxi:2263\u001b[0m, in \u001b[0;36mpandas._libs.hashtable.Int64HashTable.get_item\u001b[1;34m()\u001b[0m\n",
      "File \u001b[1;32mpandas\\_libs\\hashtable_class_helper.pxi:2273\u001b[0m, in \u001b[0;36mpandas._libs.hashtable.Int64HashTable.get_item\u001b[1;34m()\u001b[0m\n",
      "\u001b[1;31mKeyError\u001b[0m: 0",
      "\nThe above exception was the direct cause of the following exception:\n",
      "\u001b[1;31mKeyError\u001b[0m                                  Traceback (most recent call last)",
      "Cell \u001b[1;32mIn[38], line 1\u001b[0m\n\u001b[1;32m----> 1\u001b[0m TextBlob(\u001b[43mtext\u001b[49m\u001b[43m[\u001b[49m\u001b[38;5;124;43m'\u001b[39;49m\u001b[38;5;124;43msnippet\u001b[39;49m\u001b[38;5;124;43m'\u001b[39;49m\u001b[43m]\u001b[49m\u001b[43m[\u001b[49m\u001b[38;5;241;43m0\u001b[39;49m\u001b[43m]\u001b[49m)\u001b[38;5;241m.\u001b[39mngrams(n\u001b[38;5;241m=\u001b[39m\u001b[38;5;241m2\u001b[39m)\n",
      "File \u001b[1;32m~\\Anaconda\\lib\\site-packages\\pandas\\core\\series.py:981\u001b[0m, in \u001b[0;36mSeries.__getitem__\u001b[1;34m(self, key)\u001b[0m\n\u001b[0;32m    978\u001b[0m     \u001b[38;5;28;01mreturn\u001b[39;00m \u001b[38;5;28mself\u001b[39m\u001b[38;5;241m.\u001b[39m_values[key]\n\u001b[0;32m    980\u001b[0m \u001b[38;5;28;01melif\u001b[39;00m key_is_scalar:\n\u001b[1;32m--> 981\u001b[0m     \u001b[38;5;28;01mreturn\u001b[39;00m \u001b[38;5;28;43mself\u001b[39;49m\u001b[38;5;241;43m.\u001b[39;49m\u001b[43m_get_value\u001b[49m\u001b[43m(\u001b[49m\u001b[43mkey\u001b[49m\u001b[43m)\u001b[49m\n\u001b[0;32m    983\u001b[0m \u001b[38;5;28;01mif\u001b[39;00m is_hashable(key):\n\u001b[0;32m    984\u001b[0m     \u001b[38;5;66;03m# Otherwise index.get_value will raise InvalidIndexError\u001b[39;00m\n\u001b[0;32m    985\u001b[0m     \u001b[38;5;28;01mtry\u001b[39;00m:\n\u001b[0;32m    986\u001b[0m         \u001b[38;5;66;03m# For labels that don't resolve as scalars like tuples and frozensets\u001b[39;00m\n",
      "File \u001b[1;32m~\\Anaconda\\lib\\site-packages\\pandas\\core\\series.py:1089\u001b[0m, in \u001b[0;36mSeries._get_value\u001b[1;34m(self, label, takeable)\u001b[0m\n\u001b[0;32m   1086\u001b[0m     \u001b[38;5;28;01mreturn\u001b[39;00m \u001b[38;5;28mself\u001b[39m\u001b[38;5;241m.\u001b[39m_values[label]\n\u001b[0;32m   1088\u001b[0m \u001b[38;5;66;03m# Similar to Index.get_value, but we do not fall back to positional\u001b[39;00m\n\u001b[1;32m-> 1089\u001b[0m loc \u001b[38;5;241m=\u001b[39m \u001b[38;5;28;43mself\u001b[39;49m\u001b[38;5;241;43m.\u001b[39;49m\u001b[43mindex\u001b[49m\u001b[38;5;241;43m.\u001b[39;49m\u001b[43mget_loc\u001b[49m\u001b[43m(\u001b[49m\u001b[43mlabel\u001b[49m\u001b[43m)\u001b[49m\n\u001b[0;32m   1090\u001b[0m \u001b[38;5;28;01mreturn\u001b[39;00m \u001b[38;5;28mself\u001b[39m\u001b[38;5;241m.\u001b[39mindex\u001b[38;5;241m.\u001b[39m_get_values_for_loc(\u001b[38;5;28mself\u001b[39m, loc, label)\n",
      "File \u001b[1;32m~\\Anaconda\\lib\\site-packages\\pandas\\core\\indexes\\base.py:3804\u001b[0m, in \u001b[0;36mIndex.get_loc\u001b[1;34m(self, key, method, tolerance)\u001b[0m\n\u001b[0;32m   3802\u001b[0m     \u001b[38;5;28;01mreturn\u001b[39;00m \u001b[38;5;28mself\u001b[39m\u001b[38;5;241m.\u001b[39m_engine\u001b[38;5;241m.\u001b[39mget_loc(casted_key)\n\u001b[0;32m   3803\u001b[0m \u001b[38;5;28;01mexcept\u001b[39;00m \u001b[38;5;167;01mKeyError\u001b[39;00m \u001b[38;5;28;01mas\u001b[39;00m err:\n\u001b[1;32m-> 3804\u001b[0m     \u001b[38;5;28;01mraise\u001b[39;00m \u001b[38;5;167;01mKeyError\u001b[39;00m(key) \u001b[38;5;28;01mfrom\u001b[39;00m \u001b[38;5;21;01merr\u001b[39;00m\n\u001b[0;32m   3805\u001b[0m \u001b[38;5;28;01mexcept\u001b[39;00m \u001b[38;5;167;01mTypeError\u001b[39;00m:\n\u001b[0;32m   3806\u001b[0m     \u001b[38;5;66;03m# If we have a listlike key, _check_indexing_error will raise\u001b[39;00m\n\u001b[0;32m   3807\u001b[0m     \u001b[38;5;66;03m#  InvalidIndexError. Otherwise we fall through and re-raise\u001b[39;00m\n\u001b[0;32m   3808\u001b[0m     \u001b[38;5;66;03m#  the TypeError.\u001b[39;00m\n\u001b[0;32m   3809\u001b[0m     \u001b[38;5;28mself\u001b[39m\u001b[38;5;241m.\u001b[39m_check_indexing_error(key)\n",
      "\u001b[1;31mKeyError\u001b[0m: 0"
     ]
    }
   ],
   "source": [
    "TextBlob(text['snippet'][0]).ngrams(n=2)"
   ]
  },
  {
   "cell_type": "markdown",
   "id": "9113ff6e",
   "metadata": {},
   "source": [
    "Term frequency"
   ]
  },
  {
   "cell_type": "code",
   "execution_count": 39,
   "id": "86f67bb4",
   "metadata": {},
   "outputs": [
    {
     "data": {
      "text/html": [
       "<div>\n",
       "<style scoped>\n",
       "    .dataframe tbody tr th:only-of-type {\n",
       "        vertical-align: middle;\n",
       "    }\n",
       "\n",
       "    .dataframe tbody tr th {\n",
       "        vertical-align: top;\n",
       "    }\n",
       "\n",
       "    .dataframe thead th {\n",
       "        text-align: right;\n",
       "    }\n",
       "</style>\n",
       "<table border=\"1\" class=\"dataframe\">\n",
       "  <thead>\n",
       "    <tr style=\"text-align: right;\">\n",
       "      <th></th>\n",
       "      <th>words</th>\n",
       "      <th>tf</th>\n",
       "    </tr>\n",
       "  </thead>\n",
       "  <tbody>\n",
       "    <tr>\n",
       "      <th>0</th>\n",
       "      <td>eat</td>\n",
       "      <td>2</td>\n",
       "    </tr>\n",
       "    <tr>\n",
       "      <th>1</th>\n",
       "      <td>meal</td>\n",
       "      <td>2</td>\n",
       "    </tr>\n",
       "    <tr>\n",
       "      <th>2</th>\n",
       "      <td>snack</td>\n",
       "      <td>1</td>\n",
       "    </tr>\n",
       "    <tr>\n",
       "      <th>3</th>\n",
       "      <td>india</td>\n",
       "      <td>1</td>\n",
       "    </tr>\n",
       "    <tr>\n",
       "      <th>4</th>\n",
       "      <td>shopping</td>\n",
       "      <td>1</td>\n",
       "    </tr>\n",
       "    <tr>\n",
       "      <th>5</th>\n",
       "      <td>store</td>\n",
       "      <td>1</td>\n",
       "    </tr>\n",
       "    <tr>\n",
       "      <th>6</th>\n",
       "      <td>genuine</td>\n",
       "      <td>1</td>\n",
       "    </tr>\n",
       "    <tr>\n",
       "      <th>7</th>\n",
       "      <td>offer</td>\n",
       "      <td>1</td>\n",
       "    </tr>\n",
       "  </tbody>\n",
       "</table>\n",
       "</div>"
      ],
      "text/plain": [
       "      words  tf\n",
       "0       eat   2\n",
       "1      meal   2\n",
       "2     snack   1\n",
       "3     india   1\n",
       "4  shopping   1\n",
       "5     store   1\n",
       "6   genuine   1\n",
       "7     offer   1"
      ]
     },
     "execution_count": 39,
     "metadata": {},
     "output_type": "execute_result"
    }
   ],
   "source": [
    "tf1 = (text['snippet'][1:2]).apply(lambda x: pd.value_counts(x.split(\" \"))).sum(axis = 0).reset_index()\n",
    "tf1.columns = ['words','tf']\n",
    "tf1"
   ]
  },
  {
   "cell_type": "markdown",
   "id": "df8c229d",
   "metadata": {},
   "source": [
    "Inverse Document Frequency"
   ]
  },
  {
   "cell_type": "code",
   "execution_count": 40,
   "id": "63b56475",
   "metadata": {},
   "outputs": [
    {
     "data": {
      "text/html": [
       "<div>\n",
       "<style scoped>\n",
       "    .dataframe tbody tr th:only-of-type {\n",
       "        vertical-align: middle;\n",
       "    }\n",
       "\n",
       "    .dataframe tbody tr th {\n",
       "        vertical-align: top;\n",
       "    }\n",
       "\n",
       "    .dataframe thead th {\n",
       "        text-align: right;\n",
       "    }\n",
       "</style>\n",
       "<table border=\"1\" class=\"dataframe\">\n",
       "  <thead>\n",
       "    <tr style=\"text-align: right;\">\n",
       "      <th></th>\n",
       "      <th>words</th>\n",
       "      <th>tf</th>\n",
       "      <th>idf</th>\n",
       "    </tr>\n",
       "  </thead>\n",
       "  <tbody>\n",
       "    <tr>\n",
       "      <th>0</th>\n",
       "      <td>eat</td>\n",
       "      <td>2</td>\n",
       "      <td>1.456164</td>\n",
       "    </tr>\n",
       "    <tr>\n",
       "      <th>1</th>\n",
       "      <td>meal</td>\n",
       "      <td>2</td>\n",
       "      <td>1.726454</td>\n",
       "    </tr>\n",
       "    <tr>\n",
       "      <th>2</th>\n",
       "      <td>snack</td>\n",
       "      <td>1</td>\n",
       "      <td>2.321161</td>\n",
       "    </tr>\n",
       "    <tr>\n",
       "      <th>3</th>\n",
       "      <td>india</td>\n",
       "      <td>1</td>\n",
       "      <td>1.797913</td>\n",
       "    </tr>\n",
       "    <tr>\n",
       "      <th>4</th>\n",
       "      <td>shopping</td>\n",
       "      <td>1</td>\n",
       "      <td>3.147840</td>\n",
       "    </tr>\n",
       "    <tr>\n",
       "      <th>5</th>\n",
       "      <td>store</td>\n",
       "      <td>1</td>\n",
       "      <td>2.149311</td>\n",
       "    </tr>\n",
       "    <tr>\n",
       "      <th>6</th>\n",
       "      <td>genuine</td>\n",
       "      <td>1</td>\n",
       "      <td>5.093750</td>\n",
       "    </tr>\n",
       "    <tr>\n",
       "      <th>7</th>\n",
       "      <td>offer</td>\n",
       "      <td>1</td>\n",
       "      <td>2.385700</td>\n",
       "    </tr>\n",
       "  </tbody>\n",
       "</table>\n",
       "</div>"
      ],
      "text/plain": [
       "      words  tf       idf\n",
       "0       eat   2  1.456164\n",
       "1      meal   2  1.726454\n",
       "2     snack   1  2.321161\n",
       "3     india   1  1.797913\n",
       "4  shopping   1  3.147840\n",
       "5     store   1  2.149311\n",
       "6   genuine   1  5.093750\n",
       "7     offer   1  2.385700"
      ]
     },
     "execution_count": 40,
     "metadata": {},
     "output_type": "execute_result"
    }
   ],
   "source": [
    "for i,word in enumerate(tf1['words']):\n",
    "  tf1.loc[i, 'idf'] = np.log(text.shape[0]/(len(text[text['snippet'].str.contains(word)])))\n",
    "\n",
    "tf1"
   ]
  },
  {
   "cell_type": "markdown",
   "id": "baaac71c",
   "metadata": {},
   "source": [
    "Term Frequency – Inverse Document Frequency (TF-IDF)"
   ]
  },
  {
   "cell_type": "code",
   "execution_count": 41,
   "id": "ae60b3a6",
   "metadata": {},
   "outputs": [
    {
     "data": {
      "text/html": [
       "<div>\n",
       "<style scoped>\n",
       "    .dataframe tbody tr th:only-of-type {\n",
       "        vertical-align: middle;\n",
       "    }\n",
       "\n",
       "    .dataframe tbody tr th {\n",
       "        vertical-align: top;\n",
       "    }\n",
       "\n",
       "    .dataframe thead th {\n",
       "        text-align: right;\n",
       "    }\n",
       "</style>\n",
       "<table border=\"1\" class=\"dataframe\">\n",
       "  <thead>\n",
       "    <tr style=\"text-align: right;\">\n",
       "      <th></th>\n",
       "      <th>words</th>\n",
       "      <th>tf</th>\n",
       "      <th>idf</th>\n",
       "      <th>tfidf</th>\n",
       "    </tr>\n",
       "  </thead>\n",
       "  <tbody>\n",
       "    <tr>\n",
       "      <th>0</th>\n",
       "      <td>eat</td>\n",
       "      <td>2</td>\n",
       "      <td>1.456164</td>\n",
       "      <td>2.912328</td>\n",
       "    </tr>\n",
       "    <tr>\n",
       "      <th>1</th>\n",
       "      <td>meal</td>\n",
       "      <td>2</td>\n",
       "      <td>1.726454</td>\n",
       "      <td>3.452909</td>\n",
       "    </tr>\n",
       "    <tr>\n",
       "      <th>2</th>\n",
       "      <td>snack</td>\n",
       "      <td>1</td>\n",
       "      <td>2.321161</td>\n",
       "      <td>2.321161</td>\n",
       "    </tr>\n",
       "    <tr>\n",
       "      <th>3</th>\n",
       "      <td>india</td>\n",
       "      <td>1</td>\n",
       "      <td>1.797913</td>\n",
       "      <td>1.797913</td>\n",
       "    </tr>\n",
       "    <tr>\n",
       "      <th>4</th>\n",
       "      <td>shopping</td>\n",
       "      <td>1</td>\n",
       "      <td>3.147840</td>\n",
       "      <td>3.147840</td>\n",
       "    </tr>\n",
       "    <tr>\n",
       "      <th>5</th>\n",
       "      <td>store</td>\n",
       "      <td>1</td>\n",
       "      <td>2.149311</td>\n",
       "      <td>2.149311</td>\n",
       "    </tr>\n",
       "    <tr>\n",
       "      <th>6</th>\n",
       "      <td>genuine</td>\n",
       "      <td>1</td>\n",
       "      <td>5.093750</td>\n",
       "      <td>5.093750</td>\n",
       "    </tr>\n",
       "    <tr>\n",
       "      <th>7</th>\n",
       "      <td>offer</td>\n",
       "      <td>1</td>\n",
       "      <td>2.385700</td>\n",
       "      <td>2.385700</td>\n",
       "    </tr>\n",
       "  </tbody>\n",
       "</table>\n",
       "</div>"
      ],
      "text/plain": [
       "      words  tf       idf     tfidf\n",
       "0       eat   2  1.456164  2.912328\n",
       "1      meal   2  1.726454  3.452909\n",
       "2     snack   1  2.321161  2.321161\n",
       "3     india   1  1.797913  1.797913\n",
       "4  shopping   1  3.147840  3.147840\n",
       "5     store   1  2.149311  2.149311\n",
       "6   genuine   1  5.093750  5.093750\n",
       "7     offer   1  2.385700  2.385700"
      ]
     },
     "execution_count": 41,
     "metadata": {},
     "output_type": "execute_result"
    }
   ],
   "source": [
    "tf1['tfidf'] = tf1['tf'] * tf1['idf']\n",
    "tf1"
   ]
  },
  {
   "cell_type": "code",
   "execution_count": 42,
   "id": "254c1d64",
   "metadata": {},
   "outputs": [
    {
     "data": {
      "text/plain": [
       "<163x981 sparse matrix of type '<class 'numpy.float64'>'\n",
       "\twith 1850 stored elements in Compressed Sparse Row format>"
      ]
     },
     "execution_count": 42,
     "metadata": {},
     "output_type": "execute_result"
    }
   ],
   "source": [
    "from sklearn.feature_extraction.text import TfidfVectorizer\n",
    "tfidf = TfidfVectorizer(max_features=1000, lowercase=True, analyzer='word',\n",
    " stop_words= 'english',ngram_range=(1,1))\n",
    "train_vect = tfidf.fit_transform(text['snippet'])\n",
    "\n",
    "train_vect"
   ]
  },
  {
   "cell_type": "markdown",
   "id": "e6d10aff",
   "metadata": {},
   "source": [
    "Bag of Words"
   ]
  },
  {
   "cell_type": "code",
   "execution_count": 43,
   "id": "522f217c",
   "metadata": {},
   "outputs": [
    {
     "data": {
      "text/plain": [
       "<163x1000 sparse matrix of type '<class 'numpy.int64'>'\n",
       "\twith 1930 stored elements in Compressed Sparse Row format>"
      ]
     },
     "execution_count": 43,
     "metadata": {},
     "output_type": "execute_result"
    }
   ],
   "source": [
    "from sklearn.feature_extraction.text import CountVectorizer\n",
    "bow = CountVectorizer(max_features=1000, lowercase=True, ngram_range=(1,1),analyzer = \"word\")\n",
    "train_bow = bow.fit_transform(text['snippet'])\n",
    "train_bow"
   ]
  },
  {
   "cell_type": "markdown",
   "id": "c725b43e",
   "metadata": {},
   "source": [
    "Sentiment Analysis"
   ]
  },
  {
   "cell_type": "code",
   "execution_count": 44,
   "id": "75174fc0",
   "metadata": {},
   "outputs": [
    {
     "data": {
      "text/plain": [
       "2    (0.30000000000000004, 0.6333333333333333)\n",
       "3                                   (0.4, 0.5)\n",
       "4    (0.31785714285714284, 0.5428571428571429)\n",
       "5     (0.2287878787878788, 0.5292929292929293)\n",
       "6                    (0.4083333333333333, 0.6)\n",
       "Name: snippet, dtype: object"
      ]
     },
     "execution_count": 44,
     "metadata": {},
     "output_type": "execute_result"
    }
   ],
   "source": [
    "text['snippet'][:5].apply(lambda x: TextBlob(x).sentiment)"
   ]
  },
  {
   "cell_type": "code",
   "execution_count": 45,
   "id": "183946ce",
   "metadata": {},
   "outputs": [
    {
     "name": "stderr",
     "output_type": "stream",
     "text": [
      "C:\\Users\\Gazal V\\AppData\\Local\\Temp\\ipykernel_21800\\1089723495.py:1: SettingWithCopyWarning: \n",
      "A value is trying to be set on a copy of a slice from a DataFrame.\n",
      "Try using .loc[row_indexer,col_indexer] = value instead\n",
      "\n",
      "See the caveats in the documentation: https://pandas.pydata.org/pandas-docs/stable/user_guide/indexing.html#returning-a-view-versus-a-copy\n",
      "  text['sentiment'] = text['snippet'].apply(lambda x: TextBlob(x).sentiment[0] )\n"
     ]
    },
    {
     "data": {
      "text/html": [
       "<div>\n",
       "<style scoped>\n",
       "    .dataframe tbody tr th:only-of-type {\n",
       "        vertical-align: middle;\n",
       "    }\n",
       "\n",
       "    .dataframe tbody tr th {\n",
       "        vertical-align: top;\n",
       "    }\n",
       "\n",
       "    .dataframe thead th {\n",
       "        text-align: right;\n",
       "    }\n",
       "</style>\n",
       "<table border=\"1\" class=\"dataframe\">\n",
       "  <thead>\n",
       "    <tr style=\"text-align: right;\">\n",
       "      <th></th>\n",
       "      <th>snippet</th>\n",
       "      <th>sentiment</th>\n",
       "    </tr>\n",
       "  </thead>\n",
       "  <tbody>\n",
       "    <tr>\n",
       "      <th>2</th>\n",
       "      <td>amazonin free 499 fulfilled amazon fast 2 hour...</td>\n",
       "      <td>0.300000</td>\n",
       "    </tr>\n",
       "    <tr>\n",
       "      <th>3</th>\n",
       "      <td>eat meal eat snack meal india shopping store g...</td>\n",
       "      <td>0.400000</td>\n",
       "    </tr>\n",
       "    <tr>\n",
       "      <th>4</th>\n",
       "      <td>eat page bigbasket allow u cater craving right...</td>\n",
       "      <td>0.317857</td>\n",
       "    </tr>\n",
       "    <tr>\n",
       "      <th>5</th>\n",
       "      <td>first know exciting new flavor offer please en...</td>\n",
       "      <td>0.228788</td>\n",
       "    </tr>\n",
       "    <tr>\n",
       "      <th>6</th>\n",
       "      <td>discover wide range meal mix gourmet food mirc...</td>\n",
       "      <td>0.408333</td>\n",
       "    </tr>\n",
       "  </tbody>\n",
       "</table>\n",
       "</div>"
      ],
      "text/plain": [
       "                                             snippet  sentiment\n",
       "2  amazonin free 499 fulfilled amazon fast 2 hour...   0.300000\n",
       "3  eat meal eat snack meal india shopping store g...   0.400000\n",
       "4  eat page bigbasket allow u cater craving right...   0.317857\n",
       "5  first know exciting new flavor offer please en...   0.228788\n",
       "6  discover wide range meal mix gourmet food mirc...   0.408333"
      ]
     },
     "execution_count": 45,
     "metadata": {},
     "output_type": "execute_result"
    }
   ],
   "source": [
    "text['sentiment'] = text['snippet'].apply(lambda x: TextBlob(x).sentiment[0] )\n",
    "text[['snippet','sentiment']].head()"
   ]
  },
  {
   "cell_type": "markdown",
   "id": "aaec8f5e",
   "metadata": {},
   "source": []
  },
  {
   "cell_type": "code",
   "execution_count": null,
   "id": "19734adf",
   "metadata": {},
   "outputs": [],
   "source": []
  },
  {
   "cell_type": "code",
   "execution_count": null,
   "id": "a25eaa75",
   "metadata": {},
   "outputs": [],
   "source": []
  },
  {
   "cell_type": "code",
   "execution_count": null,
   "id": "c93dbdd0",
   "metadata": {},
   "outputs": [],
   "source": []
  }
 ],
 "metadata": {
  "kernelspec": {
   "display_name": "Python 3 (ipykernel)",
   "language": "python",
   "name": "python3"
  },
  "language_info": {
   "codemirror_mode": {
    "name": "ipython",
    "version": 3
   },
   "file_extension": ".py",
   "mimetype": "text/x-python",
   "name": "python",
   "nbconvert_exporter": "python",
   "pygments_lexer": "ipython3",
   "version": "3.10.9"
  }
 },
 "nbformat": 4,
 "nbformat_minor": 5
}
