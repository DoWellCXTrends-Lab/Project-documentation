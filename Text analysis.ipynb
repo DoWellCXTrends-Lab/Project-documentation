{
 "cells": [
  {
   "cell_type": "markdown",
   "id": "b112c606",
   "metadata": {},
   "source": [
    "https://www.analyticsvidhya.com/blog/2022/01/four-of-the-easiest-and-most-effective-methods-of-keyword-extraction-from-a-single-text-using-python/"
   ]
  },
  {
   "cell_type": "code",
   "execution_count": 1,
   "id": "70776304",
   "metadata": {},
   "outputs": [
    {
     "data": {
      "text/plain": [
       "<bound method NDFrame.head of            result_type                        id   status  \\\n",
       "0             metadata  64f05e420f986612e4790c25  Success   \n",
       "1    search_parameters                       NaN      NaN   \n",
       "2              organic                       NaN      NaN   \n",
       "3              organic                       NaN      NaN   \n",
       "4              organic                       NaN      NaN   \n",
       "..                 ...                       ...      ...   \n",
       "381   related_searches                       NaN      NaN   \n",
       "382   related_searches                       NaN      NaN   \n",
       "383   related_searches                       NaN      NaN   \n",
       "384   related_searches                       NaN      NaN   \n",
       "385   related_searches                       NaN      NaN   \n",
       "\n",
       "                                         json_endpoint  \\\n",
       "0    https://serpapi.com/searches/0fe38a9c64a5b7b7/...   \n",
       "1                                                  NaN   \n",
       "2                                                  NaN   \n",
       "3                                                  NaN   \n",
       "4                                                  NaN   \n",
       "..                                                 ...   \n",
       "381                                                NaN   \n",
       "382                                                NaN   \n",
       "383                                                NaN   \n",
       "384                                                NaN   \n",
       "385                                                NaN   \n",
       "\n",
       "                  created_at  processe_at  \\\n",
       "0    2023-08-31 09:32:50 UTC          NaN   \n",
       "1                        NaN          NaN   \n",
       "2                        NaN          NaN   \n",
       "3                        NaN          NaN   \n",
       "4                        NaN          NaN   \n",
       "..                       ...          ...   \n",
       "381                      NaN          NaN   \n",
       "382                      NaN          NaN   \n",
       "383                      NaN          NaN   \n",
       "384                      NaN          NaN   \n",
       "385                      NaN          NaN   \n",
       "\n",
       "                                            google_url  \\\n",
       "0    https://www.google.co.in/search?q=instant+food...   \n",
       "1                                                  NaN   \n",
       "2                                                  NaN   \n",
       "3                                                  NaN   \n",
       "4                                                  NaN   \n",
       "..                                                 ...   \n",
       "381                                                NaN   \n",
       "382                                                NaN   \n",
       "383                                                NaN   \n",
       "384                                                NaN   \n",
       "385                                                NaN   \n",
       "\n",
       "                                         raw_html_file  total_time_taken  \\\n",
       "0    https://serpapi.com/searches/0fe38a9c64a5b7b7/...              2.47   \n",
       "1                                                  NaN               NaN   \n",
       "2                                                  NaN               NaN   \n",
       "3                                                  NaN               NaN   \n",
       "4                                                  NaN               NaN   \n",
       "..                                                 ...               ...   \n",
       "381                                                NaN               NaN   \n",
       "382                                                NaN               NaN   \n",
       "383                                                NaN               NaN   \n",
       "384                                                NaN               NaN   \n",
       "385                                                NaN               NaN   \n",
       "\n",
       "     engine  ...                                               link  \\\n",
       "0       NaN  ...                                                NaN   \n",
       "1    google  ...                                                NaN   \n",
       "2       NaN  ...  https://www.amazon.in/Instant-Food/s?k=Instant...   \n",
       "3       NaN  ...  https://www.flipkart.com/ready-to-eat/pr?sid=e...   \n",
       "4       NaN  ...  https://www.bigbasket.com/pc/snacks-branded-fo...   \n",
       "..      ...  ...                                                ...   \n",
       "381     NaN  ...  https://www.google.co.in/search?sca_esv=561590...   \n",
       "382     NaN  ...  https://www.google.co.in/search?sca_esv=561590...   \n",
       "383     NaN  ...  https://www.google.co.in/search?sca_esv=561590...   \n",
       "384     NaN  ...  https://www.google.co.in/search?sca_esv=561590...   \n",
       "385     NaN  ...  https://www.google.co.in/search?sca_esv=561590...   \n",
       "\n",
       "                                          serpapi_link tracking_link  \\\n",
       "0                                                  NaN           NaN   \n",
       "1                                                  NaN           NaN   \n",
       "2                                                  NaN           NaN   \n",
       "3                                                  NaN           NaN   \n",
       "4                                                  NaN           NaN   \n",
       "..                                                 ...           ...   \n",
       "381  https://serpapi.com/search.json?device=desktop...           NaN   \n",
       "382  https://serpapi.com/search.json?device=desktop...           NaN   \n",
       "383  https://serpapi.com/search.json?device=desktop...           NaN   \n",
       "384  https://serpapi.com/search.json?device=desktop...           NaN   \n",
       "385  https://serpapi.com/search.json?device=desktop...           NaN   \n",
       "\n",
       "    description                                     displayed_link  \\\n",
       "0           NaN                                                NaN   \n",
       "1           NaN                                                NaN   \n",
       "2           NaN  https://www.amazon.in › Instant-Food › k=Insta...   \n",
       "3           NaN            https://www.flipkart.com › ready-to-eat   \n",
       "4           NaN  https://www.bigbasket.com › ... › Ready to coo...   \n",
       "..          ...                                                ...   \n",
       "381         NaN                                                NaN   \n",
       "382         NaN                                                NaN   \n",
       "383         NaN                                                NaN   \n",
       "384         NaN                                                NaN   \n",
       "385         NaN                                                NaN   \n",
       "\n",
       "                                             thumbnail  \\\n",
       "0                                                  NaN   \n",
       "1                                                  NaN   \n",
       "2    https://serpapi.com/searches/64f05e420f986612e...   \n",
       "3    https://serpapi.com/searches/64f05e420f986612e...   \n",
       "4    https://serpapi.com/searches/64f05e420f986612e...   \n",
       "..                                                 ...   \n",
       "381                                                NaN   \n",
       "382                                                NaN   \n",
       "383                                                NaN   \n",
       "384                                                NaN   \n",
       "385                                                NaN   \n",
       "\n",
       "                                               favicon  \\\n",
       "0                                                  NaN   \n",
       "1                                                  NaN   \n",
       "2    https://serpapi.com/searches/64f05e420f986612e...   \n",
       "3    https://serpapi.com/searches/64f05e420f986612e...   \n",
       "4    https://serpapi.com/searches/64f05e420f986612e...   \n",
       "..                                                 ...   \n",
       "381                                                NaN   \n",
       "382                                                NaN   \n",
       "383                                                NaN   \n",
       "384                                                NaN   \n",
       "385                                                NaN   \n",
       "\n",
       "                                               snippet  \\\n",
       "0                                                  NaN   \n",
       "1                                                  NaN   \n",
       "2    Amazon.in: Instant Food. ... FREE Delivery ove...   \n",
       "3    Ready To Eat Meals: Buy Ready to Eat Snacks an...   \n",
       "4    Just order from our ready to eat food online p...   \n",
       "..                                                 ...   \n",
       "381                                                NaN   \n",
       "382                                                NaN   \n",
       "383                                                NaN   \n",
       "384                                                NaN   \n",
       "385                                                NaN   \n",
       "\n",
       "     snippet_highlighted_words     source  \n",
       "0                          NaN        NaN  \n",
       "1                          NaN        NaN  \n",
       "2                          NaN  Amazon.in  \n",
       "3                          NaN   Flipkart  \n",
       "4                          NaN  BigBasket  \n",
       "..                         ...        ...  \n",
       "381                        NaN        NaN  \n",
       "382                        NaN        NaN  \n",
       "383                        NaN        NaN  \n",
       "384                        NaN        NaN  \n",
       "385                        NaN        NaN  \n",
       "\n",
       "[386 rows x 33 columns]>"
      ]
     },
     "execution_count": 1,
     "metadata": {},
     "output_type": "execute_result"
    }
   ],
   "source": [
    "import pandas as pd\n",
    "df = pd.read_csv(\"C:/Users/Gazal V/Desktop/Dowell/all/demo_5.csv\")\n",
    "df.head\n"
   ]
  },
  {
   "cell_type": "code",
   "execution_count": 2,
   "id": "70ffe322",
   "metadata": {},
   "outputs": [],
   "source": [
    "df.drop(df.iloc[:, :30], inplace=True, axis=1)"
   ]
  },
  {
   "cell_type": "code",
   "execution_count": 3,
   "id": "f6e3cca6",
   "metadata": {},
   "outputs": [],
   "source": [
    "df.drop(df.iloc[:, 1:], inplace=True, axis=1)"
   ]
  },
  {
   "cell_type": "code",
   "execution_count": 4,
   "id": "fcafe7c1",
   "metadata": {},
   "outputs": [],
   "source": [
    "df= df.dropna()"
   ]
  },
  {
   "cell_type": "code",
   "execution_count": 5,
   "id": "9ca7b5fc",
   "metadata": {},
   "outputs": [
    {
     "data": {
      "text/html": [
       "<div>\n",
       "<style scoped>\n",
       "    .dataframe tbody tr th:only-of-type {\n",
       "        vertical-align: middle;\n",
       "    }\n",
       "\n",
       "    .dataframe tbody tr th {\n",
       "        vertical-align: top;\n",
       "    }\n",
       "\n",
       "    .dataframe thead th {\n",
       "        text-align: right;\n",
       "    }\n",
       "</style>\n",
       "<table border=\"1\" class=\"dataframe\">\n",
       "  <thead>\n",
       "    <tr style=\"text-align: right;\">\n",
       "      <th></th>\n",
       "      <th>snippet</th>\n",
       "    </tr>\n",
       "  </thead>\n",
       "  <tbody>\n",
       "    <tr>\n",
       "      <th>2</th>\n",
       "      <td>Amazon.in: Instant Food. ... FREE Delivery ove...</td>\n",
       "    </tr>\n",
       "    <tr>\n",
       "      <th>3</th>\n",
       "      <td>Ready To Eat Meals: Buy Ready to Eat Snacks an...</td>\n",
       "    </tr>\n",
       "    <tr>\n",
       "      <th>4</th>\n",
       "      <td>Just order from our ready to eat food online p...</td>\n",
       "    </tr>\n",
       "    <tr>\n",
       "      <th>5</th>\n",
       "      <td>Be the first to know about exciting new flavor...</td>\n",
       "    </tr>\n",
       "  </tbody>\n",
       "</table>\n",
       "</div>"
      ],
      "text/plain": [
       "                                             snippet\n",
       "2  Amazon.in: Instant Food. ... FREE Delivery ove...\n",
       "3  Ready To Eat Meals: Buy Ready to Eat Snacks an...\n",
       "4  Just order from our ready to eat food online p...\n",
       "5  Be the first to know about exciting new flavor..."
      ]
     },
     "execution_count": 5,
     "metadata": {},
     "output_type": "execute_result"
    }
   ],
   "source": [
    "df.head(4)"
   ]
  },
  {
   "cell_type": "code",
   "execution_count": 6,
   "id": "407acc37",
   "metadata": {},
   "outputs": [],
   "source": [
    "a = list(df['snippet'])"
   ]
  },
  {
   "cell_type": "code",
   "execution_count": 7,
   "id": "b3866939",
   "metadata": {},
   "outputs": [],
   "source": [
    "# converting list into string and then joining it with space\n",
    "b = ' '.join(str(e) for e in a)"
   ]
  },
  {
   "cell_type": "code",
   "execution_count": 8,
   "id": "d996833b",
   "metadata": {},
   "outputs": [
    {
     "name": "stdout",
     "output_type": "stream",
     "text": [
      "Amazon.in: Instant Food. ... FREE Delivery over ₹499. Fulfilled by Amazon. ... As fast as 2 hours delivery on orders above ₹ 499 of Fresh items. Ready To Eat Meals: Buy Ready to Eat Snacks and Meals at India's best online shopping store. ✓Genuine Products ✓Best Offers. Just order from our ready to eat food online page at bigbasket and allow us to cater to your food cravings. Right from those chatpata snacks to full spread ... Be the first to know about exciting new flavors and offers, please enter your email address below. Discover a wide range of ready meals, instant mixes, and gourmet foods at Mirchi.com. Enjoy delicious and convenient options for quick meals and snacks. Aashirvaad best healthy instant meals ready in minutes with boiling water and includes Khatta Meetha Poha, Veggie Upma, Suji Halwa with Jaggery, ... India's Largest Traditional Home-made Food Products Global Online Store since 2012. Traditional Bakshanam; Spice Products; Instant ... Shop ready-to-eat food products online. Get your favorite Indian meals ready in a minute. Taste delicious foods at the best price. Order now! Buy Ready to Eat food in India at our online branded foods store. Paytm Mall offers ready to eat food, Instant Meals, Instant Food at the best prices. Buy Ready To Eat Indian Food Online at best price. Choose from wide range of ready to eat foods offered by Desimealz. Order Now! The Taste Company or as we call it TTC, is an Instant Food Brand that is cooked with home-style recipes taken up by a Notch. In simple words, we prepare ... Find a wide variety of ready to eat snacks & meals online at the ITC store. We offer the best prices and fast shipping. Shop Instant Food products online at best price at Smytten. Explore wide range of Instant Food products from top brands in India. Buy online for Instant Noodles at snackstar India, a leading online shopping store. We deliver quality Instant cup Noodles at best prices at your doorstep. Shop Snacks Online. Explore a wide range of Instant Food and Snacks like Health Bars, Crunch Snacks, Candieds, etc at best prices at Fabindia. Buy Instant Mix Food Products Online. Shop wide range of Instant mixes like Upma Mix, Poha, Dhokla and (Payasma) Seviyan Kheer Mix. Noodles Price List ; 2. Maggi Nutri-Licious Masala Veg Atta Noodles, Rs.112 ; 3. Maggi Masala 2 Minutes Instant Noodles - Pack of 2, Rs.112 ; 4. Nestle Maggi Cuppa ... New Arrivals · Knorr Chinese Manchurian Gravy Mix · Shan Shoop Instant Noodles - Masala Flavor · Asian 2 Pm Noodles Hot & Spicy - 5 packs · Native Food Store ... Buy INSTANT FOODS Products online from Graceonline.in at lowest price and get it delivered to your doorstep. Best quality assured. Explore our collection of Instant Food online and enjoy convenient meals at home. Order now from Haldiram's wide range of options. Order now! Buy Ready To Cook & Instant Food online at low prices in India. Shop online wide range of Ready To Cook & Eat products from top brands MTR, ... Popular instant foods in UAE, noodles & pasta. Yummy & easy to cook. Buy noodles & pasta online at Quoodo wide range of Instant foods available at good ... Discover a wide selection of instant meals, ready-to-cook meals, and instant mixes on ... Shipping rates and delivery times may vary based on your location. Instant food mixes - shop instant mixes online in India for little ones. Our instant food mixes include oats kichadi, dates, almond, moong dal. Instant Meals · Misal Curry · Multigrain Uttapam · Pav Bhaji · Poha Delight · Tomato Upma · Upma Delight. Instant mix food products online - Nalamudan.in | Shop Online Sugar Free Low GI Apple Jam | Shop Online Adai Mix | Buy Online Tamarind Rice Mix / Pulikachal ... Maggi brand of packaged instant noodles is the most popular in India, ... also available on the list of online grocery stores like BigBasket in India. Buy Instant Food from Bengkart with best and cheapest price and get home delivery. Wewin Bazaar is online grocery, vegetables shopping & online super market. We provide quality product of daily essential home needs with attractive offers ... Manufacturer / Retailer Grow your business rapidly · Hub A place for earn inside home · Delivery Plece for earn in your free time. Manufacturer / Retailer Grow your business rapidly · Hub A place for earn inside home · Delivery Plece for earn in your free time. Fanchise of RCM Business Group. ::Hemalatha RCM Agencies:: 6-226/5, Opposite Ramayya Temple, K.Kotapadu, Visakhapatnam – 531034. Ph: +91 ... Ready to eat foods, Instant mix products and frozen food product at great price in India. Shop ready to cook food & instant mix products online from Sankalp ... MAGGI 2 Min Noodles Masala ... MAGGI 2-Minute Instant Noodle Chicken 65 Masala ... Food Cupboard, Baking Supplies, Food Colouring Online Grocery Store. Buy Instant Food Online at Best Price and Buy Ready To Eat Food Products Online Online at the best prices on Osiamart Book your order now! Search for a Product / Service · Frozen Food · Noodles & Vermicelli · Ready to Eat Food · Pasta & Soups · French Fries · Instant Mixes · Baby Foods · Breakfast Cereals. Eat Easy Foods is your packed food, meal or snack for students, adventure and business travelers. Healthy, nutritious, inexpensive & easy to cook travel ... We have temporarily disabled online orders on our website. Sorry for the convenience. For Order call: 98077 68077 97279 55855. Buy Instant Food products at best discounts in Kolkata from top brands like Maggi, ... Borges, MTR, Knorr with free shipping, easy returns and cash on delivery. This ready-to-eat and instant dal pack by Kitchens of India is another popular option that you can buy online. It does not contain any ... Bestselling Products · Instant Mixes · Ready Meals · Dairy · Open & Eat · Spice Mixes. Instant Food. Noodles & Soups; Table Spreads; Sauces,Jam,Pickles & Processed Food; Ready Mixes & Papad; Frozen Items; Biscuits & Chocolates; Namkeen ... Try our amazing collection of Instant Food mixes that are great for traveling with your baby. These mixes are all pre-cooked and you just need to add warm ... Indore.Online is an initiative to bring popular food categories, brands from Indore to Mumbai. We have ratlami sev, jeeravan, poha, namkeen, snacks, seasonal ... Order Instant Mixes Online from priya foods. Variety of Instant Mixes are Available - Upma mix, Pesarattu Mix, Dosa mix, Kheer Mix, ... Learn about Leela Foods ... Reviews. Leela Instant Foods ... If you already know what you want, kindly use our online order form to place an order. Breakfast Cereal (10); Choco Flakes (2); Choco Moons & Stars (3); Combo (23); Corn Flakes (2); Insta Range (12); Instant Mixes (8); Muesli (3) ... Get Fresh and Natural Ready to Cook Homemade food - Just Like Maa Used to Make ✓100% Natural ✓No preservatives ✓Premium quality ingredients. This is one of the top best online instant meat delivery company in Bangalore. in this we can buy fresh chemical free fish, antibiotic free chicken, duck and ... This is one of the top best online instant meat delivery company in Bangalore. in this we can buy fresh chemical free fish, antibiotic free chicken, duck and ... Zepto is a 10-min instant grocery delivery app. It has its own digital wallet in Zepto Cash. Zepto coupons and deals are popular in the online grocery space but ... Instant Coffee & Espresso Powder. Davidoff Rich Aroma Instant Coffee 100G Bottle ... Blended Spices. Conscious Food Asafoetida Hing 10G Jar. 1 Pc. MRP ₹393 ... Online Grocery Shopping Store in Coimbatore, We are the leading company for Online Grocery Store & Supermarket that provides 5000+ products and FREE ... Today's generation, no matter its age, is always busy. · If you have reservations about trying online papad and other food mixes, don't be! · Why choose our range ... Yu has crafted a wide range of delicious Instant Meal Bowls that contain ZERO preservatives, additives, artificial flavorings or colors. Order Ready to Eat online ✓ Authentic Indian ✓ Large selection ✓ 75.000 happy customers ... MTR - 200g Sambar Instant Soup Mix EUR 11.45 / kilogram. Delivery of essential products Only. As per current circumstances, we are unable to deliver instant food. We Apologise for the inconvenience caused. Shop Suhana Instant mix products online. A complete range of Instant Mix food products from Instant rice idli, Rava idli, Rava Dosa mix, Vada instant mix ... Shop for Snacks & Branded Foods online at affordable prices in India only at JioMart. ... Maggi 2-Minute Masala Instant Noodles 560 g. ₹87.00 ₹112.00. Thai Instant Food such as Noodles and Congee with no preservative made ... At Thai Snack Online, we offer a variety of flavours representing many Thai ... Find Instant Food stock images in HD and millions of other royalty-free stock photos, ... girl working at home placed an online order for food and received. A Cookbook for Special Days, Special People : From Shivesh With Love - https://amzn.to/3SCaYLf Connect with me online: Instagram ... Order food online from Instant Food House, Saroor Nagar, Hyderabad and get great offers and super-fast delivery on Zomato. Buy Instant and Frozen Food Online At The Best Price From The Swiggy Instamart. Order Now And Get Flat Rs.100 Off And Free Delivery On Your First Order. If you're in a hurry to cook a decent dinner, food items that are instant are your best choice. You can purchase ready-to-eat meals and mix from various brands ... Improve South Indian breakfasts and snacks with Ragala Foods' nutritious millet instant food mixes. Orders placed online can be delivered anywhere in the ... We provide variety of healthy baby foods/snacks online made with ragi, jowar, oats, & millet at the ... Instant Millet Noodles - Yummy Masala & Mild Masala. Authentic taste. Great Quality. Safe Products. From Breakfast to dinner, we've got you covered. Free delivery for orders above Rs 500. Order now! Ready to Eat Healthy Diet Meals Delivery Service in India, Now buy Healthy Diet Food & Meals Online at InstaDiet to Reach your weight, health, and workout ... Much has been written about how instant food and grocery delivery apps like Swiggy and BlinkIt — as part of India's burgeoning and ... Buy Instant Noodles online in Coimbatore. ... Sunfeast Yippee Magic Masala Noodles 4in1 pack Image. Sunfeast Yippee Magic Masala Noodles 4in1 pack. Buy ready to eat meals from our online store. Manna sells natural millet based cereals, infant foods, milk supplements and other everyday food products that provide high nutrition and are diabetic ... Looking for Ready to Eat Food in Germany? Here , fnbbasket offers you best deal on indian and asian instant food of different brands. Instant Rice Khichdi Powder (With Moongdal) Trial Pack [100g] ... Dry Fruits Powder for babies and kids Can be instantly added with any variety of foods ... SITARA FOODS is India's Biggest Online Store for Ordering Best tasting homemade pickles, sweets, snacks, masalas and karam podis. Shop for best quality ... Maggi Masala Noodles 560g · Maggi Masala Noodles 420g · Maggi Masala Noodles 70g · Top Ramen Masala Noodles 420g · Maggi Masala Noodles 140g · Maggi Veg Atta Noodles ... Instant food delivery — food arriving in 60 minutes or less — is an integration of online e-commerce transactions and offline logistics ... Noodles, sauces and instant food: Brands, for example, lays for chips, maggi for noodles, Nutella and bread for sandwiches and Britannia scones are the ... Tax included. Shipping is calculated at checkout. For urgent delivery of products, get in touch with us on WhatsApp: +91 7506704568 Important: Please enter ... EKirana is the most trusted Online Indian Grocery Shop in Europe, operating from the Netherlands. EKirana offers extensive range of fresh vegetables, ... INSTANT FOOD FROM JAPAN · Instant noodles set · Instant miso soup pack · Donbe kitsune udon · UFO Yakisoba noodles · Orignal Cup Noodles · Umaka Chan ... Get great deals on spices online and enhance every meal you make, or shop for ready to eat meals online for some instant goodness. More and more consumers will choose instant foods that carry local features, are endorsed by online celebrities, or are produced in small ... Pasta & Soups & Noodles, Sauces & Instant Food Online advertising. Off By RetailMarketing ... Nowadays everyone prefers food and beverages marketing . Shop Tops instant Noodles - 56g. Pouch online in India @ best price. Choose from exclusive range of delicious & tasty Noodles. Free shipping available. Vkshop: Buy Grocery Online | Daily Needs Supermarket. Search. My Cart 0. Home · About Us · Shop · Categories ... Home / Noodles, Sauces & Instant Food ... Microplastics have penetrated the food chain and are seeping into edible food for humans. Experts break down how plastic debris is entering ... Buy INSTANT FOOD & SNACK, BEETROOT PAPAD 100gm, GARLIC PAPAD 100gm, CUMIN PAPAD 100gm online at best prices. Get discounts on INSTANT FOOD & SNACK at ... Zomato says it will launch its 10-minute 'Instant' food delivery service in Gurugram from April 2022 · Claims it is not an April Fool's Day prank. Food deliveries; Online food aggregator Zomato recently said that it plans to deliver food to its customers in 10 minutes, a model. Find instant food manufacturers, suppliers, dealers & latest prices from top companies in India. Shop online from a wide range of instant food. Find & Download Free Graphic Resources for Instant Food. 94000+ Vectors, Stock Photos & PSD files. ✓ Free for commercial use ✓ High Quality Images. Willing to take your instant food business on ONDC network? ... of India (GoI) to facilitate ease of online selling to small Indian sellers. Order Instant Mixes Online from Ramdev Store. Variety of Instant Mixes, Instant Food Products are Available - Gulab Jamun, Khaman, Dhosa, Dahiwada, Idli, ... Under the new quick food delivery service, Zomato claims to deliver your food order in just 10 minutes, but there's a catch. Not all your food ... Packaging: Select instant Online Food In Train that are easily transportable in single servings or sealed containers. As a result, the risk of spoilage is ... Instant noodles, frozen dumplings, wontons and glutinous rice balls are ... The company said it has seen rapidly increasing demand of online ... 777 Dried Vathals, Bajji Bonda Mix, Dhideer® (Instant) Rice Paste Instant Rasam Paste,Thokku / Chutney,Dhideer® , Instant Mixes,Instant Culinary Pastes ... Packaging: Select instant Online Food In Train that are easily transportable in single servings or sealed containers. As a result, the risk of spoilage is ... Instant noodles, frozen dumplings, wontons and glutinous rice balls are ... The company said it has seen rapidly increasing demand of online ... 777 Dried Vathals, Bajji Bonda Mix, Dhideer® (Instant) Rice Paste Instant Rasam Paste,Thokku / Chutney,Dhideer® , Instant Mixes,Instant Culinary Pastes ... The Taste Company retails ready-to-eat instant meals like Prawn Rice, Dal Khichdi, Hyderabadi Chicken Rice and more. Know more and Shop On LBB! New Delhi: Food aggregator Zomato on Monday announced that the company is looking to rebrand its 10-minutes delivery service, Zomato Instant ... Each year, the internet meal delivery sector rises by 150%. Market Potential and Marketing Issues. As the younger population works and has ... Use Dunzo and get free home delivery in New Delhi order from restaurants nearby, groceries, buy online medicine, purchase meat online, book bike taxi and ... Here, you can easily buy ready to cook food online. Here is the list of some of the items you can pick to relish: Instant quinoa Dalia Mix:. Following the footsteps of instant grocery delivery firms, Online food delivery service provider Zomato will soon launch a 10-minute food ... Love ordering on online food delivery apps? ... They also offer instant package delivery service and is known as Swiggy Genie. Bengaluru: Ordinary instant noodles, pastas etc can be extremely ... Sell Waste Directly to Recyclers Online 4 Trio Help 50000 Deaf Persons ... Instant noodles are steeped in more than just hot water and seasoning. ... All were available for online order or delivery when we tested, ... When you pre-book from our exclusive menu at 15% off, every food item we carry on-board is ... Hot meals and hot beverages are not available on ATR flights. Zepto is your next-door quick commerce app, delivering online groceries,fruits,vegetables, personal care, electronics & much ... Frozen Food & Ice Creams. Blue Tribe Foods is a pioneer in plant-based meat products. Our mission is to provide delicious, sustainable food for everyone by using best natural ... Buy Instant Ready To Eat Meals online at the best price in India. Select from a large collection of Organic Products and shop online at Purely Natural. Shop online for Woolworths great range of Canned Food & Instant Meals. Delivered straight to your door or Pick up from your local store. McCain Foods Limited is a Canadian multinational frozen food company established in 1957 in Florenceville, New Brunswick, Canada. It is the world's largest ... Order online farm-fresh fruits, veggies, dairy products (milk, bread, eggs), groceries & more on Otipy. Order by 12:00 AM & get delivery by morning 08:00 AM ... Instant food delivery — food arriving in 60 minutes or less — is an integration of online e-commerce transactions and offline logistics ... The best instant noodles flood the body with warmth and comfort. ... in a red package with the iconic little delivery boy hard at work. Online Grocery Store in Delhi NCR: Modernbazaar.online is an online grocery store. Shop online for Groceries, fresh Fruits & Vegetables, Meat, eggs, fish, ... Shop authentic South Indian filter coffee, instant coffee and wholesome snacks at ... snacks were plentiful, and the simplest of foods were full of flavour. At Soulfull you can buy Ragi Bites, Millet Muesli, Smoothix, Instant Dosa Mix, Ragi Flakes at best price. Soulfull provides a wide range of natural and ... Order meat online in just a few clicks. Licious offers 100% fresh & best quality Chicken, Fish/Prawns and Mutton products online. Use code NEW20 and avail ... Order same-day delivery or pickup from more than 300 retailers and grocers. Download the Instacart app or start shopping online now with Instacart to get ... 競輪ソフト・スナイパークラブエディション特別買目完成記念10台限定販売 価格88000円永久ライセンス付き. 1 · 2 · 3 · 次へ. メルカリについて. Order food from restaurants or groceries from shops across Thailand with foodpanda ✓ Curated selection of dishes and items ✓ Safe and easy payment ... We make delicious and healthy Zero Preservatives, Zero Bad Fat Snacks (and more). Get authentic Sankethi Snacks and Ready-to-cook items delivered right at ... Food items brought into Australia need to be declared on your Incoming Passenger Card if you come by plane, or on the parcels you mail. FRUITS & VEGETABLES பழங்கள் மற்றும் காய்கறிகள். Image. STAPLESதானியங்கள். Image. PACKAGED FOODதொகுக்கப்பட்ட உணவு. There are so many reasons to love your multicooker, like all these mouthwatering Instant Pot recipes from Food Network—made just for the ... Buy Fresh Fish, Seafood, Prawns, Antibiotic free Chicken, Duck, Mutton, Goat, Kebab, Egg, Sausage, Momos online. Home delivered in Bangalore, Delhi, Mumbai, ... Instant® is a well-known brand of kitchen and home appliances. Find pressure cookers, air purifiers, air fryers & cookware. Ships to USA and Canada. Remarkable frozen ready meals, prepared by our own chefs and delivered to your door via our nationwide delivery service. Or discover your local COOK shop! Panda Express prepares American Chinese food fresh from the wok, from our signature Orange Chicken to bold ... Order Panda Express for pickup or delivery today! Nandus - One stop shop for buying fresh chicken, mutton and fish online. ... 2023 Nandus Foods Pvt. Ltd. All Rights Reserved. Get the Nandus App. Axis Bank's Grab Deals section gives you exciting online offers and deals for shopping, hotel & flight booking, medicine, lifestyle, and many more. Avail exciting instant discount at Croma stores using your Federal Bank Cards. ... holders on your Online Booking from Duty Free stores at Selected Airports ... Adyar Ananda Bhavan brings you delicious vegetarian food using fresh, quality ingredients catering to a ... Select Delivery Location ... Instant (28) ... Save-On-Foods is Western Canada's online grocery store. Our temperature controlled vans will deliver to your door. Order groceries for delivery or curbside ... Swiggy Money E-Gift Card(Instant Voucher) ... Swiggy is one of India's largest online food ordering platform. Order your favourite cuisines from restaurants ... Shop for Regular Grocery Items Online from Spencers. Buy Fruits & Vegetables, Meat & Fish, Household & Personal care items & more at attractive prices ... Learn how to get nutritious food for yourself and your family through SNAP (food stamps), D-SNAP, and WIC for women, infants, and children. Exciting Bank Offers Across Various Brands · 12% instant discount up to Rs.1200, Minimum booking Rs.5000 · iPhone Credit Card Offer · Everyday Delights Trendy ... Zipline is the world's largest autonomous delivery system, specializing in on-demand drone delivery and instant logistics. Sheng Siong Online is an online supermarket operated by Sheng Siong in Singapore. Discover our wide range of quality products including fresh produce, ... A credit card is a financial instrument to help you make instant credit based ... Get 15% Cashback on Food and Beverages at PVR; Get 5% Cashback on Movie ... You can also find many locally run food banks online or on social media. You need a referral to use a food bank. You can get one from:. Online recharge and bill payment made easy with MobiKwik. Now do mobile, dth & data card recharge, pay your electricity, gas, water, and landline bills ... Buy Instant Hot Snacks online at ASDA Groceries including instant noodles, microwavable rice and more. The same great prices as in store. Eating fish, poultry, beans, nuts, and vegetable oils. Many of these recommended foods can be found in the meal delivery kits, which deliver pre ... Shop our ready to eat meals range online or in-store. Enjoy our everyday low prices and fast delivery to your door. Our delivery logistics solutions are trusted by businesses because of ... Best in class logistics provider helping us in delivering food across the country. Online Offers. Top. All Offers; Offers This Week; Convert To EMI ... Up to 22.5% Instant Discount ... 10% Instant Discount at www.thewhitewillow.in. Get fast, convenient and instant express loans upto ₹5 Lakhs today. ... Use your LazyPay Credit offline and online - across millions of merchants. Natu Kodi Pickle (NO Abroad delivery). ₹460.00 ₹400.00 ... We work to make your every meal special with our pickles and spices. Aside from the tech specs, Instant Pots magically make meals that taste ... weeknight staple that you can now make faster than delivery. Get a Co-op delivery in under two hours from 99p and a £15 minimum spend. ... Premium lunch meal deal · Dinner for tonight · Ice cream parlour. Order again. The Key is Ingredients. We use the best quality ingredients in out products, that has made us win many hearts! FEATURED PRODUCT. anyone adds food or liquid to the pot without first checking if the inner pot is in ... Instant Potfs online store sells both clear and colored varieties . THE RULES FOR ONLINE DATING 62 privacy issues and making it difficult for Rules ... food, no one knew except your close girlfriends and the delivery guy. Online Shopping For All Kinds Of Packed Foods at Lowest Prices. Shop From a Wide Variety of Foods. Top Brands & Quality Products ✓COD✓FREE SHIPPING. Ready to eat meals. Just have boiled water with you and our packet and you are ready with your food within 5 minutes.\n"
     ]
    }
   ],
   "source": [
    "# printing result\n",
    "print(b)"
   ]
  },
  {
   "cell_type": "code",
   "execution_count": 9,
   "id": "d4236d1f",
   "metadata": {},
   "outputs": [
    {
     "name": "stdout",
     "output_type": "stream",
     "text": [
      "Requirement already satisfied: rake_nltk in c:\\users\\gazal v\\anaconda\\lib\\site-packages (1.0.6)\n",
      "Requirement already satisfied: nltk<4.0.0,>=3.6.2 in c:\\users\\gazal v\\anaconda\\lib\\site-packages (from rake_nltk) (3.7)\n",
      "Requirement already satisfied: joblib in c:\\users\\gazal v\\anaconda\\lib\\site-packages (from nltk<4.0.0,>=3.6.2->rake_nltk) (1.1.1)\n",
      "Requirement already satisfied: regex>=2021.8.3 in c:\\users\\gazal v\\anaconda\\lib\\site-packages (from nltk<4.0.0,>=3.6.2->rake_nltk) (2022.7.9)\n",
      "Requirement already satisfied: tqdm in c:\\users\\gazal v\\anaconda\\lib\\site-packages (from nltk<4.0.0,>=3.6.2->rake_nltk) (4.64.1)\n",
      "Requirement already satisfied: click in c:\\users\\gazal v\\anaconda\\lib\\site-packages (from nltk<4.0.0,>=3.6.2->rake_nltk) (8.0.4)\n",
      "Requirement already satisfied: colorama in c:\\users\\gazal v\\anaconda\\lib\\site-packages (from click->nltk<4.0.0,>=3.6.2->rake_nltk) (0.4.6)\n",
      "Note: you may need to restart the kernel to use updated packages.\n"
     ]
    },
    {
     "name": "stderr",
     "output_type": "stream",
     "text": [
      "WARNING: Ignoring invalid distribution -cipy (c:\\users\\gazal v\\anaconda\\lib\\site-packages)\n",
      "WARNING: Ignoring invalid distribution -cipy (c:\\users\\gazal v\\anaconda\\lib\\site-packages)\n",
      "WARNING: Ignoring invalid distribution -cipy (c:\\users\\gazal v\\anaconda\\lib\\site-packages)\n",
      "WARNING: Ignoring invalid distribution -cipy (c:\\users\\gazal v\\anaconda\\lib\\site-packages)\n",
      "WARNING: Ignoring invalid distribution -cipy (c:\\users\\gazal v\\anaconda\\lib\\site-packages)\n",
      "WARNING: Ignoring invalid distribution -cipy (c:\\users\\gazal v\\anaconda\\lib\\site-packages)\n"
     ]
    }
   ],
   "source": [
    "pip install rake_nltk"
   ]
  },
  {
   "cell_type": "code",
   "execution_count": 10,
   "id": "f6367b94",
   "metadata": {},
   "outputs": [],
   "source": [
    "from rake_nltk import Rake"
   ]
  },
  {
   "cell_type": "code",
   "execution_count": 11,
   "id": "18717c7a",
   "metadata": {},
   "outputs": [],
   "source": [
    "rake_nltk_var = Rake()"
   ]
  },
  {
   "cell_type": "code",
   "execution_count": 12,
   "id": "f08987bc",
   "metadata": {},
   "outputs": [],
   "source": [
    "rake_nltk_var.extract_keywords_from_text(b)"
   ]
  },
  {
   "cell_type": "code",
   "execution_count": 13,
   "id": "af035e0e",
   "metadata": {},
   "outputs": [],
   "source": [
    "keyword_extracted = rake_nltk_var.get_ranked_phrases()"
   ]
  },
  {
   "cell_type": "code",
   "execution_count": 14,
   "id": "ed051690",
   "metadata": {},
   "outputs": [
    {
     "name": "stdout",
     "output_type": "stream",
     "text": [
      "['best quality ... maggi masala noodles 560g · maggi masala noodles 420g · maggi masala noodles 70g · top ramen masala noodles 420g · maggi masala noodles 140g · maggi veg atta noodles ...', 'japan · instant noodles set · instant miso soup pack · donbe kitsune udon · ufo yakisoba noodles · orignal cup noodles · umaka chan ... get great deals', 'vegetables பழங ் கள ் மற ் ற ு ம ் க ா ய ் கற ி கள ்.', 'instant meals · misal curry · multigrain uttapam · pav bhaji · poha delight · tomato upma · upma delight', 'packaged foodத ொ க ு க ் கப ் பட ் ட உணவ ு.', 'nestle maggi cuppa ... new arrivals · knorr chinese manchurian gravy mix ·', 'soups · french fries · instant mixes · baby foods · breakfast cereals', '... bestselling products · instant mixes · ready meals · dairy · open', '5000 · iphone credit card offer · everyday delights trendy ... zipline', 'staplesத ா ன ி யங ் கள ்.', 'sankalp ... maggi 2 min noodles masala ... maggi 2', '5 packs · native food store ... buy instant foods products online', '... sunfeast yippee magic masala noodles 4in1 pack image', 'davidoff rich aroma instant coffee 100g bottle ... blended spices', 'masala flavor · asian 2 pm noodles hot', 'licious masala veg atta noodles', 'sunfeast yippee magic masala noodles 4in1 pack', 'minute instant noodle chicken 65 masala ... food cupboard', 'recyclers online 4 trio help 50000 deaf persons ...', '1 · 2 · 3 · 次へ', 'flavours representing many thai ... find instant food stock images', 'eat online ✓ authentic indian ✓ large selection ✓ 75', '200g sambar instant soup mix eur 11', 'maggi masala 2 minutes instant noodles', 'service · frozen food · noodles', 'us · shop · categories ... home', 'instant express loans upto ₹ 5 lakhs today', 'minute masala instant noodles 560 g', 'also find many locally run food banks online', 'selected airports ... adyar ananda bhavan brings', 'made food products global online store since 2012', 'panda express prepares american chinese food fresh', 'shop online sugar free low gi apple jam', 'exciting bank offers across various brands · 12', 'deliver quality instant cup noodles', 'landline bills ... buy instant hot snacks online', 'mrp ₹ 393 ... online grocery shopping store', 'earn inside home · delivery plece', 'earn inside home · delivery plece', 'premium lunch meal deal · dinner', '... shop authentic south indian filter coffee', 'quality products ✓ cod ✓ free shipping', ':: hemalatha rcm agencies :: 6', 'conscious food asafoetida hing 10g jar', 'commercial use ✓ high quality images', 'manna sells natural millet based cereals', 'tonight · ice cream parlour', 'get ... 競輪ソフト ・ スナイパークラブエディション特別買目完成記念10台限定販売 価格88000円永久ライセンス付き', 'make instant credit based ... get 15', 'top best online instant meat delivery company', 'top best online instant meat delivery company', 'top brands like maggi', 'retailmarketing ... nowadays everyone prefers food', '✓ genuine products ✓ best offers', 'canadian multinational frozen food company established', 'instant food mixes include oats kichadi', 'using best natural ... buy instant ready', 'also offer instant package delivery service', 'pulikachal ... maggi brand', 'asda groceries including instant noodles', '... buy instant noodles online', 'instant mixes like upma mix', 'shop suhana instant mix products online', 'eat instant meals like prawn rice', '... maggi 2', 'business rapidly · hub', 'business rapidly · hub', 'instant food delivery — food arriving', 'instant food delivery — food arriving', 'seasonal ... order instant mixes online', 'aashirvaad best healthy instant meals ready', 'online food aggregator zomato recently said', 'online food delivery service provider zomato', 'eat · spice mixes', 'preservatives ✓ premium quality ingredients', 'extremely ... sell waste directly', 'eat healthy diet meals delivery service', 'bold ... order panda express', 'quality products including fresh produce', 'buy instant mix food products online', 'april 2022 · claims', 'delivery times may vary based', 'rice paste instant rasam paste', 'rice paste instant rasam paste', 'eat food · pasta', 'online ... 777 dried vathals', 'online ... 777 dried vathals', 'packaged instant noodles', 'made us win many hearts', 'min instant grocery delivery app', 'class logistics provider helping us', 'instant potfs online store sells', 'best instant noodles flood', 'online dating 62 privacy issues', 'shop tops instant noodles', 'internet meal delivery sector rises', 'iconic little delivery boy hard', 'instant culinary pastes ... packaging', 'largest online food ordering platform', 'vada instant mix ... shop', 'instant quinoa dalia mix :.', 'entering ... buy instant food', 'instant pots magically make meals', 'offline logistics ... noodles', 'grab deals section gives', 'buy online tamarind rice mix', 'curbside ... swiggy money e', '... 2023 nandus foods pvt', 'food colouring online grocery store', 'instant mix food products online', '000 happy customers ... mtr', 'new quick food delivery service', 'ordering best tasting homemade pickles', 'delicious vegetarian food using fresh', 'minute food ... love ordering', 'shop instant food products online', 'largest ... order online farm', 'vermicelli · ready', 'grocery delivery apps like swiggy', 'instagram ... order food online', 'trusted online indian grocery shop', 'foodpanda ✓ curated selection', 'eat food products online online', 'nutritious millet instant food mixes', 'online grocery stores like bigbasket', 'includes khatta meetha poha', 'buy fresh chemical free fish', 'buy fresh chemical free fish', 'improve south indian breakfasts', 'instant millet noodles', 'instant culinary pastes ...', 'maggi nutri', 'shoop instant noodles', 'ordinary instant noodles', 'mild masala', 'home ·', 'find instant food manufacturers', 'yummy masala', '2 ); choco moons', 'instant food ... microplastics', 'instant mix products online', '12 ); instant mixes', 'instant mix food products', 'buy healthy diet food', 'buy instant food products', 'get authentic sankethi snacks', 'instant grocery delivery firms', 'instant food online advertising', 'shop instant mixes online', 'leela instant foods ...', '98077 68077 97279 55855', 'buy instant food online', 'maggi', 'bring popular food categories', 'largest autonomous delivery system', 'seen rapidly increasing demand', 'seen rapidly increasing demand', 'online food delivery apps', 'eat indian food online', '2 ); insta range', 'shop online adai mix', 'avail exciting instant discount', 'taste ... weeknight staple', '£ 15 minimum spend', 'foods ... sitara foods', 'mouthwatering instant pot recipes', 'instant dal pack', 'select instant online food', 'select instant online food', 'favorite indian meals ready', 'best online shopping store', 'food within 5 minutes', 'eat food products online', 'instant ... shop ready', '... popular instant foods', '23 ); corn flakes', '... food items brought', 'add warm ... indore', 'food network — made', 'eat food online page', 'delicious instant meal bowls', 'order instant mixes online', 'instant rice khichdi powder', 'instant noodles', 'instant noodles', 'instant noodles', 'instant noodles', 'online branded foods store', 'regular grocery items online', 'please enter ... ekirana', '... buy fresh fish', 'best quality chicken', 'get free home delivery', 'bill payment made easy', '... order meat online', '·', '·', 'leading online shopping store', 'temporarily disabled online orders', 'instant discount ... 10', 'buy noodles', 'everyday food products', 'upma mix', 'cumin papad 100gm online', 'noodles price list', 'download free graphic resources', 'zero bad fat snacks', 'remarkable frozen ready meals', '... dry fruits powder', 'ekirana offers extensive range', 'select delivery location ...', 'eat meals range online', 'asian instant food', 'paytm mall offers ready', 'pot without first checking', 'best quality ingredients', 'best quality assured', 'thai instant food', 'daily essential home needs', 'based meat products', 'taste company retails ready', 'snacks like health bars', 'get great offers', '10 ); choco flakes', 'healthy baby foods', 'instant mix products', 'various brands ...', 'top brands mtr', 'deliver pre ... shop', 'quality ingredients catering', 'great quality', 'instant food products', 'instant food products', 'everyday low prices', 'zomato instant ...', 'instant food mixes', 'instant food mixes', 'shop online wide range', 'prepare ... find', 'lazypay credit offline', 'free ... today', 'food ... packaging', 'tasty noodles', 'exciting new flavors', 'buy instant food', 'instant food online', 'instant food online', 'food delivery service', '... get fresh', '... also available', 'preservative made ...', 'online grocery store', 'online grocery store', 'online grocery store', 'online grocery store', 'veggie upma', 'dairy products', 'buy grocery online', 'woolworths great range', 'food aggregator zomato', 'croma stores using', '... free delivery', 'instant food business', 'leela foods ...', 'exciting online offers', 'door quick commerce app', 'instant dosa mix', 'provide quality product', 'nationwide delivery service', 'instant food house', 'instant food brand', '2 hours delivery', 'offline logistics ...', '... instant ®', 'eat meals online', 'eat meals online', 'make ✓ 100', 'minutes delivery service', 'items ✓ safe', 'deliver instant food', 'free stock photos', '... zomato says', 'frozen food online', 'get home delivery', 'online grocery space', 'snacks online made', 'healthy zero preservatives', 'find pressure cookers', 'branded foods online', 'biggest online store', 'get nutritious food', 'delivering food across', 'rcm business group', 'attractive offers ...', 'thai snack online', 'hyderabadi chicken rice', '... tax included', '... girl working', 'trial pack', 'instant rice idli', 'incoming passenger card', 'credit card', 'easy payment ...', 'buying fresh chicken', 'avail ... order', 'rules ... food', 'small indian sellers', 'start shopping online', 'demand drone delivery', 'noodles', 'noodles', 'noodles', 'noodles', 'noodles', 'noodles', 'antibiotic free chicken', 'antibiotic free chicken', 'antibiotic free chicken', 'range ... yu', 'bajji bonda mix', 'bajji bonda mix', 'meal delivery kits', 'like maa used', 'duty free stores', '... use dunzo', 'restaurants ... shop', 'largest traditional home', 'purchase meat online', '91 ... ready', 'workout ... much', 'shops across thailand', 'provide high nutrition', 'delivery logistics solutions', 'cook homemade food', 'shop snacks online', 'glutinous rice balls', 'glutinous rice balls', 'data card recharge', 'instant foods available', 'instant coffee', 'instant coffee', 'top brands', 'top brands', 'eat foods offered', 'food stamps ),', 'every food item', 'cook food online', 'anyone adds food', 'signature orange chicken', 'federal bank cards', 'mutton products online', '3 ); combo', 'cook travel ...', 'seviyan kheer mix', 'attractive prices ...', 'buy online medicine', 'trying online papad', 'enhance every meal', 'full spread ...', 'style recipes taken', 'choose instant foods', 'licious offers 100', 'mccain foods limited', 'blue tribe foods', 'cook items delivered right', 'rava dosa mix', 'frozen food product', 'daily needs supermarket', '✓ free', '8 ); muesli', 'taste delicious foods', 'online supermarket operated', 'garlic papad 100gm', 'beetroot papad 100gm', 'natural ✓', 'eat easy foods', 'delivering online groceries', 'online order form', 'younger population works', 'visakhapatnam – 531034', 'temperature controlled vans', 'provides 5000', 'per current circumstances', 'opposite ramayya temple', 'natu kodi pickle', 'https :// amzn', 'contain zero preservatives', '91 7506704568 important', 'new delhi order', 'every meal special', 'top companies', 'get flat rs', 'buy ragi bites', 'sheng siong online', 'deals', 'deals', 'authentic taste', 'easily buy ready', 'instant mixes', 'instant mixes', 'instant mixes', 'instant mixes', 'instant mixes', 'instant mixes', 'get 5', 'another popular option', '00 ₹ 400', 'abroad delivery ).', 'shop wide range', '... best', 'use code new20', 'orders placed online', 'instant meals', 'instant meals', 'instant meals', 'pack', 'local cook shop', 'hot meals', 'one stop shop', 'buy instant', 'online super market', 'instant food', 'instant food', 'instant food', 'instant food', 'instant food', 'instant food', 'instant food', 'instant food', 'instant food', 'instant food', 'great prices', 'spices online', 'free shipping available', 'great price', 'best deal', 'quoodo wide range', 'enjoy convenient meals', 'book bike taxi', 'instant logistics', 'delivery today', 'food mixes', 'online grocery', 'fresh vegetables', 'one knew except', 'meals online', 'meals online', 'personal care items', 'online store', 'vegetables shopping', '... swiggy', 'minimum booking rs', 'large collection', 'wide selection', 'quick meals', 'carry local features', 'buy online', 'buy online', 'get delivery', 'eat products', 'instant discount', 'instant discount', 'food bank', 'stock photos', 'shop online', 'shop online', 'shop online', 'shop online', 'breakfast cereal', 'eat meals', 'eat meals', 'eat meals', 'eat meals', 'eggs ), groceries', '00 ₹ 112', 'online shopping', 'spice products', 'essential products', 'frozen food', '... use', 'eat food', 'eat food', 'eat food', '... snacks', 'free delivery', 'free delivery', 'small ...', 'much ...', 'knorr', 'company said', 'company said', 'online offers', 'top', 'dosa mix', 'online e', 'online e', 'eat foods', 'safe products', 'explore wide range', 'kheer mix', 'new delhi', 'new brunswick', 'taste company', 'leading company', 'ready mixes', 'local store', 'instant voucher', 'instant goodness', 'food items', 'ready meals', 'movie ...', 'good ...', 'emi ...', 'diabetic ...', '... save', '... holders', '... borges', 'poha', 'poha', 'many reasons', '1 pc', 'low prices', 'fish online', 'zomato claims', 'deliver food', 'gift card', '00 ...', 'buy ready', 'buy ready', 'buy ready', 'buy ready', 'buy ready', 'buy ready', 'online recharge', 'fresh items', 'free shipping', '... zepto', 'organic products', 'best prices', 'best prices', 'best prices', 'best prices', 'best prices', 'best prices', 'cook meals', 'pesarattu mix', 'online booking', 'hot water', 'best price', 'best price', 'best price', 'best price', 'best price', 'best price', 'best price', 'best price', 'frozen items', 'online order', 'online order', 'shop ready', 'hot beverages', 'best discounts', 'best choice', 'order food', 'food order', 'namkeen ...', 'red package', 'please enter', 'great', 'get discounts', 'allow us', 'ramdev store', 'itc store', 'cook food', 'nandus app', 'millet muesli', 'microwavable rice', 'natural ready', 'eat snacks', 'eat snacks', 'get one', 'buy fruits', 'pouch online', 'pasta online', 'online selling', 'online celebrities', 'momos online', 'home placed', 'get fast', 'sustainable food', 'processed food', 'packed food', 'food deliveries', 'food cravings', 'food chain', 'edible food', 'canned food', '₹ 87', '₹ 499', '₹ 499', '₹ 460', 'axis bank', 'make delicious', 'baby', 'less —', 'less —', 'blinkit —', '... india', 'urgent delivery', 'op delivery', 'delivery guy', 'day delivery', 'fresh fruits', 'fresh fruits', 'marketing issues', 'little ones', 'ice creams', 'across millions', '100g', 'recommended foods', 'ragala foods', 'priya foods', 'packed foods', 'infant foods', 'gourmet foods', 'free time', 'free time', 'fast delivery', 'fast delivery', 'ragi flakes', 'purely natural', 'inner pot', 'frozen dumplings', 'frozen dumplings', 'espresso powder', 'dal khichdi', 'breakfast', 'home delivered', 'home appliances', 'provide delicious', 'swiggy instamart', 'swiggy genie', 'business travelers', '2', '2', 'fnbbasket offers', 'wide range', 'wide range', 'wide range', 'wide range', 'wide range', 'wide range', 'wide range', 'wide range', 'purchase ready', 'soups', 'soups', 'sheng siong', 'personal care', 'ondc network', 'offer', 'offer', 'make faster', 'help', 'decent dinner', 'april fool', '4', 'different brands', 'shipping rates', 'find', 'order ready', 'instacart app', 'indian', '60 minutes', '60 minutes', '10 minutes', '10 minutes', 'enjoy delicious', 'exclusive range', 'complete range', '5', '5', 'commerce transactions', 'commerce transactions', 'fast shipping', 'eating fish', 'first order', 'kindly use', 'order groceries', 'instant', 'instant', 'instant', 'instant', 'instant', 'wholesome snacks', 'crunch snacks', 'chatpata snacks', '...', '...', '...', '...', '...', '...', '...', '...', '...', '...', '...', '...', '...', '...', '...', '...', '...', '...', '...', '...', '...', '...', '...', '...', '...', 'two hours', 'traditional bakshanam', 'rava idli', 'market potential', 'many', 'many', 'known brand', 'jam', 'minute', 'minute', 'special people', 'special days', 'moong dal', 'flight booking', 'easy returns', 'easily transportable', 'easily transportable', 'vegetables', 'vegetables', 'vegetables', 'spices', '12', 'featured product', 'products', 'products', 'products', 'dhideer ®', 'dhideer ®', 'dhideer ®', 'dhideer ®', 'mix', 'lowest prices', 'latest prices', 'affordable prices', 'mixes', 'like', 'lowest price', 'cheapest price', 'best', 'wewin bazaar', 'vegetable oils', 'us', 'tech specs', 'table spreads', 'suji halwa', 'social media', 'single servings', 'single servings', 'simple words', 'sealed containers', 'sealed containers', 'saroor nagar', 'rights reserved', 'retailer grow', 'retailer grow', 'restaurants nearby', 'ratlami sev', 'psd files', 'plastic debris', 'osiamart book', 'morning 08', 'monday announced', 'meals', 'karam podis', 'instantly added', 'inconvenience caused', 'gulab jamun', 'get', 'get', 'get', 'get', 'get', 'financial instrument', 'favourite cuisines', 'facilitate ease', 'experts break', 'exclusive menu', 'email address', 'digital wallet', 'delivered straight', 'delivered anywhere', 'delhi ncr', 'day prank', 'colored varieties', 'close girlfriends', 'cart 0', 'britannia scones', 'baking supplies', 'atr flights', 'artificial flavorings', 'always busy', 'air purifiers', 'air fryers', '3scaylf connect', '300 retailers', '150 %.', '15', 'store', 'store', 'provide variety', 'healthy', 'rs 500', 'online', 'online', 'online', 'online', 'door via', 'order call', 'wide variety', 'wide variety', 'food', 'food', 'zepto coupons', 'boiling water', 'boiled water', 'meat', 'meat', 'beverages marketing', 'amazing collection', 'image', 'image', 'company', 'delivery', 'delivery', 'delivery', 'delivery', 'delivery', 'meal', 'shop', 'shop', 'shop', 'shop', 'fresh', 'soulfull provides', 'soon launch', 'pastas etc', 'oats', 'milk supplements', 'everyone', 'earn', 'earn', 'convenient options', 'foods', 'foods', 'foods', 'zomato', 'shopping', 'millet', 'natural', 'western canada', 'australia need', 'already know', 'home', 'home', 'eat', 'zepto cash', 'select', 'offers', 'offers', 'offers', 'snackstar india', 'trusted', 'nutritious', 'mtr', 'make', 'make', 'ingredients', 'dinner', 'customers', 'bigbasket', ':.', '3', '3', 'brands', 'brands', 'shipping', 'papad', 'items', 'minutes', 'delicious', 'nandus', 'deliver', 'deliver', 'fish', 'fish', 'fish', 'popular', 'popular', 'use', 'use', 'snacks', 'snacks', 'snacks', 'snacks', 'snacks', 'ready', 'ready', 'ready', 'ready', 'ready', 'ready', 'ready', 'ready', 'ready', 'ready', 'ready', 'ready', 'ready', 'ready', 'right', 'location', 'indore', 'health', 'download', 'supermarket', 'pickles', 'pickles', 'love', 'love', 'first', 'easy', 'easy', '100', 'groceries', 'groceries', 'groceries', 'order', 'order', 'order', 'order', 'order', 'order', 'order', 'order', 'order', 'order', 'order', 'order', 'product', 'orders', 'orders', 'cook', 'cook', 'cook', 'cook', 'super', 'rules', 'restaurants', 'ragi', 'pre', 'pre', 'pasta', 'pasta', 'medicine', 'idli', 'full', 'fruits', 'fruits', 'enjoy', 'eggs', 'delivered', 'delivered', 'delhi', 'convenient', 'contain', 'carry', 'book', '10', '10', '10', '10', ').', 'available', 'available', 'available', 'available', 'rs', 'rs', 'rs', 'one', 'one', 'one', '00', '00', '00', 'fast', 'door', 'door', 'door', 'zepto', 'water', 'mutton', 'mutton', 'list', 'list', 'explore', 'explore', 'collection', 'beverages', '112', '112', 'yummy', 'soulfull', 'snack', 'snack', 'snack', 'options', 'namkeen', 'millions', 'milk', 'launch', 'known', 'instacart', 'etc', 'choose', 'choose', 'choose', 'cash', 'call', 'variety', 'variety', 'variety', 'variety', 'need', 'need', 'know', 'know', 'canada', 'canada', 'india', 'india', 'india', 'india', 'india', 'india', 'india', 'india', 'india', 'india', 'india', 'india', 'india', 'india', 'india', 'india', 'india', 'india', 'メルカリについて', 'year', 'www', 'written', 'world', 'world', 'work', 'work', 'wontons', 'wontons', 'women', 'wok', 'willing', 'wic', 'whatsapp', 'well', 'weight', 'week', 'website', 'warmth', 'want', 'vkshop', 'veggies', 'vectors', 'usa', 'unable', 'uae', 'ttc', 'try', 'traveling', 'train', 'train', 'touch', 'thokku', 'thokku', 'thewhitewillow', 'tested', 'take', 'sweets', 'suppliers', 'students', 'steeped', 'stars', 'spoilage', 'spoilage', 'spicy', 'spencers', 'specializing', 'sorry', 'snap', 'snap', 'smytten', 'smoothix', 'singapore', 'simplest', 'shivesh', 'ships', 'seeping', 'seasoning', 'search', 'search', 'seafood', 'sausage', 'sauces', 'sauces', 'sauces', 'sauces', 'sandwiches', 'royalty', 'risk', 'risk', 'reviews', 'result', 'result', 'reservations', 'relish', 'referral', 'received', 'rebrand', 'reach', 'pvr', 'produced', 'prepared', 'prawns', 'prawns', 'poultry', 'plentiful', 'plant', 'plans', 'plane', 'place', 'place', 'place', 'pioneer', 'pickup', 'pickup', 'pick', 'pick', 'ph', 'penetrated', 'payasma', 'pay', 'part', 'parcels', 'packet', 'otipy', 'operating', 'nuts', 'nutella', 'notch', 'next', 'netherlands', 'nalamudan', 'mumbai', 'mumbai', 'multicooker', 'moongdal', 'modernbazaar', 'model', 'mobile', 'mobikwik', 'mission', 'mirchi', 'merchants', 'matter', 'masalas', 'manufacturer', 'manufacturer', 'making', 'mail', 'ltd', 'looking', 'looking', 'liquid', 'lifestyle', 'learn', 'learn', 'lbb', 'lays', 'kotapadu', 'kolkata', 'kitchens', 'kitchen', 'kinds', 'kilogram', 'kids', 'khaman', 'key', 'kebab', 'k', 'jowar', 'jiomart', 'jeeravan', 'jaggery', 'integration', 'integration', 'instadiet', 'initiative', 'infants', 'inexpensive', 'hyderabad', 'hurry', 'humans', 'household', 'hotel', 'hd', 'haldiram', 'gurugram', 'grocers', 'graceonline', 'got', 'goi', 'goat', 'germany', 'generation', 'gas', 'fulfilled', 'found', 'footsteps', 'following', 'florenceville', 'flavour', 'fanchise', 'family', 'fabindia', 'example', 'europe', 'endorsed', 'electronics', 'electricity', 'egg', 'duck', 'duck', 'duck', 'dth', 'doorstep', 'doorstep', 'dishes', 'discover', 'discover', 'discover', 'discover', 'difficult', 'dhosa', 'dhokla', 'desimealz', 'declared', 'dealers', 'dates', 'dahiwada', 'crafted', 'covered', 'country', 'cookware', 'cooked', 'cooked', 'cookbook', 'convert', 'convenience', 'consumers', 'congee', 'comfort', 'come', 'com', 'colors', 'coimbatore', 'coimbatore', 'co', 'clicks', 'clear', 'chutney', 'chutney', 'chocolates', 'chips', 'children', 'chefs', 'checkout', 'cater', 'catch', 'cashback', 'cashback', 'candieds', 'calculated', 'businesses', 'burgeoning', 'bread', 'bread', 'body', 'board', 'biscuits', 'bengkart', 'bengaluru', 'beans', 'bangalore', 'bangalore', 'bangalore', 'babies', 'aside', 'apologise', 'amazon', 'amazon', 'almond', 'age', 'adventure', 'additives', '99p', '94000', '56g', '45', '28', '226', '22', '1957', '1200']\n"
     ]
    }
   ],
   "source": [
    "print(keyword_extracted)"
   ]
  },
  {
   "cell_type": "code",
   "execution_count": 15,
   "id": "f405b3f2",
   "metadata": {},
   "outputs": [
    {
     "name": "stdout",
     "output_type": "stream",
     "text": [
      "Requirement already satisfied: yake in c:\\users\\gazal v\\anaconda\\lib\\site-packages (0.4.8)\n",
      "Requirement already satisfied: segtok in c:\\users\\gazal v\\anaconda\\lib\\site-packages (from yake) (1.5.11)\n",
      "Requirement already satisfied: numpy in c:\\users\\gazal v\\anaconda\\lib\\site-packages (from yake) (1.23.5)\n",
      "Requirement already satisfied: jellyfish in c:\\users\\gazal v\\anaconda\\lib\\site-packages (from yake) (0.9.0)\n",
      "Requirement already satisfied: click>=6.0 in c:\\users\\gazal v\\anaconda\\lib\\site-packages (from yake) (8.0.4)\n",
      "Requirement already satisfied: tabulate in c:\\users\\gazal v\\anaconda\\lib\\site-packages (from yake) (0.8.10)\n",
      "Requirement already satisfied: networkx in c:\\users\\gazal v\\anaconda\\lib\\site-packages (from yake) (2.8.4)\n",
      "Requirement already satisfied: colorama in c:\\users\\gazal v\\anaconda\\lib\\site-packages (from click>=6.0->yake) (0.4.6)\n",
      "Requirement already satisfied: regex in c:\\users\\gazal v\\anaconda\\lib\\site-packages (from segtok->yake) (2022.7.9)\n",
      "Note: you may need to restart the kernel to use updated packages.\n"
     ]
    },
    {
     "name": "stderr",
     "output_type": "stream",
     "text": [
      "WARNING: Ignoring invalid distribution -cipy (c:\\users\\gazal v\\anaconda\\lib\\site-packages)\n",
      "WARNING: Ignoring invalid distribution -cipy (c:\\users\\gazal v\\anaconda\\lib\\site-packages)\n",
      "WARNING: Ignoring invalid distribution -cipy (c:\\users\\gazal v\\anaconda\\lib\\site-packages)\n",
      "WARNING: Ignoring invalid distribution -cipy (c:\\users\\gazal v\\anaconda\\lib\\site-packages)\n",
      "WARNING: Ignoring invalid distribution -cipy (c:\\users\\gazal v\\anaconda\\lib\\site-packages)\n",
      "WARNING: Ignoring invalid distribution -cipy (c:\\users\\gazal v\\anaconda\\lib\\site-packages)\n"
     ]
    }
   ],
   "source": [
    "pip install yake"
   ]
  },
  {
   "cell_type": "code",
   "execution_count": 16,
   "id": "a3b2c7e3",
   "metadata": {},
   "outputs": [],
   "source": [
    "import yake"
   ]
  },
  {
   "cell_type": "code",
   "execution_count": 17,
   "id": "8930130c",
   "metadata": {},
   "outputs": [],
   "source": [
    "kw_extractor = yake.KeywordExtractor()"
   ]
  },
  {
   "cell_type": "code",
   "execution_count": 18,
   "id": "6f490279",
   "metadata": {},
   "outputs": [],
   "source": [
    "language = \"en\""
   ]
  },
  {
   "cell_type": "code",
   "execution_count": 19,
   "id": "1179c59d",
   "metadata": {},
   "outputs": [],
   "source": [
    "max_ngram_size = 3"
   ]
  },
  {
   "cell_type": "code",
   "execution_count": 20,
   "id": "ae744a53",
   "metadata": {},
   "outputs": [],
   "source": [
    "deduplication_threshold = 0.9"
   ]
  },
  {
   "cell_type": "code",
   "execution_count": 21,
   "id": "39c83777",
   "metadata": {},
   "outputs": [],
   "source": [
    "#numOfKeywords = 20"
   ]
  },
  {
   "cell_type": "code",
   "execution_count": 22,
   "id": "0469133b",
   "metadata": {},
   "outputs": [],
   "source": [
    "custom_kw_extractor = yake.KeywordExtractor(lan=language, n=max_ngram_size, dedupLim=deduplication_threshold, features=None)"
   ]
  },
  {
   "cell_type": "code",
   "execution_count": 23,
   "id": "82033fc7",
   "metadata": {},
   "outputs": [],
   "source": [
    "keywords = custom_kw_extractor.extract_keywords(b)"
   ]
  },
  {
   "cell_type": "code",
   "execution_count": 25,
   "id": "ccc2a52f",
   "metadata": {},
   "outputs": [],
   "source": [
    "list=[]"
   ]
  },
  {
   "cell_type": "code",
   "execution_count": 26,
   "id": "c87448f4",
   "metadata": {},
   "outputs": [],
   "source": [
    "for kw in keywords:\n",
    " list.append(kw)"
   ]
  },
  {
   "cell_type": "code",
   "execution_count": 29,
   "id": "e0e9c4cd",
   "metadata": {},
   "outputs": [
    {
     "data": {
      "text/plain": [
       "[('Instant Food', 0.0006741452222864838),\n",
       " ('Instant', 0.0010839578740673018),\n",
       " ('Instant Food online', 0.0012799275250301458),\n",
       " ('Food', 0.001592225223269166),\n",
       " ('Instant Food products', 0.0016368600699683434),\n",
       " ('online', 0.0018997074505863745),\n",
       " ('Instant food mixes', 0.0019409110485503398),\n",
       " ('food products online', 0.0020188508924067474),\n",
       " ('Instant Noodles', 0.0021181616630681593),\n",
       " ('Instant Mix Food', 0.002184613043784516),\n",
       " ('Buy Instant Food', 0.002321872606528267),\n",
       " ('instant Online Food', 0.0025598550500602916),\n",
       " ('instant mixes online', 0.0031919920773925766),\n",
       " ('Instant mix products', 0.0034560419848106115),\n",
       " ('instant mixes', 0.003919310258978579),\n",
       " ('food online', 0.003985505412183136),\n",
       " ('Food Products', 0.004146486200379027),\n",
       " ('Mix Food Products', 0.004331484900318999),\n",
       " ('Instant food delivery', 0.004657827449133665),\n",
       " ('Buy Instant', 0.005116622298535095)]"
      ]
     },
     "execution_count": 29,
     "metadata": {},
     "output_type": "execute_result"
    }
   ],
   "source": [
    "list"
   ]
  },
  {
   "cell_type": "code",
   "execution_count": 32,
   "id": "1648c97f",
   "metadata": {},
   "outputs": [],
   "source": [
    "df = pd.DataFrame(list)"
   ]
  },
  {
   "cell_type": "code",
   "execution_count": 33,
   "id": "ece333d8",
   "metadata": {},
   "outputs": [
    {
     "data": {
      "text/html": [
       "<div>\n",
       "<style scoped>\n",
       "    .dataframe tbody tr th:only-of-type {\n",
       "        vertical-align: middle;\n",
       "    }\n",
       "\n",
       "    .dataframe tbody tr th {\n",
       "        vertical-align: top;\n",
       "    }\n",
       "\n",
       "    .dataframe thead th {\n",
       "        text-align: right;\n",
       "    }\n",
       "</style>\n",
       "<table border=\"1\" class=\"dataframe\">\n",
       "  <thead>\n",
       "    <tr style=\"text-align: right;\">\n",
       "      <th></th>\n",
       "      <th>0</th>\n",
       "      <th>1</th>\n",
       "    </tr>\n",
       "  </thead>\n",
       "  <tbody>\n",
       "    <tr>\n",
       "      <th>0</th>\n",
       "      <td>Instant Food</td>\n",
       "      <td>0.000674</td>\n",
       "    </tr>\n",
       "    <tr>\n",
       "      <th>1</th>\n",
       "      <td>Instant</td>\n",
       "      <td>0.001084</td>\n",
       "    </tr>\n",
       "    <tr>\n",
       "      <th>2</th>\n",
       "      <td>Instant Food online</td>\n",
       "      <td>0.001280</td>\n",
       "    </tr>\n",
       "    <tr>\n",
       "      <th>3</th>\n",
       "      <td>Food</td>\n",
       "      <td>0.001592</td>\n",
       "    </tr>\n",
       "    <tr>\n",
       "      <th>4</th>\n",
       "      <td>Instant Food products</td>\n",
       "      <td>0.001637</td>\n",
       "    </tr>\n",
       "    <tr>\n",
       "      <th>5</th>\n",
       "      <td>online</td>\n",
       "      <td>0.001900</td>\n",
       "    </tr>\n",
       "    <tr>\n",
       "      <th>6</th>\n",
       "      <td>Instant food mixes</td>\n",
       "      <td>0.001941</td>\n",
       "    </tr>\n",
       "    <tr>\n",
       "      <th>7</th>\n",
       "      <td>food products online</td>\n",
       "      <td>0.002019</td>\n",
       "    </tr>\n",
       "    <tr>\n",
       "      <th>8</th>\n",
       "      <td>Instant Noodles</td>\n",
       "      <td>0.002118</td>\n",
       "    </tr>\n",
       "    <tr>\n",
       "      <th>9</th>\n",
       "      <td>Instant Mix Food</td>\n",
       "      <td>0.002185</td>\n",
       "    </tr>\n",
       "    <tr>\n",
       "      <th>10</th>\n",
       "      <td>Buy Instant Food</td>\n",
       "      <td>0.002322</td>\n",
       "    </tr>\n",
       "    <tr>\n",
       "      <th>11</th>\n",
       "      <td>instant Online Food</td>\n",
       "      <td>0.002560</td>\n",
       "    </tr>\n",
       "    <tr>\n",
       "      <th>12</th>\n",
       "      <td>instant mixes online</td>\n",
       "      <td>0.003192</td>\n",
       "    </tr>\n",
       "    <tr>\n",
       "      <th>13</th>\n",
       "      <td>Instant mix products</td>\n",
       "      <td>0.003456</td>\n",
       "    </tr>\n",
       "    <tr>\n",
       "      <th>14</th>\n",
       "      <td>instant mixes</td>\n",
       "      <td>0.003919</td>\n",
       "    </tr>\n",
       "    <tr>\n",
       "      <th>15</th>\n",
       "      <td>food online</td>\n",
       "      <td>0.003986</td>\n",
       "    </tr>\n",
       "    <tr>\n",
       "      <th>16</th>\n",
       "      <td>Food Products</td>\n",
       "      <td>0.004146</td>\n",
       "    </tr>\n",
       "    <tr>\n",
       "      <th>17</th>\n",
       "      <td>Mix Food Products</td>\n",
       "      <td>0.004331</td>\n",
       "    </tr>\n",
       "    <tr>\n",
       "      <th>18</th>\n",
       "      <td>Instant food delivery</td>\n",
       "      <td>0.004658</td>\n",
       "    </tr>\n",
       "    <tr>\n",
       "      <th>19</th>\n",
       "      <td>Buy Instant</td>\n",
       "      <td>0.005117</td>\n",
       "    </tr>\n",
       "  </tbody>\n",
       "</table>\n",
       "</div>"
      ],
      "text/plain": [
       "                        0         1\n",
       "0            Instant Food  0.000674\n",
       "1                 Instant  0.001084\n",
       "2     Instant Food online  0.001280\n",
       "3                    Food  0.001592\n",
       "4   Instant Food products  0.001637\n",
       "5                  online  0.001900\n",
       "6      Instant food mixes  0.001941\n",
       "7    food products online  0.002019\n",
       "8         Instant Noodles  0.002118\n",
       "9        Instant Mix Food  0.002185\n",
       "10       Buy Instant Food  0.002322\n",
       "11    instant Online Food  0.002560\n",
       "12   instant mixes online  0.003192\n",
       "13   Instant mix products  0.003456\n",
       "14          instant mixes  0.003919\n",
       "15            food online  0.003986\n",
       "16          Food Products  0.004146\n",
       "17      Mix Food Products  0.004331\n",
       "18  Instant food delivery  0.004658\n",
       "19            Buy Instant  0.005117"
      ]
     },
     "execution_count": 33,
     "metadata": {},
     "output_type": "execute_result"
    }
   ],
   "source": [
    "df"
   ]
  },
  {
   "cell_type": "code",
   "execution_count": 37,
   "id": "f5bf16f7",
   "metadata": {},
   "outputs": [
    {
     "data": {
      "text/html": [
       "<a download=\"df.csv\" href=\"data:text/csv;base64,LDAsMQ0KMCxJbnN0YW50IEZvb2QsMC4wMDA2NzQxNDUyMjIyODY0ODM4DQoxLEluc3RhbnQsMC4wMDEwODM5NTc4NzQwNjczMDE4DQoyLEluc3RhbnQgRm9vZCBvbmxpbmUsMC4wMDEyNzk5Mjc1MjUwMzAxNDU4DQozLEZvb2QsMC4wMDE1OTIyMjUyMjMyNjkxNjYNCjQsSW5zdGFudCBGb29kIHByb2R1Y3RzLDAuMDAxNjM2ODYwMDY5OTY4MzQzNA0KNSxvbmxpbmUsMC4wMDE4OTk3MDc0NTA1ODYzNzQ1DQo2LEluc3RhbnQgZm9vZCBtaXhlcywwLjAwMTk0MDkxMTA0ODU1MDMzOTgNCjcsZm9vZCBwcm9kdWN0cyBvbmxpbmUsMC4wMDIwMTg4NTA4OTI0MDY3NDc0DQo4LEluc3RhbnQgTm9vZGxlcywwLjAwMjExODE2MTY2MzA2ODE1OTMNCjksSW5zdGFudCBNaXggRm9vZCwwLjAwMjE4NDYxMzA0Mzc4NDUxNg0KMTAsQnV5IEluc3RhbnQgRm9vZCwwLjAwMjMyMTg3MjYwNjUyODI2Nw0KMTEsaW5zdGFudCBPbmxpbmUgRm9vZCwwLjAwMjU1OTg1NTA1MDA2MDI5MTYNCjEyLGluc3RhbnQgbWl4ZXMgb25saW5lLDAuMDAzMTkxOTkyMDc3MzkyNTc2Ng0KMTMsSW5zdGFudCBtaXggcHJvZHVjdHMsMC4wMDM0NTYwNDE5ODQ4MTA2MTE1DQoxNCxpbnN0YW50IG1peGVzLDAuMDAzOTE5MzEwMjU4OTc4NTc5DQoxNSxmb29kIG9ubGluZSwwLjAwMzk4NTUwNTQxMjE4MzEzNg0KMTYsRm9vZCBQcm9kdWN0cywwLjAwNDE0NjQ4NjIwMDM3OTAyNw0KMTcsTWl4IEZvb2QgUHJvZHVjdHMsMC4wMDQzMzE0ODQ5MDAzMTg5OTkNCjE4LEluc3RhbnQgZm9vZCBkZWxpdmVyeSwwLjAwNDY1NzgyNzQ0OTEzMzY2NQ0KMTksQnV5IEluc3RhbnQsMC4wMDUxMTY2MjIyOTg1MzUwOTUNCg==\" target=\"_blank\">Download CSV file</a>"
      ],
      "text/plain": [
       "<IPython.core.display.HTML object>"
      ]
     },
     "execution_count": 37,
     "metadata": {},
     "output_type": "execute_result"
    }
   ],
   "source": [
    "from IPython.display import HTML\n",
    "import base64 \n",
    "def create_download_link( loancsv, title = \"Download CSV file\", filename = \"df.csv\"):  \n",
    "    csv = df.to_csv()\n",
    "    b64 = base64.b64encode(csv.encode())\n",
    "    payload = b64.decode()\n",
    "    html = '<a download=\"{filename}\" href=\"data:text/csv;base64,{payload}\" target=\"_blank\">{title}</a>'\n",
    "    html = html.format(payload=payload,title=title,filename=filename)\n",
    "    return HTML(html)\n",
    "\n",
    "create_download_link(df)"
   ]
  },
  {
   "cell_type": "code",
   "execution_count": null,
   "id": "25255dbd",
   "metadata": {},
   "outputs": [],
   "source": []
  },
  {
   "cell_type": "code",
   "execution_count": 34,
   "id": "b2969007",
   "metadata": {},
   "outputs": [],
   "source": [
    "#df = pd.DataFrame(kw, columns =['Keyword'])"
   ]
  },
  {
   "cell_type": "code",
   "execution_count": null,
   "id": "7a18ca59",
   "metadata": {},
   "outputs": [],
   "source": []
  },
  {
   "cell_type": "code",
   "execution_count": null,
   "id": "059dbb13",
   "metadata": {},
   "outputs": [],
   "source": []
  },
  {
   "cell_type": "code",
   "execution_count": null,
   "id": "7b44da57",
   "metadata": {},
   "outputs": [],
   "source": []
  }
 ],
 "metadata": {
  "kernelspec": {
   "display_name": "Python 3 (ipykernel)",
   "language": "python",
   "name": "python3"
  },
  "language_info": {
   "codemirror_mode": {
    "name": "ipython",
    "version": 3
   },
   "file_extension": ".py",
   "mimetype": "text/x-python",
   "name": "python",
   "nbconvert_exporter": "python",
   "pygments_lexer": "ipython3",
   "version": "3.10.9"
  }
 },
 "nbformat": 4,
 "nbformat_minor": 5
}
